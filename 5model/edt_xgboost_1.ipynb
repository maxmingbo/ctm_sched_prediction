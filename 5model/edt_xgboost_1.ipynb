{
 "cells": [
  {
   "cell_type": "code",
   "execution_count": 12,
   "metadata": {},
   "outputs": [],
   "source": [
    "import pandas as pd\n",
    "from sklearn.metrics import mean_squared_error,mean_absolute_error\n",
    "from sklearn.cross_validation import train_test_split\n",
    "\n",
    "import xgboost as xgb\n",
    "\n",
    "dtr = xgb.XGBRegressor(max_depth=10, learning_rate=0.1)\n",
    "\n",
    "pd.options.mode.chained_assignment = None  # default='warn'\n",
    "\n",
    "train_list = ['180602', '180603', '180604', '180605', '180606', '180607', '180608', '180609', '180610',\\\n",
    "        '180611', '180612', '180613', '180614', '180615', '180616', '180617', '180618', '180619', '180620',\\\n",
    "        '180621', '180622', '180623', '180624', '180625', '180626', '180627', '180628', '180629', '180630',\\\n",
    "        '180701', '180702', '180703', '180704', '180705', '180706']\n",
    "\n",
    "valid_list = ['180707', '180708']\n",
    "\n",
    "test_list = ['180709', '180710', '180711', '180712', '180713', '180714', '180715']\n",
    "\n",
    "day_all = ['171211', '171212', '171213', '171214', '171215', '171216', '171217', '171218', '171219', '171220', \\\n",
    "           '171221', '171222', '171223', '171224', '171225', '171226', '171227', '171228', '171229', '171230', \\\n",
    "           '171231', '180101', '180102', '180104', '180105', '180106', '180107', '180108', '180109', '180110', \\\n",
    "           '180111', '180112', '180113', '180114', '180115', '180116', '180117', '180118', '180119', '180120', \\\n",
    "           '180121', '180122', '180123', '180124', '180125', '180126', '180127', '180128', '180129', '180130', '180131',\\\n",
    "           '180201', '180202', '180203', '180204', '180205', '180206', '180207', '180208', '180209', '180210',\\\n",
    "           '180211', '180212', '180213', '180214', '180215', '180216', '180217', '180218', '180219', '180220', \\\n",
    "           '180221', '180222', '180223', '180224', '180225', '180226', '180227', '180228', \\\n",
    "           '180301', '180302', '180303', '180304', '180305', '180306', '180307', '180308', '180309', '180310', \\\n",
    "           '180311', '180312', '180313', '180314', '180315', '180316', '180317', '180318', '180319', '180320',\\\n",
    "           '180321', '180322', '180323', '180324', '180325', '180326', '180327', '180328', '180329', '180330', '180331', \\\n",
    "           '180401', '180402', '180403', '180404', '180405', '180406', '180407', '180408', '180409', '180410', \\\n",
    "           '180411', '180412', '180413', '180414', '180415', '180416', '180417','180418', '180419', '180420',\\\n",
    "           '180421', '180422', '180423', '180424', '180425', '180426', '180427', '180428', '180429', '180430',\\\n",
    "           '180501', '180502', '180503', '180504', '180505', '180506', '180507', '180508', '180509', '180510',\\\n",
    "           '180511', '180512', '180513', '180514', '180515', '180516', '180517', '180518', '180519', '180520',\\\n",
    "           '180521', '180522', '180523', '180524', '180525', '180526', '180527', '180528', '180529', '180530',\\\n",
    "           '180531','180602', '180603', '180604', '180605', '180606', '180607', '180608', '180609', '180610',\\\n",
    "           '180611', '180612', '180613', '180614', '180615', '180616', '180617', '180618', '180619', '180620',\\\n",
    "           '180621', '180622', '180623', '180624', '180625', '180626', '180627', '180628', '180629', '180630',\\\n",
    "           '180701', '180702', '180703', '180704', '180705', '180706', '180707', '180708', '180709', '180710', \\\n",
    "           '180711', '180712', '180713', '180714', '180715','180716','180717']\n"
   ]
  },
  {
   "cell_type": "code",
   "execution_count": 2,
   "metadata": {},
   "outputs": [
    {
     "name": "stdout",
     "output_type": "stream",
     "text": [
      "180602 180603 180604 180605 180606 180607 180608 180609 180610 180611 180612 180613 180614 180615 180616 180617 180618 180619 180620 180621 180622 180623 180624 180625 180626 180627 180628 180629 180630 180701 180702 180703 180704 180705 180706 180707 180708 "
     ]
    }
   ],
   "source": [
    "#读取数据 按天\n",
    "\n",
    "# 划分训练集， 验证集 测试集\n",
    "\n",
    "train_df = []\n",
    "for day in train_list:\n",
    "    print(day,end=' ')   \n",
    "    day_all_data = pd.read_csv(r'E:\\jupyter\\CTM\\valid_data\\train/train_%s_edt.csv'%day)\n",
    "    \n",
    "    #day_all_data = day_all_data[day_all_data.end_time.notnull()]\n",
    "    \n",
    "    #过滤结束日期超过2天的\n",
    "    day_after_2 = day_all[day_all.index(day)+2]\n",
    "    day_after_2_int = int('20'+day_after_2+'000000')\n",
    "    day_all_data = day_all_data[day_all_data.end_time<day_after_2_int]\n",
    "    \n",
    "    train_df.append(day_all_data.sample(frac=0.1))\n",
    "    \n",
    "train = pd.concat(train_df, ignore_index=True)\n",
    "\n",
    "valid_df = []\n",
    "for day in valid_list:\n",
    "    print(day,end=' ')   \n",
    "    day_all_data = pd.read_csv(r'E:\\jupyter\\CTM\\valid_data\\train/train_%s_edt.csv'%day)\n",
    "    #day_all_data = day_all_data[day_all_data.end_time.notnull()]\n",
    "    day_after_2 = day_all[day_all.index(day)+2]\n",
    "    day_after_2_int = int('20'+day_after_2+'000000')\n",
    "    day_all_data = day_all_data[day_all_data.end_time<day_after_2_int]\n",
    "    \n",
    "    valid_df.append(day_all_data)\n",
    "    \n",
    "valid = pd.concat(valid_df, ignore_index=True)\n",
    "\n",
    "# test_df = []\n",
    "\n",
    "# for day in test_list:\n",
    "#     print(day,end=' ')   \n",
    "#     day_all_data = pd.read_csv(r'E:\\jupyter\\CTM\\valid_data\\train/train_%s_edt.csv'%day)\n",
    "#     day_all_data = day_all_data[day_all_data.end_time.notnull()]\n",
    "#     test_df.append(day_all_data)\n",
    "    \n",
    "# test = pd.concat(test_df, ignore_index=True)\n"
   ]
  },
  {
   "cell_type": "code",
   "execution_count": 4,
   "metadata": {},
   "outputs": [
    {
     "name": "stdout",
     "output_type": "stream",
     "text": [
      "(193399, 205)\n",
      "(48350, 205)\n",
      "(282678, 205)\n"
     ]
    }
   ],
   "source": [
    "\n",
    "\n",
    "train = train.round(3)\n",
    "valid = valid.round(3)\n",
    "\n",
    "\n",
    "#过滤训练不需要的数据字段\n",
    "cols_train =[clm for clm in valid.columns if clm not in ['order_id','job_name','v_date','order_d','from_time_1000_start',\\\n",
    "                                                            'start_time','end_time','order_id','job_name','day_0_bef_start_time',\\\n",
    "                                                            'day_0_bef_end_time']]\n",
    "\n",
    "\n",
    "valid_x = valid[cols_train]\n",
    "valid_y = valid['day_0_bef_end_time']\n",
    "\n",
    "train_x,test_x,train_y,test_y = train_test_split(train[cols_train],train['day_0_bef_end_time'],random_state=33,test_size=0.2)\n",
    "\n",
    "print(train_x.shape)\n",
    "print(test_x.shape)\n",
    "print(valid_x.shape)"
   ]
  },
  {
   "cell_type": "code",
   "execution_count": null,
   "metadata": {},
   "outputs": [],
   "source": [
    "# 训练时不需要的特征\n",
    "v_date\torder_d\tfrom_time_1000_start\n",
    "start_time\tend_time\n",
    "order_id\tjob_name\n",
    "day_0_bef_start_time\tday_0_bef_end_time\n"
   ]
  },
  {
   "cell_type": "code",
   "execution_count": 14,
   "metadata": {},
   "outputs": [
    {
     "name": "stdout",
     "output_type": "stream",
     "text": [
      "valid:\n",
      "87.8621624625\n",
      "20347.1576495\n",
      "\n",
      "train:\n",
      "67.5874337466\n",
      "17802.2401908\n"
     ]
    }
   ],
   "source": [
    "\n",
    "\n",
    "\n",
    "dtr.fit(train_x,train_y)\n",
    "\n",
    "valid_predict = dtr.predict(valid_x)\n",
    "\n",
    "test_predict = dtr.predict(test_x)\n",
    "\n",
    "print('valid:')\n",
    "print(mean_absolute_error(valid_y,valid_predict))\n",
    "print(mean_squared_error(valid_y,valid_predict))\n",
    "\n",
    "print()\n",
    "print('train:')\n",
    "print(mean_absolute_error(test_y,test_predict))\n",
    "print(mean_squared_error(test_y,test_predict))"
   ]
  },
  {
   "cell_type": "code",
   "execution_count": 10,
   "metadata": {},
   "outputs": [
    {
     "name": "stdout",
     "output_type": "stream",
     "text": [
      "91.9653195614\n",
      "24218.1828896\n"
     ]
    }
   ],
   "source": [
    "day_all_data = pd.read_csv(r'E:\\jupyter\\CTM\\valid_data\\train\\train_180707_edt.csv')\n",
    "#day_all_data = pd.read_csv(r'E:\\jupyter\\CTM\\valid_data\\train/train_%s_edt.csv')\n",
    "day_all_data = day_all_data[day_all_data.end_time.notnull()]\n",
    "test_predict = dtr.predict(day_all_data[cols_train])\n",
    "\n",
    "print(mean_absolute_error(test_predict,day_all_data['day_0_bef_end_time']))\n",
    "print(mean_squared_error(test_predict,day_all_data['day_0_bef_end_time']))"
   ]
  },
  {
   "cell_type": "code",
   "execution_count": 15,
   "metadata": {},
   "outputs": [
    {
     "name": "stdout",
     "output_type": "stream",
     "text": [
      "84.2841424267\n",
      "16865.4312558\n"
     ]
    }
   ],
   "source": [
    "day_all_data = pd.read_csv(r'E:\\jupyter\\CTM\\valid_data\\train\\train_180708_edt.csv')\n",
    "#day_all_data = pd.read_csv(r'E:\\jupyter\\CTM\\valid_data\\train/train_%s_edt.csv')\n",
    "day_all_data = day_all_data[day_all_data.end_time.notnull()]\n",
    "\n",
    "test_predict = dtr.predict(day_all_data[cols_train])\n",
    "\n",
    "print(mean_absolute_error(test_predict,day_all_data['day_0_bef_end_time']))\n",
    "print(mean_squared_error(test_predict,day_all_data['day_0_bef_end_time']))\n",
    "\n",
    "day_all_data['predict_endt'] = test_predict\n",
    "\n",
    "day_all_data.to_csv('error_anlaysis.csv')"
   ]
  },
  {
   "cell_type": "code",
   "execution_count": null,
   "metadata": {},
   "outputs": [],
   "source": []
  }
 ],
 "metadata": {
  "kernelspec": {
   "display_name": "Python 3",
   "language": "python",
   "name": "python3"
  },
  "language_info": {
   "codemirror_mode": {
    "name": "ipython",
    "version": 3
   },
   "file_extension": ".py",
   "mimetype": "text/x-python",
   "name": "python",
   "nbconvert_exporter": "python",
   "pygments_lexer": "ipython3",
   "version": "3.6.3"
  }
 },
 "nbformat": 4,
 "nbformat_minor": 2
}
