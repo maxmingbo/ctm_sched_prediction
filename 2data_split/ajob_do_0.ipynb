{
 "cells": [
  {
   "cell_type": "code",
   "execution_count": 18,
   "metadata": {},
   "outputs": [],
   "source": [
    "# 主要是对ajob表进行去重\n",
    "import pandas as pd\n",
    "import datetime\n",
    "import time\n",
    "pd.options.mode.chained_assignment = None  # default='warn'"
   ]
  },
  {
   "cell_type": "code",
   "execution_count": null,
   "metadata": {},
   "outputs": [],
   "source": []
  },
  {
   "cell_type": "code",
   "execution_count": 25,
   "metadata": {},
   "outputs": [],
   "source": [
    "before_day = ['180602', '180603', '180604', '180605', '180606', '180607', '180608', '180609', '180610',\\\n",
    "           '180611', '180612', '180613', '180614', '180615', '180616', '180617', '180618', '180619', '180620',\\\n",
    "           '180621', '180622', '180623', '180624', '180625', '180626', '180627', '180628', '180629', '180630',\\\n",
    "           '180701', '180702', '180703', '180704', '180705']\n",
    "\n",
    "day_all = ['180716', '180717', '180718', '180719', '180720', '180721', '180722', '180723', '180724', '180725',\\\n",
    "           '180726', '180727', '180728', '180729', '180730', '180731', '180801', '180802', '180803', '180804',\\\n",
    "           '180805', '180806', '180807', '180808', '180809', '180810', '180811', '180812', '180813', '180814',\\\n",
    "           '180815', '180816', '180817', '180818', '180819', '180820', '180821', '180822',  '180826',\\\n",
    "           '180827', '180828', '180829', '180830', '180831', '180901', '180902', '180903', '180904', '180905',\\\n",
    "           '180906', '180907', '180908', '180909', '180910', '180911', '180912', '180913', '180914', '180915',\\\n",
    "           '180916', '180917', '180918', '180919', '180920', '180921', '180922', '180923', '180924', '180925', \\\n",
    "            '180926', '180927', '180928', '180929', '180930', '181001', '181002', '181003', '181004', '181005', \\\n",
    "           '181006', '181007', '181008', '181009', '181010', '181011', '181012', '181013', '181014', '181015', \\\n",
    "           '181016', '181017', '181018', '181019', '181020', '181021',\\\n",
    "           '181022', '181023', '181024', '181025', '181026', '181027', '181028', '181029', '181030', \\\n",
    "           '181031', '181101', '181102', '181103', '181104', '181105', '181106', '181107', '181108', '181109',\\\n",
    "           '181110', '181111']\n",
    "pred_day = ['181105', '181106', '181107', '181108', '181109','181110', '181111']\n",
    "\n",
    "def get_avg_run_stat_mint(s):\n",
    "    # 把时间转换成10进制数据  60进制-->100进制\n",
    "    if s is None:\n",
    "        return None\n",
    "    else:\n",
    "        h = s//10000\n",
    "        m = (s%10000)//100\n",
    "        \n",
    "        s = s%100 #不用精确到秒\n",
    "        return h*60+m+s/60\n"
   ]
  },
  {
   "cell_type": "code",
   "execution_count": 26,
   "metadata": {},
   "outputs": [
    {
     "name": "stdout",
     "output_type": "stream",
     "text": [
      "180602 180603 180604 180605 180606 180607 180608 180609 180610 180611 180612 180613 180614 180615 180616 180617 180618 180619 180620 180621 180622 180623 180624 180625 180626 180627 180628 180629 180630 180701 180702 180703 180704 180705 "
     ]
    }
   ],
   "source": [
    "#for day in day_all:\n",
    "for day in before_day:\n",
    "    \n",
    "    #day = '180603'   #调试用\n",
    "    \n",
    "    \n",
    "    day_4_hour = int('20'+day +'040000')\n",
    "    day_int = int(day)\n",
    "    day_begain = int('20'+day+'000000')\n",
    "\n",
    "    #---------------------------------------------------------------------------------------------------\n",
    "    if day in pred_day:\n",
    "        ajob = pd.read_csv(r'E:\\jupyter\\CTM\\data_src\\ajob\\ajob_%s_0_.txt'%day,low_memory=False)\n",
    "    else:\n",
    "        ajob = pd.read_csv(r'E:\\jupyter\\CTM\\data_src\\ajob\\ajob_%s_0.txt'%day,low_memory=False)\n",
    "    ajob = ajob[ajob['order_time']<=day_4_hour]\n",
    "    #ajob = ajob[ajob.end_time<= day_after_end]\n",
    "    ajob = ajob[ajob.odate==day_int]\n",
    "    ajob = ajob[ajob.task_type!='SMART Table']\n",
    "    ajob = ajob.sort_values(by='end_time')\n",
    "    \n",
    "    \n",
    "    ajob.drop_duplicates('job_name', keep='first', inplace=True)\n",
    "    ajob['server'] = ajob['server'].apply(str)\n",
    "    ajob['order_id'] = ajob[['order_id','server']].apply(lambda x:x[0]+x[1],axis =1)\n",
    "    \n",
    "    ajob['avg_runtime'] = ajob['avg_runtime'].apply(get_avg_run_stat_mint)\n",
    "    ajob['avg_start_time'] = ajob['avg_start_time'].apply(get_avg_run_stat_mint)\n",
    "    \n",
    "    \n",
    "    ajob.drop('order_d',axis=1,inplace=True)\n",
    "    ajob.drop('interval',axis=1,inplace=True)\n",
    "    ajob.drop('odate',axis=1,inplace=True)\n",
    "    ajob.drop('confirm_flag',axis=1,inplace=True)\n",
    "    ajob.drop('job_id',axis=1,inplace=True)\n",
    "    ajob.drop('next_time',axis=1,inplace=True)\n",
    "    ajob.drop('to_time',axis=1,inplace=True)\n",
    "    ajob.drop('delete_flag',axis=1,inplace=True)\n",
    "    ajob.drop('rerun_counter',axis=1,inplace=True)\n",
    "    ajob.drop('prev_odate_rerun_counter',axis=1,inplace=True)\n",
    "    ajob.drop('cpu_time',axis=1,inplace=True)\n",
    "    ajob.drop('cpu_id',axis=1,inplace=True)\n",
    "    \n",
    "    dat_start = datetime.datetime.strptime(str(day_begain),'%Y%m%d%H%M%S')\n",
    "    def f_get_mint_bef(x):\n",
    "        if x ==-1:\n",
    "            return None\n",
    "        else:\n",
    "            dat_t = datetime.datetime.strptime(str(x),'%Y%m%d%H%M%S')\n",
    "            dt = (dat_t-dat_start).total_seconds()//60\n",
    "            return dt\n",
    "    ajob['edt'] = ajob['end_time'].fillna(-1).apply(int).apply(f_get_mint_bef)\n",
    "    \n",
    "    ajob = ajob.round(3)\n",
    "    ajob.to_csv(r'E:\\jupyter\\CTM\\data_src\\ajob_0\\ajob_%s_0.csv'%day,index=False)\n",
    "    \n",
    "    print(day,end=' ')"
   ]
  },
  {
   "cell_type": "code",
   "execution_count": 13,
   "metadata": {},
   "outputs": [
    {
     "data": {
      "text/plain": [
       "260556   -1.0\n",
       "260565   -1.0\n",
       "260567   -1.0\n",
       "261171   -1.0\n",
       "261203   -1.0\n",
       "Name: end_time, dtype: float64"
      ]
     },
     "execution_count": 13,
     "metadata": {},
     "output_type": "execute_result"
    }
   ],
   "source": [
    "ajob['end_time'].fillna(-1).tail()"
   ]
  },
  {
   "cell_type": "code",
   "execution_count": null,
   "metadata": {},
   "outputs": [],
   "source": []
  }
 ],
 "metadata": {
  "kernelspec": {
   "display_name": "Python 3",
   "language": "python",
   "name": "python3"
  },
  "language_info": {
   "codemirror_mode": {
    "name": "ipython",
    "version": 3
   },
   "file_extension": ".py",
   "mimetype": "text/x-python",
   "name": "python",
   "nbconvert_exporter": "python",
   "pygments_lexer": "ipython3",
   "version": "3.6.3"
  }
 },
 "nbformat": 4,
 "nbformat_minor": 2
}
