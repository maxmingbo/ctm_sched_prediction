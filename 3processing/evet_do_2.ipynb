{
 "cells": [
  {
   "cell_type": "markdown",
   "metadata": {},
   "source": [
    "### 统计作业在事件表中开始和结束时间"
   ]
  },
  {
   "cell_type": "code",
   "execution_count": 1,
   "metadata": {},
   "outputs": [],
   "source": [
    "import pandas as pd\n",
    "import datetime\n",
    "import time\n",
    "import seaborn as sns\n",
    "\n",
    "pd.options.mode.chained_assignment = None  # default='warn'"
   ]
  },
  {
   "cell_type": "code",
   "execution_count": 11,
   "metadata": {},
   "outputs": [],
   "source": [
    "d_list = ['181022', '181023', '181024', '181025', '181026', '181027', '181028', '181029', '181030', \\\n",
    "         '181031', '181101', '181102', '181103', '181104',\\\n",
    "         '181105', '181106', '181107', '181108', '181109', '181110', '181111']\n",
    "\n",
    "day_all = ['180501', '180502', '180503', '180504', '180505', '180506', '180507', '180508', '180509', '180510',\\\n",
    "           '180511', '180512', '180513', '180514', '180515', '180516', '180517', '180518', '180519', '180520',\\\n",
    "           '180521', '180522', '180523', '180524', '180525', '180526', '180527', '180528', '180529', '180530',\\\n",
    "           '180531','180602', '180603', '180604', '180605', '180606', '180607', '180608', '180609', '180610',\\\n",
    "           '180611', '180612', '180613', '180614', '180615', '180616', '180617', '180618', '180619', '180620',\\\n",
    "           '180621', '180622', '180623', '180624', '180625', '180626', '180627', '180628', '180629', '180630',\\\n",
    "           '180701', '180702', '180703', '180704', '180705', '180706', '180707', '180708', '180709', '180710', \\\n",
    "           '180711', '180712', '180713', '180714', '180715',\\\n",
    "           '180716', '180717', '180718', '180719', '180720', '180721', '180722', '180723', '180724', '180725',\\\n",
    "           '180726', '180727', '180728', '180729', '180730', '180731', '180801', '180802', '180803', '180804',\\\n",
    "           '180805', '180806', '180807', '180808', '180809', '180810', '180811', '180812', '180813', '180814',\\\n",
    "           '180815', '180816', '180817', '180818', '180819', '180820', '180821', '180822', \\\n",
    "           '180828', '180829', '180830', '180831', '180901', '180902', '180903', '180904', '180905',\\\n",
    "           '180906', '180907', '180908', '180909', '180910', '180911', '180912', '180913', '180914', '180915',\\\n",
    "           '180916', '180917', '180918', '180919', '180920', '180921', '180922', '180923', '180924', '180925', \\\n",
    "            '180926', '180927', '180928', '180929', '180930', '181001', '181002', '181003', '181004', '181005', \\\n",
    "           '181006', '181007', '181008', '181009', '181010', '181011', '181012', '181013', '181014', '181015', \\\n",
    "           '181016', '181017', '181018', '181019', '181020', '181021','181022',\\\n",
    "            '181023', '181024', '181025', '181026', '181027', '181028', '181029', '181030', \\\n",
    "           '181031', '181101', '181102', '181103', '181104',\\\n",
    "           '181105', '181106', '181107', '181108', '181109', '181110', '181111','181112']\n",
    "\n",
    "#clc_jobhead = ('FW_TS','FW_LD','FW_FS','SYS_FS','SYS_EA','RT_RST')\n",
    "\n",
    "clc_jobhead = ('FW_TS','FW_LD','FW_FS','FW_TB','SYS_FS','SYS_EA','SYS_CHK','RT_RST')\n",
    "#这些循环作业从0点开始"
   ]
  },
  {
   "cell_type": "code",
   "execution_count": null,
   "metadata": {},
   "outputs": [],
   "source": []
  },
  {
   "cell_type": "code",
   "execution_count": 12,
   "metadata": {},
   "outputs": [
    {
     "name": "stdout",
     "output_type": "stream",
     "text": [
      "181022 181023 181024 "
     ]
    }
   ],
   "source": [
    "\n",
    "flag = 0\n",
    "\n",
    "# for day in d_list:\n",
    "for day in ['181022','181023','181024']:\n",
    "    \n",
    "    def get_clc_job_begain_time(x):\n",
    "        if x[0] in clc_jobhead:\n",
    "            return '20'+day+'000000'\n",
    "        else:\n",
    "            return x[1]\n",
    "\n",
    "    day_4_hour = int('20'+day +'040000')\n",
    "    day_int = int(day)\n",
    "\n",
    "    day_i  = day_all.index(day)\n",
    "\n",
    "    day_after = int(day_all[day_i+1])\n",
    "    day_after_end = int('20'+day_all[day_i+1] +'235959')\n",
    "    \n",
    "    \n",
    "    #-------------------------------------------------------------------------------------\n",
    "    # 实例化时今天， 结束在今天和第二天的所有作业--ajob\n",
    "    \n",
    "    ajob = pd.read_csv(r'E:\\jupyter\\CTM\\data_src\\ajob_0\\ajob_%s_0.csv'%day,low_memory=False)\n",
    "#     ajob = ajob[ajob['order_time']<=day_4_hour]\n",
    "    ajob = ajob[ajob.end_time<= day_after_end]\n",
    "#     ajob = ajob[ajob.odate==day_int]\n",
    "    \n",
    "#     ajob.drop_duplicates('job_name', keep='last', inplace=True)\n",
    "#     ajob['server'] = ajob['server'].apply(str)\n",
    "#     ajob['order_id'] = ajob[['order_id','server']].apply(lambda x:x[0]+x[1],axis =1)\n",
    "    \n",
    "    #print(ajob.shape)\n",
    "    \n",
    "    \n",
    "    # ajob2 在第二天结束的作业\n",
    "    ajob2 = ajob[ajob.v_date == day_after]\n",
    "    ajob2 = ajob2[['order_id','job_name','server']]\n",
    "    #print(ajob2.shape)\n",
    "\n",
    "    ajob = ajob[['order_id','job_name','server','start_time','end_time']]\n",
    "    \n",
    "    \n",
    "    #-------------------------------------------------------------------------------------\n",
    "    #取事件表 并处理\n",
    "    if flag == 0:\n",
    "        evet1 = pd.read_csv(r'E:\\jupyter\\CTM\\data_src\\evet\\evet_%s.csv'%day)\n",
    "        evet1 = evet1[['order_id','evt_time','new_value', 'old_value','server']]\n",
    "        evet1 = evet1.dropna()\n",
    "        evet1 = evet1.drop_duplicates(keep='first')\n",
    "\n",
    "        evet1['server'] = evet1['server'].apply(str)\n",
    "        evet1['order_id'] = evet1[['order_id','server']].apply(lambda x:x[0]+x[1],axis=1)\n",
    "        flag = 1\n",
    "    else:\n",
    "        evet1 = evet2\n",
    "        \n",
    "    evet1 = evet1.merge(ajob,how='left',on='order_id')\n",
    "    evet1 = evet1[evet1.job_name.notnull()]\n",
    "    #print(evet1.shape)\n",
    "\n",
    "    #--------------------------------------------------------------------------------------\n",
    "    \n",
    "    if day == d_list[-1]:\n",
    "        pass\n",
    "    else:\n",
    "        evet2 = pd.read_csv(r'E:\\jupyter\\CTM\\data_src\\evet\\evet_%s.csv'%str(day_after))   \n",
    "        evet2 = evet2[['order_id','evt_time','new_value', 'old_value','server']]\n",
    "        evet2 = evet2.dropna()\n",
    "        evet2 = evet2.drop_duplicates(keep='first')\n",
    "\n",
    "        evet2['server'] = evet2['server'].apply(str)\n",
    "        evet2['order_id'] = evet2[['order_id','server']].apply(lambda x:x[0]+x[1],axis=1)\n",
    "\n",
    "    if ajob2.shape[0]<1:\n",
    "        print('next_day not find')\n",
    "    else:\n",
    "        evet2_merge = evet2.merge(ajob2,how='left',on='order_id')\n",
    "        evet2_merge = evet2_merge[evet2_merge.job_name.notnull()]\n",
    "\n",
    "        evet1 = pd.concat([evet1,evet2_merge], ignore_index=True)\n",
    "        #print(evet2.shape)\n",
    "\n",
    "    #print(evet2.shape)\n",
    "    #日期格式转化\n",
    "    evet1['evt_time'] = evet1['evt_time'].apply(lambda x:x.replace('-',''))\n",
    "    evet1['evt_time'] = evet1['evt_time'].apply(lambda x:x.replace(':',''))\n",
    "    evet1['evt_time'] = evet1['evt_time'].apply(lambda x:x.replace(' ',''))\n",
    "\n",
    "\n",
    "    evetmax = evet1.groupby(['order_id']).evt_time.max()\n",
    "    evetmin = evet1.groupby(['order_id']).evt_time.min()\n",
    "\n",
    "    del evet1\n",
    "\n",
    "    evetmin =evetmin.to_frame(name='min_t')\n",
    "    evetmax =evetmax.to_frame(name='max_t')\n",
    "\n",
    "\n",
    "    evet_max_min = pd.merge(evetmax,evetmin,left_index=True,right_index=True,how='inner')\n",
    "    del evetmin\n",
    "    del evetmax\n",
    "\n",
    "    evet_max_min['order_id'] = evet_max_min.index\n",
    "    evet_max_min = evet_max_min.merge(ajob[['order_id','job_name','start_time','end_time']], on='order_id',how='left')\n",
    "\n",
    "    evet_max_min['job_head'] = evet_max_min['job_name'].apply(lambda s:'_'.join(s.split('_')[:2]))\n",
    "    #有些循环作业开始时从凌晨开始\n",
    "    #     def get_clc_job_begain_time(x):\n",
    "    #         if x[0] in clc_jobhead:\n",
    "    #             return '20'+day+'000000'\n",
    "    #         else:\n",
    "    #             return x[1]\n",
    "    evet_max_min['min_t'] = evet_max_min[['job_head','min_t']].apply(get_clc_job_begain_time,axis=1)\n",
    "\n",
    "    evet_max_min['min_t'] = evet_max_min['min_t'].apply(lambda x:datetime.datetime.strptime(x,'%Y%m%d%H%M%S'))\n",
    "    evet_max_min['max_t'] = evet_max_min['max_t'].apply(lambda x:datetime.datetime.strptime(x,'%Y%m%d%H%M%S'))\n",
    "\n",
    "    evet_max_min['dt'] = evet_max_min[['max_t','min_t']].apply(lambda x:(x[0]-x[1]).total_seconds(),axis=1)\n",
    "\n",
    "\n",
    "    evet_max_min['dt'] = evet_max_min['dt'].apply(lambda x:x/60)\n",
    "\n",
    "    del evet_max_min['job_head']\n",
    "\n",
    "    evet_max_min = evet_max_min.round(3)\n",
    "    del ajob\n",
    "    evet_max_min.to_csv(r'E:\\jupyter\\CTM\\data_processed\\evet\\evet_dt_%s.csv'%day,index=False)\n",
    "    print(day,end=' ')"
   ]
  },
  {
   "cell_type": "code",
   "execution_count": null,
   "metadata": {},
   "outputs": [],
   "source": []
  },
  {
   "cell_type": "code",
   "execution_count": null,
   "metadata": {},
   "outputs": [],
   "source": []
  },
  {
   "cell_type": "code",
   "execution_count": null,
   "metadata": {},
   "outputs": [],
   "source": []
  },
  {
   "cell_type": "code",
   "execution_count": null,
   "metadata": {},
   "outputs": [],
   "source": []
  },
  {
   "cell_type": "code",
   "execution_count": null,
   "metadata": {},
   "outputs": [],
   "source": [
    "#上面的历史版本 做了改进\n",
    "for day in d_list:\n",
    "    #day = '180715'\n",
    "\n",
    "    def get_clc_job_begain_time(x):\n",
    "        if x[0] in clc_jobhead:\n",
    "            return '20'+day+'000000'\n",
    "        else:\n",
    "            return x[1]\n",
    "\n",
    "    day_4_hour = int('20'+day +'040000')\n",
    "    day_int = int(day)\n",
    "\n",
    "    day_i  = day_all.index(day)\n",
    "\n",
    "    day_after = int(day_all[day_i+1])\n",
    "\n",
    "    #-------------------------------------------------------------------------------------\n",
    "    ajob = pd.read_csv(r'E:\\jupyter\\CTM\\data_src\\ajob_0\\ajob_%s_0.txt'%day,low_memory=False)\n",
    "#     ajob = ajob[ajob['order_time']<=day_4_hour]\n",
    "#     ajob = ajob[ajob.odate==day_int]\n",
    "\n",
    "    if day==d_list[len(d_list)-1] or day == '180715':\n",
    "        print('last_day',end=' ')\n",
    "        #最后一天需要特殊处理\n",
    "    else:\n",
    "        ajob2 = ajob[ajob.v_date == day_after]\n",
    "        ajob2.drop_duplicates('job_name', keep='last', inplace=True)\n",
    "        ajob2 = ajob2[['order_id','job_name','server']]\n",
    "        ajob2['server'] = ajob2['server'].apply(str)\n",
    "        ajob2['order_id'] = ajob2[['order_id','server']].apply(lambda x:x[0]+x[1],axis=1)\n",
    "\n",
    "    ajob.drop_duplicates('job_name', keep='last', inplace=True)\n",
    "    ajob = ajob[['order_id','job_name','server','start_time','end_time']]\n",
    "    ajob['server'] = ajob['server'].apply(str)\n",
    "    ajob['order_id'] = ajob[['order_id','server']].apply(lambda x:x[0]+x[1],axis =1 )\n",
    "\n",
    "    #-------------------------------------------------------------------------------------\n",
    "    evet1 = pd.read_csv(r'E:\\jupyter\\CTM\\data_src\\evet\\evet_%s.csv'%day)\n",
    "    evet1 = evet1[['order_id','evt_time','new_value', 'old_value','server']]\n",
    "    evet1 = evet1.dropna()\n",
    "    evet1 = evet1.drop_duplicates(keep='first')\n",
    "\n",
    "    evet1['server'] = evet1['server'].apply(str)\n",
    "    evet1['order_id'] = evet1[['order_id','server']].apply(lambda x:x[0]+x[1],axis=1)\n",
    "\n",
    "    evet1 = evet1.merge(ajob,how='left',on='order_id')\n",
    "    evet1 = evet1[evet1.job_name.notnull()]\n",
    "    evet1 = evet1[evet1.end_time.notnull()]\n",
    "    #print(evet1.shape)\n",
    "\n",
    "    #--------------------------------------------------------------------------------------\n",
    "    if day==d_list[len(d_list)-1] or day == '180715':\n",
    "        print('last_day',end=' ')\n",
    "    else:\n",
    "        evet2 = pd.read_csv(r'E:\\jupyter\\CTM\\data_src\\evet\\evet_%s.csv'%str(day_after))   \n",
    "        evet2 = evet2[['order_id','evt_time','new_value', 'old_value','server']]\n",
    "        evet2 = evet2.dropna()\n",
    "        evet2 = evet2.drop_duplicates(keep='first')\n",
    "\n",
    "        evet2['server'] = evet2['server'].apply(str)\n",
    "        evet2['order_id'] = evet2[['order_id','server']].apply(lambda x:x[0]+x[1],axis=1)\n",
    "\n",
    "        evet2 = evet2.merge(ajob2,how='left',on='order_id')\n",
    "        evet2 = evet2[evet2.job_name.notnull()]\n",
    "\n",
    "        evet1 = pd.concat([evet1,evet2], ignore_index=True)\n",
    "        #print(evet2.shape)\n",
    "        del evet2\n",
    "\n",
    "    #print(evet2.shape)\n",
    "    #日期格式转化\n",
    "    evet1['evt_time'] = evet1['evt_time'].apply(lambda x:x.replace('-',''))\n",
    "    evet1['evt_time'] = evet1['evt_time'].apply(lambda x:x.replace(':',''))\n",
    "    evet1['evt_time'] = evet1['evt_time'].apply(lambda x:x.replace(' ',''))\n",
    "\n",
    "\n",
    "    evetmax = evet1.groupby(['order_id']).evt_time.max()\n",
    "    evetmin = evet1.groupby(['order_id']).evt_time.min()\n",
    "\n",
    "    del evet1\n",
    "\n",
    "    evetmin =evetmin.to_frame(name='min_t')\n",
    "    evetmax =evetmax.to_frame(name='max_t')\n",
    "\n",
    "\n",
    "    evet_max_min = pd.merge(evetmax,evetmin,left_index=True,right_index=True,how='inner')\n",
    "    del evetmin\n",
    "    del evetmax\n",
    "\n",
    "    evet_max_min['order_id'] = evet_max_min.index\n",
    "    evet_max_min = evet_max_min.merge(ajob[['order_id','job_name','start_time','end_time']], on='order_id',how='left')\n",
    "\n",
    "    evet_max_min['job_head'] = evet_max_min['job_name'].apply(lambda s:'_'.join(s.split('_')[:2]))\n",
    "    #有些循环作业开始时从凌晨开始\n",
    "    #     def get_clc_job_begain_time(x):\n",
    "    #         if x[0] in clc_jobhead:\n",
    "    #             return '20'+day+'000000'\n",
    "    #         else:\n",
    "    #             return x[1]\n",
    "    evet_max_min['min_t'] = evet_max_min[['job_head','min_t']].apply(get_clc_job_begain_time,axis=1)\n",
    "\n",
    "    evet_max_min['min_t'] = evet_max_min['min_t'].apply(lambda x:datetime.datetime.strptime(x,'%Y%m%d%H%M%S'))\n",
    "    evet_max_min['max_t'] = evet_max_min['max_t'].apply(lambda x:datetime.datetime.strptime(x,'%Y%m%d%H%M%S'))\n",
    "\n",
    "    evet_max_min['dt'] = evet_max_min[['max_t','min_t']].apply(lambda x:(x[0]-x[1]).total_seconds(),axis=1)\n",
    "\n",
    "\n",
    "    evet_max_min['dt'] = evet_max_min['dt'].apply(lambda x:x/60)\n",
    "\n",
    "    del evet_max_min['job_head']\n",
    "\n",
    "    evet_max_min = evet_max_min.round(3)\n",
    "    del ajob\n",
    "    evet_max_min.to_csv(r'E:\\jupyter\\CTM\\data_processed\\evet\\evet_dt_%s.csv'%day,index=False)\n",
    "    print(day,end=' ')"
   ]
  },
  {
   "cell_type": "markdown",
   "metadata": {},
   "source": [
    "### 以下为调试程序"
   ]
  },
  {
   "cell_type": "code",
   "execution_count": 6,
   "metadata": {},
   "outputs": [
    {
     "name": "stdout",
     "output_type": "stream",
     "text": [
      "(258601, 32)\n"
     ]
    }
   ],
   "source": [
    "day = '180703'\n",
    "day_4_hour = int('20'+day +'040000')\n",
    "day_int = int(day)\n",
    "\n",
    "ajob = pd.read_csv(r'E:\\jupyter\\CTM\\data_src\\ajob\\ajob_%s_0.txt'%day,low_memory=False)\n",
    "ajob = ajob[ajob['order_time']<=day_4_hour]\n",
    "ajob = ajob[ajob.odate==day_int]\n",
    "ajob.drop_duplicates('job_name', keep='last', inplace=True)\n",
    "\n",
    "print(ajob.shape)"
   ]
  },
  {
   "cell_type": "code",
   "execution_count": 7,
   "metadata": {},
   "outputs": [
    {
     "name": "stdout",
     "output_type": "stream",
     "text": [
      "(258601,)\n"
     ]
    }
   ],
   "source": [
    "print(ajob['job_name'].unique().shape)"
   ]
  },
  {
   "cell_type": "code",
   "execution_count": 8,
   "metadata": {},
   "outputs": [
    {
     "name": "stdout",
     "output_type": "stream",
     "text": [
      "(258601,)\n"
     ]
    }
   ],
   "source": [
    "ajob['order_id'] = ajob[['order_id','server']].apply(lambda x:x[0]+str(x[1]),axis =1 )\n",
    "print(ajob['order_id'].unique().shape)"
   ]
  },
  {
   "cell_type": "code",
   "execution_count": 12,
   "metadata": {},
   "outputs": [
    {
     "name": "stdout",
     "output_type": "stream",
     "text": [
      "(3889157, 5)\n",
      "(3887265, 5)\n"
     ]
    }
   ],
   "source": [
    "evet = pd.read_csv(r'E:\\jupyter\\CTM\\data_src\\evet\\evet_%s.csv'%day)   \n",
    "evet = evet[['order_id','evt_time','new_value', 'old_value','server']]\n",
    "print(evet.shape)\n",
    "evet = evet.dropna()\n",
    "evet = evet.drop_duplicates(keep='first')\n",
    "print(evet.shape)\n",
    "\n",
    "evet['server'] = evet['server'].apply(str)\n",
    "evet['order_id'] = evet[['order_id','server']].apply(lambda x:x[0]+x[1],axis=1)"
   ]
  },
  {
   "cell_type": "code",
   "execution_count": 13,
   "metadata": {},
   "outputs": [
    {
     "name": "stdout",
     "output_type": "stream",
     "text": [
      "(3887265, 36)\n",
      "(3541310, 36)\n"
     ]
    }
   ],
   "source": [
    "evet = evet.merge(ajob,how='left',on='order_id')\n",
    "print(evet.shape)\n",
    "evet = evet[evet.job_name.notnull()]\n",
    "print(evet.shape)"
   ]
  },
  {
   "cell_type": "code",
   "execution_count": 17,
   "metadata": {},
   "outputs": [],
   "source": [
    "day = '180615'\n",
    "#import pandas as pd\n",
    "evet = pd.read_csv(r'E:\\jupyter\\CTM\\data_processed\\evet\\evet_dt_%s.csv'%day)"
   ]
  },
  {
   "cell_type": "code",
   "execution_count": 18,
   "metadata": {},
   "outputs": [
    {
     "data": {
      "text/html": [
       "<div>\n",
       "<style scoped>\n",
       "    .dataframe tbody tr th:only-of-type {\n",
       "        vertical-align: middle;\n",
       "    }\n",
       "\n",
       "    .dataframe tbody tr th {\n",
       "        vertical-align: top;\n",
       "    }\n",
       "\n",
       "    .dataframe thead th {\n",
       "        text-align: right;\n",
       "    }\n",
       "</style>\n",
       "<table border=\"1\" class=\"dataframe\">\n",
       "  <thead>\n",
       "    <tr style=\"text-align: right;\">\n",
       "      <th></th>\n",
       "      <th>max_t</th>\n",
       "      <th>min_t</th>\n",
       "      <th>order_id</th>\n",
       "      <th>job_name</th>\n",
       "      <th>start_time</th>\n",
       "      <th>end_time</th>\n",
       "      <th>dt</th>\n",
       "    </tr>\n",
       "  </thead>\n",
       "  <tbody>\n",
       "    <tr>\n",
       "      <th>0</th>\n",
       "      <td>2018-06-15 17:42:10</td>\n",
       "      <td>2018-06-15 17:42:10</td>\n",
       "      <td>17sdq3</td>\n",
       "      <td>LV05_CMD_PRO</td>\n",
       "      <td>2.018062e+13</td>\n",
       "      <td>2.018062e+13</td>\n",
       "      <td>0.000</td>\n",
       "    </tr>\n",
       "    <tr>\n",
       "      <th>1</th>\n",
       "      <td>2018-06-15 01:22:20</td>\n",
       "      <td>2018-06-15 01:22:18</td>\n",
       "      <td>17sdr3</td>\n",
       "      <td>CMD_DB_ETL_PRO_TABRTNSQL_RTN_ACMD_DIM_SPP_REL</td>\n",
       "      <td>2.018062e+13</td>\n",
       "      <td>2.018062e+13</td>\n",
       "      <td>0.033</td>\n",
       "    </tr>\n",
       "    <tr>\n",
       "      <th>2</th>\n",
       "      <td>2018-06-15 01:22:11</td>\n",
       "      <td>2018-06-15 01:22:09</td>\n",
       "      <td>17sds3</td>\n",
       "      <td>CMD_DB_ETL_PRO_TABRTNSQL_RTN_ACMD_DIM_SPP_REL_HIS</td>\n",
       "      <td>2.018062e+13</td>\n",
       "      <td>2.018062e+13</td>\n",
       "      <td>0.033</td>\n",
       "    </tr>\n",
       "    <tr>\n",
       "      <th>3</th>\n",
       "      <td>2018-06-15 01:22:21</td>\n",
       "      <td>2018-06-15 01:22:18</td>\n",
       "      <td>17sdt3</td>\n",
       "      <td>CMD_DB_ETL_PRO_TABRTNSQL_RTN_ACMD_DIM_SPP_RES</td>\n",
       "      <td>2.018062e+13</td>\n",
       "      <td>2.018062e+13</td>\n",
       "      <td>0.050</td>\n",
       "    </tr>\n",
       "    <tr>\n",
       "      <th>4</th>\n",
       "      <td>2018-06-15 01:22:25</td>\n",
       "      <td>2018-06-15 01:22:22</td>\n",
       "      <td>17sdu3</td>\n",
       "      <td>CMD_DB_ETL_PRO_TABRTNSQL_RTN_ACMD_DIM_SPP_RES_HIS</td>\n",
       "      <td>2.018062e+13</td>\n",
       "      <td>2.018062e+13</td>\n",
       "      <td>0.050</td>\n",
       "    </tr>\n",
       "  </tbody>\n",
       "</table>\n",
       "</div>"
      ],
      "text/plain": [
       "                 max_t                min_t order_id  \\\n",
       "0  2018-06-15 17:42:10  2018-06-15 17:42:10   17sdq3   \n",
       "1  2018-06-15 01:22:20  2018-06-15 01:22:18   17sdr3   \n",
       "2  2018-06-15 01:22:11  2018-06-15 01:22:09   17sds3   \n",
       "3  2018-06-15 01:22:21  2018-06-15 01:22:18   17sdt3   \n",
       "4  2018-06-15 01:22:25  2018-06-15 01:22:22   17sdu3   \n",
       "\n",
       "                                            job_name    start_time  \\\n",
       "0                                       LV05_CMD_PRO  2.018062e+13   \n",
       "1      CMD_DB_ETL_PRO_TABRTNSQL_RTN_ACMD_DIM_SPP_REL  2.018062e+13   \n",
       "2  CMD_DB_ETL_PRO_TABRTNSQL_RTN_ACMD_DIM_SPP_REL_HIS  2.018062e+13   \n",
       "3      CMD_DB_ETL_PRO_TABRTNSQL_RTN_ACMD_DIM_SPP_RES  2.018062e+13   \n",
       "4  CMD_DB_ETL_PRO_TABRTNSQL_RTN_ACMD_DIM_SPP_RES_HIS  2.018062e+13   \n",
       "\n",
       "       end_time     dt  \n",
       "0  2.018062e+13  0.000  \n",
       "1  2.018062e+13  0.033  \n",
       "2  2.018062e+13  0.033  \n",
       "3  2.018062e+13  0.050  \n",
       "4  2.018062e+13  0.050  "
      ]
     },
     "execution_count": 18,
     "metadata": {},
     "output_type": "execute_result"
    }
   ],
   "source": [
    "evet.head()"
   ]
  },
  {
   "cell_type": "code",
   "execution_count": 3,
   "metadata": {},
   "outputs": [
    {
     "name": "stdout",
     "output_type": "stream",
     "text": [
      "                  evt_time  new_value  old_value order_id  v_date  server\n",
      "19466  2018-06-05 00:24:07     2048.0        1.0    4bk5b  180605       1\n",
      "31675  2018-06-05 00:28:57        8.0     2048.0    4bk5b  180605       1\n",
      "35106  2018-06-05 00:29:03       16.0        8.0    4bk5b  180605       1\n"
     ]
    }
   ],
   "source": [
    "print(evet[evet.order_id =='4bk5b'])"
   ]
  },
  {
   "cell_type": "code",
   "execution_count": 24,
   "metadata": {},
   "outputs": [
    {
     "data": {
      "text/html": [
       "<div>\n",
       "<style scoped>\n",
       "    .dataframe tbody tr th:only-of-type {\n",
       "        vertical-align: middle;\n",
       "    }\n",
       "\n",
       "    .dataframe tbody tr th {\n",
       "        vertical-align: top;\n",
       "    }\n",
       "\n",
       "    .dataframe thead th {\n",
       "        text-align: right;\n",
       "    }\n",
       "</style>\n",
       "<table border=\"1\" class=\"dataframe\">\n",
       "  <thead>\n",
       "    <tr style=\"text-align: right;\">\n",
       "      <th></th>\n",
       "      <th>max_t</th>\n",
       "      <th>min_t</th>\n",
       "      <th>dt</th>\n",
       "      <th>order_id</th>\n",
       "      <th>job_name</th>\n",
       "      <th>start_time</th>\n",
       "      <th>end_time</th>\n",
       "    </tr>\n",
       "  </thead>\n",
       "  <tbody>\n",
       "    <tr>\n",
       "      <th>0</th>\n",
       "      <td>2018-07-14 00:10:38</td>\n",
       "      <td>2018-07-14 00:10:38</td>\n",
       "      <td>0.000</td>\n",
       "      <td>005vd2</td>\n",
       "      <td>AALM_ALL</td>\n",
       "      <td>2.018071e+13</td>\n",
       "      <td>NaN</td>\n",
       "    </tr>\n",
       "    <tr>\n",
       "      <th>1</th>\n",
       "      <td>2018-07-14 04:17:54</td>\n",
       "      <td>2018-07-14 04:14:27</td>\n",
       "      <td>3.450</td>\n",
       "      <td>005vh2</td>\n",
       "      <td>AALM_P_ALM_ACC_BAS_GRP</td>\n",
       "      <td>2.018071e+13</td>\n",
       "      <td>2.018071e+13</td>\n",
       "    </tr>\n",
       "    <tr>\n",
       "      <th>2</th>\n",
       "      <td>2018-07-14 03:12:52</td>\n",
       "      <td>2018-07-14 03:12:21</td>\n",
       "      <td>0.517</td>\n",
       "      <td>005vk2</td>\n",
       "      <td>AALM_P_ALM_ACP_BAS_ZCZQ</td>\n",
       "      <td>2.018071e+13</td>\n",
       "      <td>2.018071e+13</td>\n",
       "    </tr>\n",
       "    <tr>\n",
       "      <th>3</th>\n",
       "      <td>2018-07-14 03:12:53</td>\n",
       "      <td>2018-07-14 03:12:52</td>\n",
       "      <td>0.017</td>\n",
       "      <td>005vm2</td>\n",
       "      <td>SYS_FW_AALM_P_ALM_ACP_BAS_ZCZQ</td>\n",
       "      <td>2.018071e+13</td>\n",
       "      <td>2.018071e+13</td>\n",
       "    </tr>\n",
       "    <tr>\n",
       "      <th>4</th>\n",
       "      <td>2018-07-14 01:06:42</td>\n",
       "      <td>2018-07-14 01:06:41</td>\n",
       "      <td>0.017</td>\n",
       "      <td>005vn2</td>\n",
       "      <td>SYS_FW_AALM_P_ALM_FHD_BAS</td>\n",
       "      <td>2.018071e+13</td>\n",
       "      <td>2.018071e+13</td>\n",
       "    </tr>\n",
       "  </tbody>\n",
       "</table>\n",
       "</div>"
      ],
      "text/plain": [
       "                max_t               min_t     dt order_id  \\\n",
       "0 2018-07-14 00:10:38 2018-07-14 00:10:38  0.000   005vd2   \n",
       "1 2018-07-14 04:17:54 2018-07-14 04:14:27  3.450   005vh2   \n",
       "2 2018-07-14 03:12:52 2018-07-14 03:12:21  0.517   005vk2   \n",
       "3 2018-07-14 03:12:53 2018-07-14 03:12:52  0.017   005vm2   \n",
       "4 2018-07-14 01:06:42 2018-07-14 01:06:41  0.017   005vn2   \n",
       "\n",
       "                         job_name    start_time      end_time  \n",
       "0                        AALM_ALL  2.018071e+13           NaN  \n",
       "1          AALM_P_ALM_ACC_BAS_GRP  2.018071e+13  2.018071e+13  \n",
       "2         AALM_P_ALM_ACP_BAS_ZCZQ  2.018071e+13  2.018071e+13  \n",
       "3  SYS_FW_AALM_P_ALM_ACP_BAS_ZCZQ  2.018071e+13  2.018071e+13  \n",
       "4       SYS_FW_AALM_P_ALM_FHD_BAS  2.018071e+13  2.018071e+13  "
      ]
     },
     "execution_count": 24,
     "metadata": {},
     "output_type": "execute_result"
    }
   ],
   "source": [
    "evet_max_min.head()"
   ]
  },
  {
   "cell_type": "code",
   "execution_count": 19,
   "metadata": {},
   "outputs": [
    {
     "data": {
      "text/plain": [
       "<matplotlib.axes._subplots.AxesSubplot at 0x792efd30>"
      ]
     },
     "execution_count": 19,
     "metadata": {},
     "output_type": "execute_result"
    },
    {
     "data": {
      "image/png": "[encoded data removed]",
      "text/plain": [
       "<matplotlib.figure.Figure at 0x792ef7f0>"
      ]
     },
     "metadata": {},
     "output_type": "display_data"
    }
   ],
   "source": [
    "sns.distplot(evet['dt'], kde=True)"
   ]
  },
  {
   "cell_type": "code",
   "execution_count": 20,
   "metadata": {},
   "outputs": [],
   "source": [
    "import math\n",
    "log_evet_dt = evet['dt'].apply(lambda x:math.log(1+x))"
   ]
  },
  {
   "cell_type": "code",
   "execution_count": 21,
   "metadata": {},
   "outputs": [
    {
     "data": {
      "text/plain": [
       "<matplotlib.axes._subplots.AxesSubplot at 0x90dee128>"
      ]
     },
     "execution_count": 21,
     "metadata": {},
     "output_type": "execute_result"
    },
    {
     "data": {
      "image/png": "[encoded data removed]",
      "text/plain": [
       "<matplotlib.figure.Figure at 0x492db4a8>"
      ]
     },
     "metadata": {},
     "output_type": "display_data"
    }
   ],
   "source": [
    "sns.distplot(log_evet_dt, kde=True)"
   ]
  },
  {
   "cell_type": "code",
   "execution_count": 22,
   "metadata": {},
   "outputs": [],
   "source": [
    "log_evet_dt = log_evet_dt.apply(lambda x:math.log(1+x))"
   ]
  },
  {
   "cell_type": "code",
   "execution_count": 23,
   "metadata": {},
   "outputs": [
    {
     "data": {
      "text/plain": [
       "<matplotlib.axes._subplots.AxesSubplot at 0x680ff470>"
      ]
     },
     "execution_count": 23,
     "metadata": {},
     "output_type": "execute_result"
    },
    {
     "data": {
      "image/png": "[encoded data removed]",
      "text/plain": [
       "<matplotlib.figure.Figure at 0x11167b2e8>"
      ]
     },
     "metadata": {},
     "output_type": "display_data"
    }
   ],
   "source": [
    "sns.distplot(log_evet_dt, kde=True)"
   ]
  },
  {
   "cell_type": "code",
   "execution_count": 1,
   "metadata": {},
   "outputs": [
    {
     "name": "stdout",
     "output_type": "stream",
     "text": [
      "1.3862943611198906\n"
     ]
    }
   ],
   "source": [
    "#对数和指数\n",
    "import math\n",
    "print(math.log(4))"
   ]
  },
  {
   "cell_type": "code",
   "execution_count": 2,
   "metadata": {},
   "outputs": [
    {
     "name": "stdout",
     "output_type": "stream",
     "text": [
      "4.0\n"
     ]
    }
   ],
   "source": [
    "print(math.exp(1.3862943611198906))"
   ]
  },
  {
   "cell_type": "code",
   "execution_count": null,
   "metadata": {},
   "outputs": [],
   "source": []
  }
 ],
 "metadata": {
  "kernelspec": {
   "display_name": "Python 3",
   "language": "python",
   "name": "python3"
  },
  "language_info": {
   "codemirror_mode": {
    "name": "ipython",
    "version": 3
   },
   "file_extension": ".py",
   "mimetype": "text/x-python",
   "name": "python",
   "nbconvert_exporter": "python",
   "pygments_lexer": "ipython3",
   "version": "3.6.3"
  }
 },
 "nbformat": 4,
 "nbformat_minor": 2
}
