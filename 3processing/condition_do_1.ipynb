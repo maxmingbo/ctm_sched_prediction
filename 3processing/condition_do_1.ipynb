{
 "cells": [
  {
   "cell_type": "code",
   "execution_count": 1,
   "metadata": {},
   "outputs": [],
   "source": [
    "import pandas as pd\n",
    "import datetime\n",
    "\n",
    "pd.options.mode.chained_assignment = None  # default='warn'\n",
    "\n",
    "do_head = ('FW_TS','FW_LD','FW_FS','FW_TB','SYS_FS','SYS_EA','SYS_CHK','RT_RST')\n",
    "#这些循环作业从0点开始"
   ]
  },
  {
   "cell_type": "code",
   "execution_count": 2,
   "metadata": {},
   "outputs": [],
   "source": [
    "d_list= ['180602', '180603', '180604', '180605', '180606', '180607', '180608', '180609', '180610',\\\n",
    "          '180611', '180612', '180613', '180614', '180615', '180616', '180617', '180618', '180619', '180620',\\\n",
    "          '180621', '180622', '180623', '180624', '180625', '180626', '180627', '180628', '180629', '180630',\\\n",
    "          '180701', '180702', '180703', '180704', '180705', '180706', '180707', '180708', '180709', '180710', \\\n",
    "          '180711', '180712', '180713', '180714', '180715']\n"
   ]
  },
  {
   "cell_type": "code",
   "execution_count": null,
   "metadata": {},
   "outputs": [],
   "source": []
  },
  {
   "cell_type": "code",
   "execution_count": null,
   "metadata": {},
   "outputs": [],
   "source": [
    "\n",
    "condition_o = pd.read_csv(r'E:\\jupyter\\CTM\\data_src\\condition_o\\conditin_o_%s.csv'%day)\n",
    "\n",
    "if day<'181001':\n",
    "    condition_o['odate'] = condition_o['odate'].apply(lambda x:'0'+str(x))\n",
    "else:\n",
    "    condition_o['odate'] = condition_o['odate'].apply(str)\n",
    "    \n",
    "day_i = day[-4:]\n",
    "\n",
    "#去重\n",
    "print(condition_o.shape)\n",
    "condition_o = condition_o[condition_o.odate==day_i]\n",
    "print(condition_o.shape)\n",
    "condition_o.drop_duplicates(subset=['up','down'],keep='last')\n",
    "print(condition_o.shape)\n",
    "\n"
   ]
  },
  {
   "cell_type": "code",
   "execution_count": null,
   "metadata": {},
   "outputs": [],
   "source": []
  },
  {
   "cell_type": "code",
   "execution_count": null,
   "metadata": {},
   "outputs": [],
   "source": []
  },
  {
   "cell_type": "code",
   "execution_count": null,
   "metadata": {},
   "outputs": [],
   "source": []
  },
  {
   "cell_type": "code",
   "execution_count": 4,
   "metadata": {},
   "outputs": [],
   "source": [
    "day = '180605'\n",
    "\n",
    "day_begain = int('20'+day+'000000')\n",
    "day_4_hour = int('20'+day+'040000')\n",
    "\n",
    "dat_start = datetime.datetime.strptime(str(day_begain),'%Y%m%d%H%M%S')\n",
    "\n",
    "def f_get_end_dt(x):\n",
    "    dat_t = datetime.datetime.strptime(str(x),'%Y%m%d%H%M%S')\n",
    "    dt = (dat_t-dat_start).total_seconds()//60\n",
    "    return dt\n",
    "\n",
    "def cnv_start_time(x):\n",
    "    return x//100*60+x%100\n",
    "\n",
    "\n"
   ]
  },
  {
   "cell_type": "code",
   "execution_count": null,
   "metadata": {},
   "outputs": [],
   "source": []
  },
  {
   "cell_type": "code",
   "execution_count": null,
   "metadata": {},
   "outputs": [],
   "source": [
    "day = '180605'\n",
    "\n",
    "day_begain = int('20'+day+'000000')\n",
    "day_4_hour = int('20'+day+'040000')\n",
    "\n",
    "dat_start = datetime.datetime.strptime(str(day_begain),'%Y%m%d%H%M%S')\n",
    "\n",
    "\n",
    "def f_get_mint_bef(x):\n",
    "    dat_t = datetime.datetime.strptime(str(x),'%Y%m%d%H%M%S')\n",
    "    dt = (dat_t-dat_start).total_seconds()//60\n",
    "    return dt\n",
    "\n",
    "condition_i = pd.read_csv(r'E:\\jupyter\\CTM\\data_src\\condition_i\\conditin_i_%s.csv'%day)\n",
    "condition_i['odate'] = condition_i['odate'].apply(lambda x:'0'+str(x))\n",
    "day_i = day[-4:]\n",
    "condition_i = condition_i[condition_i.odate ==day_i]\n",
    "condition_i.drop_duplicates(subset=['up','down'],keep='fisrt')\n",
    "\n",
    "evet_i = pd.read_csv(r'E:\\jupyter\\CTM\\data_processed\\evet\\evet_dt_%s.csv'%day)\n",
    "\n",
    "ajob = pd.read_csv(r'E:\\jupyter\\CTM\\data_src\\ajob\\ajob_%s_0.txt'%day,low_memory=False)\n",
    "ajob = ajob[ajob['order_time']<=day_4_hour]\n",
    "ajob = ajob[ajob.odate==day_int]\n",
    "ajob.drop_duplicates('job_name', keep='last', inplace=True)\n"
   ]
  },
  {
   "cell_type": "code",
   "execution_count": 15,
   "metadata": {},
   "outputs": [
    {
     "name": "stdout",
     "output_type": "stream",
     "text": [
      "(266403, 7)\n",
      "(249649, 7)\n",
      "(249649, 7)\n"
     ]
    }
   ],
   "source": [
    "day = '180607'\n",
    "\n",
    "day_begain = int('20'+day+'000000')\n",
    "dat_start = datetime.datetime.strptime(str(day_begain),'%Y%m%d%H%M%S')\n",
    "\n",
    "\n",
    "def f_get_mint_bef(x):\n",
    "    dat_t = datetime.datetime.strptime(str(x),'%Y%m%d%H%M%S')\n",
    "    dt = (dat_t-dat_start).total_seconds()//60\n",
    "    return dt\n",
    "\n",
    "condition_i = pd.read_csv(r'E:\\jupyter\\CTM\\data_src\\condition_i\\conditin_i_%s.csv'%day)\n",
    "condition_i['odate'] = condition_i['odate'].apply(lambda x:'0'+str(x))\n",
    "\n",
    "day_i = day[-4:]\n",
    "#去重\n",
    "print(condition_i.shape)\n",
    "condition_i = condition_i[condition_i.odate==day_i]\n",
    "print(condition_i.shape)\n",
    "condition_i.drop_duplicates(subset=['up','down'],keep='last')\n",
    "print(condition_i.shape)"
   ]
  },
  {
   "cell_type": "code",
   "execution_count": 16,
   "metadata": {},
   "outputs": [],
   "source": [
    "condition = condition_i[['up','down']]"
   ]
  },
  {
   "cell_type": "code",
   "execution_count": 17,
   "metadata": {},
   "outputs": [
    {
     "name": "stdout",
     "output_type": "stream",
     "text": [
      "(242855, 32)\n"
     ]
    }
   ],
   "source": [
    "day_4_hour = int('20'+day+'040000')\n",
    "day_int = int(day)\n",
    "ajob = pd.read_csv(r'E:\\jupyter\\CTM\\data_src\\ajob\\ajob_%s_0.txt'%day,low_memory=False)\n",
    "ajob = ajob[ajob['order_time']<=day_4_hour]\n",
    "ajob = ajob[ajob.odate==day_int]\n",
    "ajob = ajob[ajob.task_type!= 'SMART Table']\n",
    "ajob.drop_duplicates('job_name', keep='last', inplace=True)\n",
    "print(ajob.shape)"
   ]
  },
  {
   "cell_type": "code",
   "execution_count": 26,
   "metadata": {},
   "outputs": [],
   "source": [
    "evet_i = pd.read_csv(r'E:\\jupyter\\CTM\\data_processed\\evet\\evet_dt_%s.csv'%day)"
   ]
  },
  {
   "cell_type": "code",
   "execution_count": 27,
   "metadata": {},
   "outputs": [
    {
     "name": "stdout",
     "output_type": "stream",
     "text": [
      "(241501, 33)\n"
     ]
    }
   ],
   "source": [
    "\n",
    "ajob = ajob[ajob.end_time.notnull()]\n",
    "print(ajob.shape)\n",
    "ajob['end_time'] = ajob['end_time'].apply(int)\n",
    "ajob['end_dt'] = ajob['end_time'].apply(f_get_end_dt)\n",
    "\n",
    "#全量表\n",
    "ajob_ = ajob[['job_name','end_dt']]\n",
    "ajob_.rename(columns={\"job_name\":\"up\"}, inplace = True)\n",
    "\n",
    "#有开始时间表\n",
    "ajob_f_t = ajob[ajob.from_time>1][['job_name','from_time']]\n",
    "ajob_f_t['from_time'] = ajob_f_t['from_time'].apply(cnv_start_time)\n",
    "ajob_f_t['up'] = '--'\n",
    "\n",
    "ajob_f_t.rename(columns={\"job_name\":\"down\"}, inplace = True)\n",
    "ajob_f_t.rename(columns={\"from_time\":\"end_dt\"}, inplace = True)\n",
    "\n",
    "\n",
    "condition_m = condition.merge(ajob_, on='up',how='left')\n",
    "condition_m = pd.concat([condition_m,ajob_f_t], ignore_index=True)\n",
    "\n",
    "#取上游作业的end_dt,最大值\n",
    "condition_l = condition_m.groupby(['down']).end_dt.max()\n",
    "condition_l = condition_l.to_frame(name='up_end_dt_max')\n",
    "condition_l['job_name'] = condition_l.index\n",
    "\n",
    "\n",
    "\n",
    "evet_i = evet_i[evet_i['end_time'].notnull()]\n",
    "evet_i['end_time'] = evet_i['end_time'].apply(int)\n",
    "evet_i['end_dt'] = evet_i['end_time'].apply(f_get_end_dt)\n",
    "\n",
    "#过滤出folder 不是'SMART Table'\n",
    "evet_i_m = evet_i_m[(evet_i_m.end_time<20180607000000)&(evet_i_m.end_time>20180605000000)]\n",
    "evet_i = evet_i.merge(ajob[['job_name','task_type']],on='job_name',how='left')\n",
    "evet_i = evet_i[evet_i['task_type']!='SMART Table']\n",
    "evet_i = evet_i[evet_i['task_type'].notnull()]\n",
    "\n",
    "evet_i_m = evet_i.merge(condition_l,on='job_name',how='left')\n",
    "\n",
    "#evet_i_m['end_dt_max'] = evet_i_m['end_dt_max'].fillna(0)\n",
    "#evet_i_m['end_dt_sum'] = evet_i_m[['end_dt_max','dt']].apply(lambda x:x[0]+x[1],axis=1)\n",
    "evet_i_m.to_csv('make_sure_dt.csv',index=False)\n"
   ]
  },
  {
   "cell_type": "code",
   "execution_count": 28,
   "metadata": {},
   "outputs": [],
   "source": [
    "evet_i_m[evet_i_m.end_time>20180605040000].to_csv('make_sure_dt_4.csv',index=False)\n"
   ]
  },
  {
   "cell_type": "code",
   "execution_count": 20,
   "metadata": {},
   "outputs": [
    {
     "data": {
      "text/html": [
       "<div>\n",
       "<style scoped>\n",
       "    .dataframe tbody tr th:only-of-type {\n",
       "        vertical-align: middle;\n",
       "    }\n",
       "\n",
       "    .dataframe tbody tr th {\n",
       "        vertical-align: top;\n",
       "    }\n",
       "\n",
       "    .dataframe thead th {\n",
       "        text-align: right;\n",
       "    }\n",
       "</style>\n",
       "<table border=\"1\" class=\"dataframe\">\n",
       "  <thead>\n",
       "    <tr style=\"text-align: right;\">\n",
       "      <th></th>\n",
       "      <th>max_t</th>\n",
       "      <th>min_t</th>\n",
       "      <th>dt</th>\n",
       "      <th>order_id</th>\n",
       "      <th>job_name</th>\n",
       "      <th>start_time</th>\n",
       "      <th>end_time</th>\n",
       "      <th>task_type_x</th>\n",
       "      <th>end_dt</th>\n",
       "      <th>task_type_y</th>\n",
       "    </tr>\n",
       "  </thead>\n",
       "  <tbody>\n",
       "    <tr>\n",
       "      <th>0</th>\n",
       "      <td>2018-06-05 15:21:12</td>\n",
       "      <td>2018-06-05 15:21:12</td>\n",
       "      <td>0.000</td>\n",
       "      <td>138ho3</td>\n",
       "      <td>LV05_CMD_PRO</td>\n",
       "      <td>2.018061e+13</td>\n",
       "      <td>20180605152111</td>\n",
       "      <td>NaN</td>\n",
       "      <td>921.0</td>\n",
       "      <td>NaN</td>\n",
       "    </tr>\n",
       "    <tr>\n",
       "      <th>1</th>\n",
       "      <td>2018-06-05 01:26:14</td>\n",
       "      <td>2018-06-05 01:26:12</td>\n",
       "      <td>0.033</td>\n",
       "      <td>138hp3</td>\n",
       "      <td>CMD_DB_ETL_PRO_TABRTNSQL_RTN_ACMD_DIM_SPP_REL</td>\n",
       "      <td>2.018061e+13</td>\n",
       "      <td>20180605012614</td>\n",
       "      <td>Job</td>\n",
       "      <td>86.0</td>\n",
       "      <td>Job</td>\n",
       "    </tr>\n",
       "    <tr>\n",
       "      <th>2</th>\n",
       "      <td>2018-06-05 01:26:13</td>\n",
       "      <td>2018-06-05 01:26:11</td>\n",
       "      <td>0.033</td>\n",
       "      <td>138hq3</td>\n",
       "      <td>CMD_DB_ETL_PRO_TABRTNSQL_RTN_ACMD_DIM_SPP_REL_HIS</td>\n",
       "      <td>2.018061e+13</td>\n",
       "      <td>20180605012613</td>\n",
       "      <td>Job</td>\n",
       "      <td>86.0</td>\n",
       "      <td>Job</td>\n",
       "    </tr>\n",
       "    <tr>\n",
       "      <th>3</th>\n",
       "      <td>2018-06-05 01:26:17</td>\n",
       "      <td>2018-06-05 01:26:14</td>\n",
       "      <td>0.050</td>\n",
       "      <td>138hr3</td>\n",
       "      <td>CMD_DB_ETL_PRO_TABRTNSQL_RTN_ACMD_DIM_SPP_RES</td>\n",
       "      <td>2.018061e+13</td>\n",
       "      <td>20180605012616</td>\n",
       "      <td>Job</td>\n",
       "      <td>86.0</td>\n",
       "      <td>Job</td>\n",
       "    </tr>\n",
       "    <tr>\n",
       "      <th>4</th>\n",
       "      <td>2018-06-05 01:31:17</td>\n",
       "      <td>2018-06-05 01:31:15</td>\n",
       "      <td>0.033</td>\n",
       "      <td>138hs3</td>\n",
       "      <td>CMD_DB_ETL_PRO_TABRTNSQL_RTN_ACMD_DIM_SPP_RES_HIS</td>\n",
       "      <td>2.018061e+13</td>\n",
       "      <td>20180605013117</td>\n",
       "      <td>Job</td>\n",
       "      <td>91.0</td>\n",
       "      <td>Job</td>\n",
       "    </tr>\n",
       "  </tbody>\n",
       "</table>\n",
       "</div>"
      ],
      "text/plain": [
       "                 max_t                min_t     dt order_id  \\\n",
       "0  2018-06-05 15:21:12  2018-06-05 15:21:12  0.000   138ho3   \n",
       "1  2018-06-05 01:26:14  2018-06-05 01:26:12  0.033   138hp3   \n",
       "2  2018-06-05 01:26:13  2018-06-05 01:26:11  0.033   138hq3   \n",
       "3  2018-06-05 01:26:17  2018-06-05 01:26:14  0.050   138hr3   \n",
       "4  2018-06-05 01:31:17  2018-06-05 01:31:15  0.033   138hs3   \n",
       "\n",
       "                                            job_name    start_time  \\\n",
       "0                                       LV05_CMD_PRO  2.018061e+13   \n",
       "1      CMD_DB_ETL_PRO_TABRTNSQL_RTN_ACMD_DIM_SPP_REL  2.018061e+13   \n",
       "2  CMD_DB_ETL_PRO_TABRTNSQL_RTN_ACMD_DIM_SPP_REL_HIS  2.018061e+13   \n",
       "3      CMD_DB_ETL_PRO_TABRTNSQL_RTN_ACMD_DIM_SPP_RES  2.018061e+13   \n",
       "4  CMD_DB_ETL_PRO_TABRTNSQL_RTN_ACMD_DIM_SPP_RES_HIS  2.018061e+13   \n",
       "\n",
       "         end_time task_type_x  end_dt task_type_y  \n",
       "0  20180605152111         NaN   921.0         NaN  \n",
       "1  20180605012614         Job    86.0         Job  \n",
       "2  20180605012613         Job    86.0         Job  \n",
       "3  20180605012616         Job    86.0         Job  \n",
       "4  20180605013117         Job    91.0         Job  "
      ]
     },
     "execution_count": 20,
     "metadata": {},
     "output_type": "execute_result"
    }
   ],
   "source": [
    "evet_i.head()"
   ]
  },
  {
   "cell_type": "code",
   "execution_count": 11,
   "metadata": {},
   "outputs": [
    {
     "data": {
      "text/html": [
       "<div>\n",
       "<style scoped>\n",
       "    .dataframe tbody tr th:only-of-type {\n",
       "        vertical-align: middle;\n",
       "    }\n",
       "\n",
       "    .dataframe tbody tr th {\n",
       "        vertical-align: top;\n",
       "    }\n",
       "\n",
       "    .dataframe thead th {\n",
       "        text-align: right;\n",
       "    }\n",
       "</style>\n",
       "<table border=\"1\" class=\"dataframe\">\n",
       "  <thead>\n",
       "    <tr style=\"text-align: right;\">\n",
       "      <th></th>\n",
       "      <th>order_id</th>\n",
       "      <th>task_type</th>\n",
       "      <th>job_name</th>\n",
       "      <th>job_id</th>\n",
       "      <th>odate</th>\n",
       "      <th>max_wait</th>\n",
       "      <th>confirm_flag</th>\n",
       "      <th>from_time</th>\n",
       "      <th>to_time</th>\n",
       "      <th>interval</th>\n",
       "      <th>...</th>\n",
       "      <th>nodegroup</th>\n",
       "      <th>order_table</th>\n",
       "      <th>order_time</th>\n",
       "      <th>avg_start_time</th>\n",
       "      <th>cpu_time</th>\n",
       "      <th>prev_odate_rerun_counter</th>\n",
       "      <th>v_date</th>\n",
       "      <th>order_d</th>\n",
       "      <th>server</th>\n",
       "      <th>end_dt</th>\n",
       "    </tr>\n",
       "  </thead>\n",
       "  <tbody>\n",
       "    <tr>\n",
       "      <th>0</th>\n",
       "      <td>4bdxe</td>\n",
       "      <td>Command</td>\n",
       "      <td>EXM_P_HWHC_5_WEAPP4_WE2_CUS_EXAM_REFER_INFO_D</td>\n",
       "      <td>198188.0</td>\n",
       "      <td>180605</td>\n",
       "      <td>1</td>\n",
       "      <td>0</td>\n",
       "      <td>NaN</td>\n",
       "      <td>NaN</td>\n",
       "      <td>00005M</td>\n",
       "      <td>...</td>\n",
       "      <td>GRP_DS_AGENT</td>\n",
       "      <td>DXP_EX_RTL2_LF06</td>\n",
       "      <td>20180605000155</td>\n",
       "      <td>12518.0</td>\n",
       "      <td>41</td>\n",
       "      <td>NaN</td>\n",
       "      <td>180605</td>\n",
       "      <td>180605</td>\n",
       "      <td>1</td>\n",
       "      <td>98.0</td>\n",
       "    </tr>\n",
       "    <tr>\n",
       "      <th>1</th>\n",
       "      <td>4be82</td>\n",
       "      <td>Command</td>\n",
       "      <td>SYS_FW_LD_TDW_1_P_HWHC_3_WEAPP2_WE2_CUS_ADD_OT...</td>\n",
       "      <td>27178.0</td>\n",
       "      <td>180605</td>\n",
       "      <td>1</td>\n",
       "      <td>0</td>\n",
       "      <td>NaN</td>\n",
       "      <td>NaN</td>\n",
       "      <td>NaN</td>\n",
       "      <td>...</td>\n",
       "      <td>GRP_FS_AGENT</td>\n",
       "      <td>DXP_LD_TDW_RTL2_LF06</td>\n",
       "      <td>20180605000155</td>\n",
       "      <td>13018.0</td>\n",
       "      <td>0</td>\n",
       "      <td>NaN</td>\n",
       "      <td>180605</td>\n",
       "      <td>180605</td>\n",
       "      <td>1</td>\n",
       "      <td>114.0</td>\n",
       "    </tr>\n",
       "    <tr>\n",
       "      <th>2</th>\n",
       "      <td>4bdxd</td>\n",
       "      <td>Command</td>\n",
       "      <td>EXM_P_HWHC_5_WEAPP4_WE2_CUS_EXAM_REFER_INFO_A</td>\n",
       "      <td>13977.0</td>\n",
       "      <td>180605</td>\n",
       "      <td>1</td>\n",
       "      <td>0</td>\n",
       "      <td>NaN</td>\n",
       "      <td>NaN</td>\n",
       "      <td>00005M</td>\n",
       "      <td>...</td>\n",
       "      <td>GRP_DS_AGENT</td>\n",
       "      <td>DXP_EX_RTL2_LF06</td>\n",
       "      <td>20180605000155</td>\n",
       "      <td>12545.0</td>\n",
       "      <td>18</td>\n",
       "      <td>NaN</td>\n",
       "      <td>180605</td>\n",
       "      <td>180605</td>\n",
       "      <td>1</td>\n",
       "      <td>98.0</td>\n",
       "    </tr>\n",
       "    <tr>\n",
       "      <th>3</th>\n",
       "      <td>4beg2</td>\n",
       "      <td>Command</td>\n",
       "      <td>EXZ_T_HTDW_AMDS_AMDS_FTM_MN010202</td>\n",
       "      <td>47648.0</td>\n",
       "      <td>180605</td>\n",
       "      <td>1</td>\n",
       "      <td>0</td>\n",
       "      <td>NaN</td>\n",
       "      <td>NaN</td>\n",
       "      <td>00002M</td>\n",
       "      <td>...</td>\n",
       "      <td>GRP_DS_AGENT</td>\n",
       "      <td>DXP_EX_CMD_LV05</td>\n",
       "      <td>20180605000155</td>\n",
       "      <td>104052.0</td>\n",
       "      <td>28</td>\n",
       "      <td>NaN</td>\n",
       "      <td>180605</td>\n",
       "      <td>180605</td>\n",
       "      <td>1</td>\n",
       "      <td>717.0</td>\n",
       "    </tr>\n",
       "    <tr>\n",
       "      <th>4</th>\n",
       "      <td>4be02</td>\n",
       "      <td>Command</td>\n",
       "      <td>EXM_P_HWHC_5_WEAPP4_WE2_CUS_ADD_OTHER_AST_D</td>\n",
       "      <td>41420.0</td>\n",
       "      <td>180605</td>\n",
       "      <td>1</td>\n",
       "      <td>0</td>\n",
       "      <td>NaN</td>\n",
       "      <td>NaN</td>\n",
       "      <td>00005M</td>\n",
       "      <td>...</td>\n",
       "      <td>GRP_DS_AGENT</td>\n",
       "      <td>DXP_EX_RTL2_LF06</td>\n",
       "      <td>20180605000155</td>\n",
       "      <td>12618.0</td>\n",
       "      <td>21</td>\n",
       "      <td>NaN</td>\n",
       "      <td>180605</td>\n",
       "      <td>180605</td>\n",
       "      <td>1</td>\n",
       "      <td>108.0</td>\n",
       "    </tr>\n",
       "  </tbody>\n",
       "</table>\n",
       "<p>5 rows × 33 columns</p>\n",
       "</div>"
      ],
      "text/plain": [
       "  order_id task_type                                           job_name  \\\n",
       "0    4bdxe   Command      EXM_P_HWHC_5_WEAPP4_WE2_CUS_EXAM_REFER_INFO_D   \n",
       "1    4be82   Command  SYS_FW_LD_TDW_1_P_HWHC_3_WEAPP2_WE2_CUS_ADD_OT...   \n",
       "2    4bdxd   Command      EXM_P_HWHC_5_WEAPP4_WE2_CUS_EXAM_REFER_INFO_A   \n",
       "3    4beg2   Command                  EXZ_T_HTDW_AMDS_AMDS_FTM_MN010202   \n",
       "4    4be02   Command        EXM_P_HWHC_5_WEAPP4_WE2_CUS_ADD_OTHER_AST_D   \n",
       "\n",
       "     job_id   odate  max_wait  confirm_flag  from_time to_time interval  \\\n",
       "0  198188.0  180605         1             0        NaN     NaN   00005M   \n",
       "1   27178.0  180605         1             0        NaN     NaN      NaN   \n",
       "2   13977.0  180605         1             0        NaN     NaN   00005M   \n",
       "3   47648.0  180605         1             0        NaN     NaN   00002M   \n",
       "4   41420.0  180605         1             0        NaN     NaN   00005M   \n",
       "\n",
       "    ...       nodegroup           order_table      order_time  avg_start_time  \\\n",
       "0   ...    GRP_DS_AGENT      DXP_EX_RTL2_LF06  20180605000155         12518.0   \n",
       "1   ...    GRP_FS_AGENT  DXP_LD_TDW_RTL2_LF06  20180605000155         13018.0   \n",
       "2   ...    GRP_DS_AGENT      DXP_EX_RTL2_LF06  20180605000155         12545.0   \n",
       "3   ...    GRP_DS_AGENT       DXP_EX_CMD_LV05  20180605000155        104052.0   \n",
       "4   ...    GRP_DS_AGENT      DXP_EX_RTL2_LF06  20180605000155         12618.0   \n",
       "\n",
       "   cpu_time prev_odate_rerun_counter  v_date  order_d  server  end_dt  \n",
       "0        41                      NaN  180605   180605       1    98.0  \n",
       "1         0                      NaN  180605   180605       1   114.0  \n",
       "2        18                      NaN  180605   180605       1    98.0  \n",
       "3        28                      NaN  180605   180605       1   717.0  \n",
       "4        21                      NaN  180605   180605       1   108.0  \n",
       "\n",
       "[5 rows x 33 columns]"
      ]
     },
     "execution_count": 11,
     "metadata": {},
     "output_type": "execute_result"
    }
   ],
   "source": [
    "ajob.head()"
   ]
  },
  {
   "cell_type": "code",
   "execution_count": 12,
   "metadata": {},
   "outputs": [
    {
     "name": "stdout",
     "output_type": "stream",
     "text": [
      "                                   job_name  from_time\n",
      "107              EXZ_P_HBDS_1_SYSCAT_TABLES      600.0\n",
      "108     EXM_P_HFAP_1_SYSTEM_ALL_TAB_COLUMNS      600.0\n",
      "111  EXM_P_HWPH_3_INFORMATION_SCHEMA_TABLES        6.0\n",
      "115              EXZ_P_HCFC_1_SYSCAT_TABLES      600.0\n",
      "118  EXM_P_HWPD_5_INFORMATION_SCHEMA_TABLES        6.0\n"
     ]
    }
   ],
   "source": [
    "print(ajob_f_t.head())"
   ]
  },
  {
   "cell_type": "code",
   "execution_count": 17,
   "metadata": {},
   "outputs": [
    {
     "data": {
      "text/html": [
       "<div>\n",
       "<style scoped>\n",
       "    .dataframe tbody tr th:only-of-type {\n",
       "        vertical-align: middle;\n",
       "    }\n",
       "\n",
       "    .dataframe tbody tr th {\n",
       "        vertical-align: top;\n",
       "    }\n",
       "\n",
       "    .dataframe thead th {\n",
       "        text-align: right;\n",
       "    }\n",
       "</style>\n",
       "<table border=\"1\" class=\"dataframe\">\n",
       "  <thead>\n",
       "    <tr style=\"text-align: right;\">\n",
       "      <th></th>\n",
       "      <th>down</th>\n",
       "      <th>end_dt</th>\n",
       "      <th>up</th>\n",
       "    </tr>\n",
       "  </thead>\n",
       "  <tbody>\n",
       "    <tr>\n",
       "      <th>107</th>\n",
       "      <td>EXZ_P_HBDS_1_SYSCAT_TABLES</td>\n",
       "      <td>360.0</td>\n",
       "      <td>--</td>\n",
       "    </tr>\n",
       "    <tr>\n",
       "      <th>108</th>\n",
       "      <td>EXM_P_HFAP_1_SYSTEM_ALL_TAB_COLUMNS</td>\n",
       "      <td>360.0</td>\n",
       "      <td>--</td>\n",
       "    </tr>\n",
       "    <tr>\n",
       "      <th>111</th>\n",
       "      <td>EXM_P_HWPH_3_INFORMATION_SCHEMA_TABLES</td>\n",
       "      <td>6.0</td>\n",
       "      <td>--</td>\n",
       "    </tr>\n",
       "    <tr>\n",
       "      <th>115</th>\n",
       "      <td>EXZ_P_HCFC_1_SYSCAT_TABLES</td>\n",
       "      <td>360.0</td>\n",
       "      <td>--</td>\n",
       "    </tr>\n",
       "    <tr>\n",
       "      <th>118</th>\n",
       "      <td>EXM_P_HWPD_5_INFORMATION_SCHEMA_TABLES</td>\n",
       "      <td>6.0</td>\n",
       "      <td>--</td>\n",
       "    </tr>\n",
       "  </tbody>\n",
       "</table>\n",
       "</div>"
      ],
      "text/plain": [
       "                                       down  end_dt  up\n",
       "107              EXZ_P_HBDS_1_SYSCAT_TABLES   360.0  --\n",
       "108     EXM_P_HFAP_1_SYSTEM_ALL_TAB_COLUMNS   360.0  --\n",
       "111  EXM_P_HWPH_3_INFORMATION_SCHEMA_TABLES     6.0  --\n",
       "115              EXZ_P_HCFC_1_SYSCAT_TABLES   360.0  --\n",
       "118  EXM_P_HWPD_5_INFORMATION_SCHEMA_TABLES     6.0  --"
      ]
     },
     "execution_count": 17,
     "metadata": {},
     "output_type": "execute_result"
    }
   ],
   "source": [
    "ajob_f_t.head()"
   ]
  },
  {
   "cell_type": "code",
   "execution_count": 30,
   "metadata": {},
   "outputs": [
    {
     "data": {
      "text/plain": [
       "(241406, 3)"
      ]
     },
     "execution_count": 30,
     "metadata": {},
     "output_type": "execute_result"
    }
   ],
   "source": [
    "condition_m[condition_m['end_dt'].notnull()].shape"
   ]
  },
  {
   "cell_type": "code",
   "execution_count": 31,
   "metadata": {},
   "outputs": [
    {
     "data": {
      "text/html": [
       "<div>\n",
       "<style scoped>\n",
       "    .dataframe tbody tr th:only-of-type {\n",
       "        vertical-align: middle;\n",
       "    }\n",
       "\n",
       "    .dataframe tbody tr th {\n",
       "        vertical-align: top;\n",
       "    }\n",
       "\n",
       "    .dataframe thead th {\n",
       "        text-align: right;\n",
       "    }\n",
       "</style>\n",
       "<table border=\"1\" class=\"dataframe\">\n",
       "  <thead>\n",
       "    <tr style=\"text-align: right;\">\n",
       "      <th></th>\n",
       "      <th>up</th>\n",
       "      <th>down</th>\n",
       "      <th>end_dt</th>\n",
       "    </tr>\n",
       "  </thead>\n",
       "  <tbody>\n",
       "    <tr>\n",
       "      <th>0</th>\n",
       "      <td>EX_P_HWHC_5_WEAPP4_WE2_CUS_EXAM_REFER_INFO_D</td>\n",
       "      <td>EXM_P_HWHC_5_WEAPP4_WE2_CUS_EXAM_REFER_INFO_D</td>\n",
       "      <td>96.0</td>\n",
       "    </tr>\n",
       "    <tr>\n",
       "      <th>1</th>\n",
       "      <td>LD_TDW_1_P_HWHC_3_WEAPP2_WE2_CUS_ADD_OTHER_AST_A</td>\n",
       "      <td>SYS_FW_LD_TDW_1_P_HWHC_3_WEAPP2_WE2_CUS_ADD_OT...</td>\n",
       "      <td>114.0</td>\n",
       "    </tr>\n",
       "    <tr>\n",
       "      <th>2</th>\n",
       "      <td>EX_P_HWHC_5_WEAPP4_WE2_CUS_EXAM_REFER_INFO_A</td>\n",
       "      <td>EXM_P_HWHC_5_WEAPP4_WE2_CUS_EXAM_REFER_INFO_A</td>\n",
       "      <td>96.0</td>\n",
       "    </tr>\n",
       "    <tr>\n",
       "      <th>3</th>\n",
       "      <td>EXM_T_HTDW_AMDS_AMDS_FTM_MN010202</td>\n",
       "      <td>EXZ_T_HTDW_AMDS_AMDS_FTM_MN010202</td>\n",
       "      <td>717.0</td>\n",
       "    </tr>\n",
       "    <tr>\n",
       "      <th>4</th>\n",
       "      <td>FW_LD_CMD_1_T_HTDW_AMDS_AMDS_FTM_MN010102</td>\n",
       "      <td>LD_CMD_1_T_HTDW_AMDS_AMDS_FTM_MN010102</td>\n",
       "      <td>685.0</td>\n",
       "    </tr>\n",
       "  </tbody>\n",
       "</table>\n",
       "</div>"
      ],
      "text/plain": [
       "                                                 up  \\\n",
       "0      EX_P_HWHC_5_WEAPP4_WE2_CUS_EXAM_REFER_INFO_D   \n",
       "1  LD_TDW_1_P_HWHC_3_WEAPP2_WE2_CUS_ADD_OTHER_AST_A   \n",
       "2      EX_P_HWHC_5_WEAPP4_WE2_CUS_EXAM_REFER_INFO_A   \n",
       "3                 EXM_T_HTDW_AMDS_AMDS_FTM_MN010202   \n",
       "4         FW_LD_CMD_1_T_HTDW_AMDS_AMDS_FTM_MN010102   \n",
       "\n",
       "                                                down  end_dt  \n",
       "0      EXM_P_HWHC_5_WEAPP4_WE2_CUS_EXAM_REFER_INFO_D    96.0  \n",
       "1  SYS_FW_LD_TDW_1_P_HWHC_3_WEAPP2_WE2_CUS_ADD_OT...   114.0  \n",
       "2      EXM_P_HWHC_5_WEAPP4_WE2_CUS_EXAM_REFER_INFO_A    96.0  \n",
       "3                  EXZ_T_HTDW_AMDS_AMDS_FTM_MN010202   717.0  \n",
       "4             LD_CMD_1_T_HTDW_AMDS_AMDS_FTM_MN010102   685.0  "
      ]
     },
     "execution_count": 31,
     "metadata": {},
     "output_type": "execute_result"
    }
   ],
   "source": [
    "condition_m.head()"
   ]
  },
  {
   "cell_type": "code",
   "execution_count": 32,
   "metadata": {},
   "outputs": [],
   "source": []
  },
  {
   "cell_type": "code",
   "execution_count": 34,
   "metadata": {},
   "outputs": [
    {
     "data": {
      "text/plain": [
       "(284660, 3)"
      ]
     },
     "execution_count": 34,
     "metadata": {},
     "output_type": "execute_result"
    }
   ],
   "source": [
    "condition_m.shape"
   ]
  },
  {
   "cell_type": "code",
   "execution_count": 35,
   "metadata": {},
   "outputs": [],
   "source": []
  },
  {
   "cell_type": "code",
   "execution_count": 36,
   "metadata": {},
   "outputs": [
    {
     "data": {
      "text/plain": [
       "down\n",
       "78LET_ZXTJ_RTL2                360.0\n",
       "AAKP_C_AAKP_A_BUSMID_S_RPT    1016.0\n",
       "AAKP_C_AAKP_M_BILSEL_STS_S     794.0\n",
       "AAKP_C_AAKP_M_BIL_INCOME_S     240.0\n",
       "AAKP_C_AAKP_M_BIL_STS_S        249.0\n",
       "Name: end_dt, dtype: float64"
      ]
     },
     "execution_count": 36,
     "metadata": {},
     "output_type": "execute_result"
    }
   ],
   "source": [
    "condition_l.head()"
   ]
  },
  {
   "cell_type": "code",
   "execution_count": 38,
   "metadata": {},
   "outputs": [],
   "source": []
  },
  {
   "cell_type": "code",
   "execution_count": 39,
   "metadata": {},
   "outputs": [
    {
     "data": {
      "text/html": [
       "<div>\n",
       "<style scoped>\n",
       "    .dataframe tbody tr th:only-of-type {\n",
       "        vertical-align: middle;\n",
       "    }\n",
       "\n",
       "    .dataframe tbody tr th {\n",
       "        vertical-align: top;\n",
       "    }\n",
       "\n",
       "    .dataframe thead th {\n",
       "        text-align: right;\n",
       "    }\n",
       "</style>\n",
       "<table border=\"1\" class=\"dataframe\">\n",
       "  <thead>\n",
       "    <tr style=\"text-align: right;\">\n",
       "      <th></th>\n",
       "      <th>end_dt_max</th>\n",
       "      <th>job_name</th>\n",
       "    </tr>\n",
       "    <tr>\n",
       "      <th>down</th>\n",
       "      <th></th>\n",
       "      <th></th>\n",
       "    </tr>\n",
       "  </thead>\n",
       "  <tbody>\n",
       "    <tr>\n",
       "      <th>78LET_ZXTJ_RTL2</th>\n",
       "      <td>360.0</td>\n",
       "      <td>78LET_ZXTJ_RTL2</td>\n",
       "    </tr>\n",
       "    <tr>\n",
       "      <th>AAKP_C_AAKP_A_BUSMID_S_RPT</th>\n",
       "      <td>1016.0</td>\n",
       "      <td>AAKP_C_AAKP_A_BUSMID_S_RPT</td>\n",
       "    </tr>\n",
       "    <tr>\n",
       "      <th>AAKP_C_AAKP_M_BILSEL_STS_S</th>\n",
       "      <td>794.0</td>\n",
       "      <td>AAKP_C_AAKP_M_BILSEL_STS_S</td>\n",
       "    </tr>\n",
       "    <tr>\n",
       "      <th>AAKP_C_AAKP_M_BIL_INCOME_S</th>\n",
       "      <td>240.0</td>\n",
       "      <td>AAKP_C_AAKP_M_BIL_INCOME_S</td>\n",
       "    </tr>\n",
       "    <tr>\n",
       "      <th>AAKP_C_AAKP_M_BIL_STS_S</th>\n",
       "      <td>249.0</td>\n",
       "      <td>AAKP_C_AAKP_M_BIL_STS_S</td>\n",
       "    </tr>\n",
       "  </tbody>\n",
       "</table>\n",
       "</div>"
      ],
      "text/plain": [
       "                            end_dt_max                    job_name\n",
       "down                                                              \n",
       "78LET_ZXTJ_RTL2                  360.0             78LET_ZXTJ_RTL2\n",
       "AAKP_C_AAKP_A_BUSMID_S_RPT      1016.0  AAKP_C_AAKP_A_BUSMID_S_RPT\n",
       "AAKP_C_AAKP_M_BILSEL_STS_S       794.0  AAKP_C_AAKP_M_BILSEL_STS_S\n",
       "AAKP_C_AAKP_M_BIL_INCOME_S       240.0  AAKP_C_AAKP_M_BIL_INCOME_S\n",
       "AAKP_C_AAKP_M_BIL_STS_S          249.0     AAKP_C_AAKP_M_BIL_STS_S"
      ]
     },
     "execution_count": 39,
     "metadata": {},
     "output_type": "execute_result"
    }
   ],
   "source": [
    "condition_l.head()"
   ]
  },
  {
   "cell_type": "code",
   "execution_count": 41,
   "metadata": {},
   "outputs": [
    {
     "data": {
      "text/plain": [
       "(192686, 2)"
      ]
     },
     "execution_count": 41,
     "metadata": {},
     "output_type": "execute_result"
    }
   ],
   "source": [
    "condition_l.shape"
   ]
  },
  {
   "cell_type": "code",
   "execution_count": 40,
   "metadata": {},
   "outputs": [],
   "source": []
  },
  {
   "cell_type": "code",
   "execution_count": 44,
   "metadata": {},
   "outputs": [
    {
     "name": "stdout",
     "output_type": "stream",
     "text": [
      "(247689, 7)\n",
      "(247642, 8)\n"
     ]
    }
   ],
   "source": [
    "print(evet_i.shape)\n",
    "\n",
    "print(evet_i.shape)"
   ]
  },
  {
   "cell_type": "code",
   "execution_count": 47,
   "metadata": {},
   "outputs": [],
   "source": []
  },
  {
   "cell_type": "code",
   "execution_count": 50,
   "metadata": {},
   "outputs": [
    {
     "name": "stdout",
     "output_type": "stream",
     "text": [
      "(247642, 10)\n",
      "(247391, 10)\n"
     ]
    }
   ],
   "source": [
    "print(evet_i_m.shape)\n",
    "evet_i_m = evet_i_m[evet_i_m.end_time<20180607000000]\n",
    "print(evet_i_m.shape)"
   ]
  },
  {
   "cell_type": "code",
   "execution_count": 2,
   "metadata": {},
   "outputs": [
    {
     "data": {
      "text/plain": [
       "'AAKP_C'"
      ]
     },
     "execution_count": 2,
     "metadata": {},
     "output_type": "execute_result"
    }
   ],
   "source": [
    "s='AAKP_C_AAKP_A_BUSMID_S_RPt'\n",
    "'_'.join(s.split('_')[:2])"
   ]
  },
  {
   "cell_type": "code",
   "execution_count": null,
   "metadata": {},
   "outputs": [],
   "source": [
    "FW_TS  --\n",
    "FW_LD  -- 无开始作业 开始从0点\n",
    "FW_FS  -- 无开始作业 开始从0点\n",
    "FW_TB  ---\n",
    "\n",
    "SYS_FS  -- 无开始作业 开始从0点\n",
    "SYS_EA  --\n",
    "SYS_CHK  --\n",
    "\n",
    "RT_RST  -- 无开始作业 开始从0点  有时间窗口\n",
    "\n",
    "这些作业没有上游作业\n",
    "\n",
    "SYS_FW有上游作业"
   ]
  }
 ],
 "metadata": {
  "kernelspec": {
   "display_name": "Python 3",
   "language": "python",
   "name": "python3"
  },
  "language_info": {
   "codemirror_mode": {
    "name": "ipython",
    "version": 3
   },
   "file_extension": ".py",
   "mimetype": "text/x-python",
   "name": "python",
   "nbconvert_exporter": "python",
   "pygments_lexer": "ipython3",
   "version": "3.6.3"
  }
 },
 "nbformat": 4,
 "nbformat_minor": 2
}
