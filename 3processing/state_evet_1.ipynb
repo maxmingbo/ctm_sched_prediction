{
 "cells": [
  {
   "cell_type": "code",
   "execution_count": 3,
   "metadata": {},
   "outputs": [],
   "source": [
    "import pandas as pd\n",
    "import datetime\n",
    "import numpy as np\n",
    "import time\n",
    "\n",
    "pd.options.mode.chained_assignment = None  # default='warn'"
   ]
  },
  {
   "cell_type": "code",
   "execution_count": 10,
   "metadata": {},
   "outputs": [],
   "source": [
    "d_list=    [ '180603', '180604', '180605', '180606', '180607', '180608', '180609', '180610',\\\n",
    "           '180611', '180612', '180613', '180614', '180615', '180616', '180617', '180618', '180619', '180620',\\\n",
    "           '180621', '180622', '180623', '180624', '180625', '180626', '180627', '180628', '180629', '180630',\\\n",
    "           '180701', '180702', '180703', '180704', '180705', '180706', '180707', '180708', '180709', '180710', \\\n",
    "           '180711', '180712', '180713', '180714', '180715',\\\n",
    "           '180716', '180717', '180718', '180719', '180720', '180721', '180722', '180723', '180724', '180725',\\\n",
    "           '180726', '180727', '180728', '180729', '180730', '180731', '180801', '180802', '180803', '180804',\\\n",
    "           '180805', '180806', '180807', '180808', '180809', '180810', '180811', '180812', '180813', '180814',\\\n",
    "           '180815', '180816', '180817', '180818', '180819', '180820', '180821', '180822', \\\n",
    "            '180828', '180829', '180830', '180831', '180901', '180902', '180903', '180904', '180905',\\\n",
    "           '180906', '180907', '180908', '180909', '180910', '180911', '180912', '180913', '180914', '180915',\\\n",
    "           '180916', '180917', '180918', '180919', '180920', '180921', '180922', '180923', '180924', '180925', \\\n",
    "            '180926', '180927', '180928', '180929', '180930', '181001', '181002', '181003', '181004', '181005', \\\n",
    "           '181006', '181007', '181008', '181009', '181010', '181011', '181012', '181013', '181014', '181015', \\\n",
    "           '181016', '181017', '181018', '181019', '181020', '181021',\\\n",
    "            '181022', '181023', '181024', '181025', '181026', '181027', '181028', '181029', '181030', \\\n",
    "           '181031', '181101', '181102', '181103', '181104']\n",
    "\n",
    "day_all= ['180602', '180603', '180604', '180605', '180606', '180607', '180608', '180609', '180610',\\\n",
    "           '180611', '180612', '180613', '180614', '180615', '180616', '180617', '180618', '180619', '180620',\\\n",
    "           '180621', '180622', '180623', '180624', '180625', '180626', '180627', '180628', '180629', '180630',\\\n",
    "           '180701', '180702', '180703', '180704', '180705', '180706', '180707', '180708', '180709', '180710', \\\n",
    "           '180711', '180712', '180713', '180714', '180715',\\\n",
    "           '180716', '180717', '180718', '180719', '180720', '180721', '180722', '180723', '180724', '180725',\\\n",
    "           '180726', '180727', '180728', '180729', '180730', '180731', '180801', '180802', '180803', '180804',\\\n",
    "           '180805', '180806', '180807', '180808', '180809', '180810', '180811', '180812', '180813', '180814',\\\n",
    "           '180815', '180816', '180817', '180818', '180819', '180820', '180821', '180822', \\\n",
    "            '180828', '180829', '180830', '180831', '180901', '180902', '180903', '180904', '180905',\\\n",
    "           '180906', '180907', '180908', '180909', '180910', '180911', '180912', '180913', '180914', '180915',\\\n",
    "           '180916', '180917', '180918', '180919', '180920', '180921', '180922', '180923', '180924', '180925', \\\n",
    "            '180926', '180927', '180928', '180929', '180930', '181001', '181002', '181003', '181004', '181005', \\\n",
    "           '181006', '181007', '181008', '181009', '181010', '181011', '181012', '181013', '181014', '181015', \\\n",
    "           '181016', '181017', '181018', '181019', '181020', '181021',\\\n",
    "            '181022', '181023', '181024', '181025', '181026', '181027', '181028', '181029', '181030', \\\n",
    "           '181031', '181101', '181102', '181103', '181104', '181105']"
   ]
  },
  {
   "cell_type": "markdown",
   "metadata": {},
   "source": [
    "### 统计事件表中每个状态，每个作业每天的状态变化计数\n",
    "训练的时候 ,只能用前几天的特征"
   ]
  },
  {
   "cell_type": "code",
   "execution_count": 11,
   "metadata": {},
   "outputs": [
    {
     "name": "stdout",
     "output_type": "stream",
     "text": [
      "180603 180604 180605 180606 180607 180608 180609 180610 180611 180612 180613 180614 180615 180616 180617 180618 180619 180620 180621 180622 180623 180624 180625 180626 180627 180628 180629 180630 180701 180702 180703 180704 180705 180706 180707 180708 180709 180710 180711 180712 180713 180714 next_day not find\n",
      "180715 180716 180717 180718 180719 180720 180721 180722 180723 180724 180725 180726 180727 180728 180729 180730 180731 180801 180802 180803 180804 180805 180806 180807 180808 180809 180810 180811 180812 180813 180814 180815 180816 180817 180818 180819 180820 180821 next_day not find\n",
      "180822 180828 180829 180830 180831 180901 180902 180903 180904 180905 180906 180907 180908 180909 180910 180911 180912 180913 180914 180915 180916 180917 180918 180919 180920 180921 180922 180923 180924 180925 180926 180927 180928 180929 180930 181001 181002 181003 181004 181005 181006 181007 181008 181009 181010 181011 181012 181013 181014 181015 181016 181017 181018 181019 181020 next_day not find\n",
      "181021 181022 181023 181024 181025 181026 181027 181028 181029 181030 181031 181101 181102 181103 next_day not find\n",
      "181104 "
     ]
    }
   ],
   "source": [
    "#只对第二天4点前结束的作业有效，训练也应取4点前结束的训练\n",
    "\n",
    "flag = 0\n",
    "# for day in d_list:\n",
    "for day in d_list:\n",
    "    \n",
    "    def get_clc_job_begain_time(x):\n",
    "        if x[0] in clc_jobhead:\n",
    "            return '20'+day+'000000'\n",
    "        else:\n",
    "            return x[1]\n",
    "\n",
    "\n",
    "    day_i  = day_all.index(day)\n",
    "\n",
    "    day_after = int(day_all[day_i+1])\n",
    "    day_after_end = int('20'+day_all[day_i+1] +'040000')\n",
    "    \n",
    "    \n",
    "    #-------------------------------------------------------------------------------------\n",
    "    # 实例化时今天， 结束在今天和第二天的所有作业--ajob\n",
    "    \n",
    "    ajob = pd.read_csv(r'E:\\jupyter\\CTM\\data_src\\ajob_0\\ajob_%s_0.csv'%day,low_memory=False)\n",
    "    ajob = ajob[ajob.end_time<= day_after_end]\n",
    "\n",
    "    \n",
    "    #print(ajob.shape)\n",
    "    \n",
    "    \n",
    "    # ajob2 在第二天结束的作业\n",
    "    ajob2 = ajob[ajob.v_date == day_after]\n",
    "    ajob2 = ajob2[['order_id','job_name','server']]\n",
    "    #print(ajob2.shape)\n",
    "\n",
    "    ajob = ajob[['order_id','job_name','end_time']]\n",
    "    \n",
    "    \n",
    "    #-------------------------------------------------------------------------------------\n",
    "    #取事件表 并处理\n",
    "    if flag == 0:\n",
    "        evet1 = pd.read_csv(r'E:\\jupyter\\CTM\\data_src\\evet\\evet_%s.csv'%day)\n",
    "        evet1 = evet1[['order_id','evt_time','new_value', 'old_value','server']]\n",
    "        evet1 = evet1.dropna()\n",
    "        evet1 = evet1.drop_duplicates(keep='first')\n",
    "\n",
    "        evet1['server'] = evet1['server'].apply(str)\n",
    "        evet1['order_id'] = evet1[['order_id','server']].apply(lambda x:x[0]+x[1],axis=1)\n",
    "        flag = 1\n",
    "    else:\n",
    "        evet1 = evet2\n",
    "        \n",
    "    evet1 = evet1.merge(ajob,how='left',on='order_id')\n",
    "    evet1 = evet1[evet1.job_name.notnull()]\n",
    "    #print(evet1.shape)\n",
    "\n",
    "    #--------------------------------------------------------------------------------------\n",
    "    \n",
    "    if day == d_list[-1]:\n",
    "        pass\n",
    "    else:\n",
    "        evet2 = pd.read_csv(r'E:\\jupyter\\CTM\\data_src\\evet\\evet_%s.csv'%str(day_after))   \n",
    "        evet2 = evet2[['order_id','evt_time','new_value', 'old_value','server']]\n",
    "        evet2 = evet2.dropna()\n",
    "        evet2 = evet2.drop_duplicates(keep='first')\n",
    "\n",
    "        evet2['server'] = evet2['server'].apply(str)\n",
    "        evet2['order_id'] = evet2[['order_id','server']].apply(lambda x:x[0]+x[1],axis=1)\n",
    "\n",
    "    if ajob2.shape[0]<1:\n",
    "        print('next_day not find')\n",
    "    else:\n",
    "        evet2_merge = evet2.merge(ajob2,how='left',on='order_id')\n",
    "        evet2_merge = evet2_merge[evet2_merge.job_name.notnull()]\n",
    "        evet1 = pd.concat([evet1,evet2_merge], ignore_index=True)\n",
    "\n",
    "    evet_groupby = evet1.groupby('order_id').order_id.count()\n",
    "    evet_groupby =evet_groupby.to_frame(name='all_count')\n",
    "    evet_groupby['order_id'] = evet_groupby.index\n",
    "    \n",
    "    evet_groupby = evet_groupby.merge(ajob[['order_id','job_name']],on='order_id',how='left')\n",
    "    \n",
    "    for col in ['new_value','old_value']:\n",
    "        for state in [1,2,4,8,32,2048]:\n",
    "            state_groupby = evet1[evet1[col]==state].groupby('order_id').order_id.count()\n",
    "            state_groupby =state_groupby.to_frame(name='%s_%d'%(col,state))\n",
    "            state_groupby['order_id'] = state_groupby.index\n",
    "            \n",
    "            evet_groupby = evet_groupby.merge(state_groupby,how='left',on='order_id')\n",
    "            \n",
    "            evet_groupby.fillna(0,inplace=True)\n",
    "            del state_groupby\n",
    "\n",
    "    evet_groupby = evet_groupby.round(3)\n",
    "    del ajob\n",
    "    evet_groupby.to_csv(r'E:\\jupyter\\CTM\\data_processed\\evet_count\\evet_count_%s.csv'%day,index=False)\n",
    "    print(day,end=' ')"
   ]
  },
  {
   "cell_type": "code",
   "execution_count": 9,
   "metadata": {},
   "outputs": [
    {
     "name": "stdout",
     "output_type": "stream",
     "text": [
      "180602 "
     ]
    }
   ],
   "source": []
  },
  {
   "cell_type": "code",
   "execution_count": null,
   "metadata": {},
   "outputs": [],
   "source": []
  },
  {
   "cell_type": "markdown",
   "metadata": {},
   "source": [
    "### 统计0-4点作业状态变化计数，按作业名前缀分组 \n",
    "训练时，每个都可以用当天的特征"
   ]
  },
  {
   "cell_type": "code",
   "execution_count": 17,
   "metadata": {},
   "outputs": [],
   "source": [
    "# day_all = ['180602', '180603', '180604', '180605', '180606', '180607', '180608', '180609', '180610',\\\n",
    "#            '180611', '180612', '180613', '180614', '180615', '180616', '180617', '180618', '180619', '180620',\\\n",
    "#            '180621', '180622', '180623', '180624', '180625', '180626', '180627', '180628', '180629', '180630',\\\n",
    "#            '180701', '180702', '180703', '180704', '180705', '180706', '180707', '180708', '180709', '180710', \\\n",
    "#            '180711', '180712', '180713', '180714', '180715',\\\n",
    "#            '180716', '180717', '180718', '180719', '180720', '180721', '180722', '180723', '180724', '180725',\\\n",
    "#            '180726', '180727', '180728', '180729', '180730', '180731', '180801', '180802', '180803', '180804',\\\n",
    "#            '180805', '180806', '180807', '180808', '180809', '180810', '180811', '180812', '180813', '180814',\\\n",
    "#            '180815', '180816', '180817', '180818', '180819', '180820', '180821', '180822', \\\n",
    "#            '180828', '180829', '180830', '180831', '180901', '180902', '180903', '180904', '180905',\\\n",
    "#            '180906', '180907', '180908', '180909', '180910', '180911', '180912', '180913', '180914', '180915',\\\n",
    "#            '180916', '180917', '180918', '180919', '180920', '180921', '180922', '180923', '180924', '180925', \\\n",
    "#             '180926', '180927', '180928', '180929', '180930', '181001', '181002', '181003', '181004', '181005', \\\n",
    "#            '181006', '181007', '181008', '181009', '181010', '181011', '181012', '181013', '181014', '181015', \\\n",
    "#            '181016', '181017', '181018', '181019', '181020', '181021',\\\n",
    "#            '181022', '181023', '181024', '181025', '181026', '181027', '181028', '181029', '181030', \\\n",
    "#            '181031', '181101', '181102', '181103', '181104', '181105', '181106', '181107', '181108', '181109',\\\n",
    "#            '181110', '181111']\n",
    "day_all = ['180828', '180829', '180830', '180831', '180901', '180902', '180903', '180904', '180905',\\\n",
    "           '180906', '180907', '180908', '180909', '180910', '180911', '180912', '180913', '180914', '180915',\\\n",
    "           '180916', '180917', '180918', '180919', '180920', '180921', '180922', '180923', '180924', '180925', \\\n",
    "            '180926', '180927', '180928', '180929', '180930', '181001', '181002', '181003', '181004', '181005', \\\n",
    "           '181006', '181007', '181008', '181009', '181010', '181011', '181012', '181013', '181014', '181015', \\\n",
    "           '181016', '181017', '181018', '181019', '181020', '181021',\\\n",
    "           '181022', '181023', '181024', '181025', '181026', '181027', '181028', '181029', '181030', \\\n",
    "           '181031', '181101', '181102', '181103', '181104', '181105', '181106', '181107', '181108', '181109',\\\n",
    "           '181110', '181111']"
   ]
  },
  {
   "cell_type": "code",
   "execution_count": 24,
   "metadata": {},
   "outputs": [],
   "source": [
    "prefixs_2 = ('RT_RST','RF_RST','SYS_FS','FW_LD','SYS_FW','EXZ_T','EX_P','FW_TB','RU_P',\\\n",
    "             'FW_TS','EXZ_P','EX_A','LD_TDW','STG_V','EXZ_A','STG_C','PDM_P','RU_HCDC','EXM_P',\\\n",
    "             'PDM_C','PDM_F','EX_T','NDS_P','NDS_C','TB_A','EXM_T','TS_HEES','EL_DXP','EXM_A','BRTL_C')\n",
    "\n",
    "cls = []\n",
    "for cl in ['old_','new_']:\n",
    "    for state in (1,2,4,8,16,32,2048):\n",
    "        for job_prefix in prefixs_2:\n",
    "            cls.append(cl+str(state)+'_'+job_prefix)\n",
    "allday_list =[]\n",
    "allday_index = []\n",
    "\n",
    "def event_0_4_finished_cnt(day):\n",
    "    #day = '181028'\n",
    "    everyday_list = []\n",
    "\n",
    "    df = pd.read_csv(r'E:\\jupyter\\CTM\\data_src\\evet\\evet_%s.csv'%day,low_memory=False)\n",
    "    #2018-10-24 01:10:54\n",
    "    #print(df.shape)\n",
    "    endt_th = '20'+ day[:2]+'-'+day[2:4]+'-'+day[4:] +' 04:00:00'\n",
    "    df = df[df['evt_time']<=endt_th]    \n",
    "    #print(df.shape)\n",
    "    #df['evt_time'] = df['evt_time'].apply(lambda x: int(''.join(''.join((''.join(x.split('-'))).split(' ')).split(':'))))\n",
    "\n",
    "    #endt_th = int('20'+ day +'040000')\n",
    "    #df = df[df['evt_time']<endt_th]\n",
    "    df['server'] = df['server'].apply(str)\n",
    "    df['order_id'] = df[['order_id','server']].apply(lambda x:str(x[0])+str(x[1]),axis=1)\n",
    "\n",
    "    djob = pd.read_csv(r'E:\\jupyter\\CTM\\data_src\\ajob_0\\ajob_%s_0.csv'%day,low_memory=False)\n",
    "    df = df.merge(djob,how='left',on='order_id')\n",
    "    df = df[df.job_name.notnull()]\n",
    "\n",
    "    df['job_prefix'] = df['job_name'].apply(lambda x:'_'.join(x.split(\"_\")[0:2]))\n",
    "\n",
    "    for cl in ['old_value','new_value']:\n",
    "        for state in (1,2,4,8,16,32,2048):\n",
    "            for job_prefix in prefixs_2:\n",
    "                everyday_list.append(df[(df[cl]==state)&(df['job_prefix']==job_prefix)].order_id.count())\n",
    "    return everyday_list\n"
   ]
  },
  {
   "cell_type": "code",
   "execution_count": 25,
   "metadata": {},
   "outputs": [
    {
     "name": "stdout",
     "output_type": "stream",
     "text": [
      "180828 180829 180830 180831 180901 180902 180903 180904 180905 180906 180907 180908 180909 180910 180911 180912 180913 180914 180915 180916 180917 180918 180919 180920 180921 180922 180923 180924 180925 180926 180927 180928 180929 180930 181001 181002 181003 181004 181005 181006 181007 181008 181009 181010 181011 181012 181013 181014 181015 181016 181017 181018 181019 181020 181021 181022 181023 181024 181025 181026 181027 181028 181029 181030 181031 181101 181102 181103 181104 181105 181106 181107 181108 181109 181110 181111 (76, 420)\n"
     ]
    }
   ],
   "source": [
    "for day in day_all:\n",
    "    print(day,end=' ')\n",
    "    allday_list.append(event_0_4_finished_cnt(day))\n",
    "    allday_index.append(day)\n",
    "    \n",
    "fnish_at_0_4_countdf = pd.DataFrame(allday_list,columns=cls)\n",
    "fnish_at_0_4_countdf.index = allday_index\n",
    "print(fnish_at_0_4_countdf.shape)"
   ]
  },
  {
   "cell_type": "code",
   "execution_count": 26,
   "metadata": {},
   "outputs": [],
   "source": [
    "fnish_at_0_4_countdf.to_csv(r'E:\\jupyter\\CTM\\data_processed\\evet_count_byfolder\\evet_count_byfolder.csv',index=True)"
   ]
  },
  {
   "cell_type": "code",
   "execution_count": 14,
   "metadata": {},
   "outputs": [
    {
     "name": "stdout",
     "output_type": "stream",
     "text": [
      "(47, 420)\n"
     ]
    }
   ],
   "source": [
    "fnish_at_0_4_countdf = pd.DataFrame(allday_list,columns=cls)\n",
    "fnish_at_0_4_countdf.index = allday_index\n",
    "print(fnish_at_0_4_countdf.shape)"
   ]
  },
  {
   "cell_type": "code",
   "execution_count": 16,
   "metadata": {},
   "outputs": [
    {
     "data": {
      "text/plain": [
       "76"
      ]
     },
     "execution_count": 16,
     "metadata": {},
     "output_type": "execute_result"
    }
   ],
   "source": [
    "len(day_all)"
   ]
  },
  {
   "cell_type": "code",
   "execution_count": 20,
   "metadata": {},
   "outputs": [
    {
     "data": {
      "text/plain": [
       "'18-08-28'"
      ]
     },
     "execution_count": 20,
     "metadata": {},
     "output_type": "execute_result"
    }
   ],
   "source": [
    "day[:2]+'-'+day[2:4]+'-'+day[4:]"
   ]
  },
  {
   "cell_type": "code",
   "execution_count": null,
   "metadata": {},
   "outputs": [],
   "source": []
  }
 ],
 "metadata": {
  "kernelspec": {
   "display_name": "Python 3",
   "language": "python",
   "name": "python3"
  },
  "language_info": {
   "codemirror_mode": {
    "name": "ipython",
    "version": 3
   },
   "file_extension": ".py",
   "mimetype": "text/x-python",
   "name": "python",
   "nbconvert_exporter": "python",
   "pygments_lexer": "ipython3",
   "version": "3.6.3"
  }
 },
 "nbformat": 4,
 "nbformat_minor": 2
}
