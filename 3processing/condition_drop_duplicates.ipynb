{
 "cells": [
  {
   "cell_type": "code",
   "execution_count": 1,
   "metadata": {},
   "outputs": [],
   "source": [
    "import pandas as pd"
   ]
  },
  {
   "cell_type": "code",
   "execution_count": 15,
   "metadata": {},
   "outputs": [],
   "source": [
    "day_all = ['180602', '180603', '180604', '180605', '180606', '180607', '180608', '180609', '180610',\\\n",
    "           '180611', '180612', '180613', '180614', '180615', '180616', '180617', '180618', '180619', '180620',\\\n",
    "           '180621', '180622', '180623', '180624', '180625', '180626', '180627', '180628', '180629', '180630',\\\n",
    "           '180701', '180702', '180703', '180704', '180705', '180706', '180707', '180708', '180709', '180710', \\\n",
    "           '180711', '180712', '180713', '180714', '180715',\\\n",
    "           '180716', '180717', '180718', '180719', '180720', '180721', '180722', '180723', '180724', '180725',\\\n",
    "           '180726', '180727', '180728', '180729', '180730', '180731', '180801', '180802', '180803', '180804',\\\n",
    "           '180805', '180806', '180807', '180808', '180809', '180810', '180811', '180812', '180813', '180814',\\\n",
    "           '180815', '180816', '180817', '180818', '180819', '180820', '180821', '180822',  \\\n",
    "           '180828', '180829', '180830', '180831', '180901', '180902', '180903', '180904', '180905',\\\n",
    "           '180906', '180907', '180908', '180909', '180910', '180911', '180912', '180913', '180914', '180915',\\\n",
    "           '180916', '180917', '180918', '180919', '180920', '180921', '180922', '180923', '180924', '180925', \\\n",
    "            '180926', '180927', '180928', '180929', '180930', '181001', '181002', '181003', '181004', '181005', \\\n",
    "           '181006', '181007', '181008', '181009', '181010', '181011', '181012', '181013', '181014', '181015', \\\n",
    "           '181016', '181017', '181018', '181019', '181020', '181021',\\\n",
    "            '181022', '181023', '181024', '181025', '181026', '181027', '181028', '181029', '181030', \\\n",
    "           '181031', '181101', '181102', '181103', '181104', '181105', '181106', '181107', '181108', '181109',\\\n",
    "           '181110', '181111']\n",
    "pred_list = ['181105', '181106', '181107', '181108', '181109','181110', '181111']"
   ]
  },
  {
   "cell_type": "code",
   "execution_count": 16,
   "metadata": {},
   "outputs": [
    {
     "name": "stdout",
     "output_type": "stream",
     "text": [
      "181105 181106 181107 181108 181109 181110 181111 "
     ]
    }
   ],
   "source": [
    "for day in pred_list:\n",
    "    #day = '181028'\n",
    "\n",
    "    condition_i = pd.read_csv(r'E:\\jupyter\\CTM\\data_src\\condition_i\\conditin_i_%s_.csv'%day)\n",
    "    condition_o = pd.read_csv(r'E:\\jupyter\\CTM\\data_src\\condition_o\\conditin_o_%s_.csv'%day)\n",
    "\n",
    "    if day<'181001':\n",
    "        condition_i['odate'] = condition_i['odate'].apply(lambda x:'0'+str(x))\n",
    "    else:\n",
    "        condition_i['odate'] = condition_i['odate'].apply(str)\n",
    "\n",
    "    day_i = day[-4:]\n",
    "    #去重\n",
    "    #print(condition_i.shape)\n",
    "    condition_i = condition_i[condition_i.odate==day_i]\n",
    "    #print(condition_i.shape)\n",
    "    condition_i.drop_duplicates(subset=['up','down'],keep='last',inplace=True)\n",
    "    #print(condition_i.shape)\n",
    "\n",
    "    if day<'181001':\n",
    "        condition_o['odate'] = condition_o['odate'].apply(lambda x:'0'+str(x))\n",
    "    else:\n",
    "        condition_o['odate'] = condition_o['odate'].apply(str)\n",
    "\n",
    "    day_i = day[-4:]\n",
    "    #去重\n",
    "    #print(condition_o.shape)\n",
    "    condition_o = condition_o[condition_o.odate==day_i]\n",
    "    #print(condition_o.shape)\n",
    "    condition_o.drop_duplicates(subset=['up','down'],keep='last',inplace=True)\n",
    "    #print(condition_o.shape)\n",
    "\n",
    "    condition = pd.concat([condition_o[['up','down']],condition_i[['up','down']]],ignore_index=True)\n",
    "\n",
    "    #print(condition.shape)\n",
    "\n",
    "    condition.drop_duplicates(keep='last',inplace=True)\n",
    "\n",
    "    condition.to_csv(r'E:\\jupyter\\CTM\\data_processed\\condition_o\\condition_%s.csv'%day,index=False)\n",
    "\n",
    "    no_up_job = set(condition['up'])-set(condition['down'])\n",
    "    no_up_df = pd.DataFrame(list(no_up_job),columns=['no_up_job_name'])\n",
    "\n",
    "    no_up_df.to_csv(r'E:\\jupyter\\CTM\\data_processed\\condition_i\\no_upjob_%s.csv'%day,index=False)\n",
    "\n",
    "    print(day,end=' ')"
   ]
  },
  {
   "cell_type": "code",
   "execution_count": 9,
   "metadata": {},
   "outputs": [],
   "source": []
  },
  {
   "cell_type": "code",
   "execution_count": 7,
   "metadata": {},
   "outputs": [
    {
     "name": "stdout",
     "output_type": "stream",
     "text": [
      "(67011, 1)\n"
     ]
    }
   ],
   "source": [
    "\n",
    "print(no_up_df.shape)"
   ]
  },
  {
   "cell_type": "code",
   "execution_count": 10,
   "metadata": {},
   "outputs": [],
   "source": []
  },
  {
   "cell_type": "code",
   "execution_count": null,
   "metadata": {},
   "outputs": [],
   "source": []
  }
 ],
 "metadata": {
  "kernelspec": {
   "display_name": "Python 3",
   "language": "python",
   "name": "python3"
  },
  "language_info": {
   "codemirror_mode": {
    "name": "ipython",
    "version": 3
   },
   "file_extension": ".py",
   "mimetype": "text/x-python",
   "name": "python",
   "nbconvert_exporter": "python",
   "pygments_lexer": "ipython3",
   "version": "3.6.3"
  }
 },
 "nbformat": 4,
 "nbformat_minor": 2
}
