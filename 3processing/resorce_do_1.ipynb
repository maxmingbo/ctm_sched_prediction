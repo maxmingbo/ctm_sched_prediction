{
 "cells": [
  {
   "cell_type": "code",
   "execution_count": 29,
   "metadata": {},
   "outputs": [],
   "source": [
    "import pandas as pd\n",
    "\n",
    "# d_list = ['180716', '180717', '180718', '180719', '180720', \\\n",
    "#           '180721', '180722', '180723', '180724', '180725', \\\n",
    "#           '180726', '180727', '180728', '180729', '180730', '180731', '180801', '180802', '180803', '180804',\\\n",
    "#           '180805', '180806', '180807', '180808', '180809', '180810', '180811', '180812', '180813', '180814',\\\n",
    "#           '180815', '180816', '180817', '180818', '180819', '180820', '180821', '180822',\\\n",
    "d_list = ['180827', '180828', '180829', '180830', '180831', '180901', '180902', '180903', '180904', '180905',\\\n",
    "          '180906', '180907', '180908', '180909', '180910', '180911', '180912', '180913', '180914', '180915',\\\n",
    "          '180916', '180917', '180918', '180919', '180920', '180921', '180922', '180923', '180924', '180925',\\\n",
    "          '180926', '180927', '180928', '180929', '180930', '181001', '181002', '181003', '181004', '181005',\\\n",
    "          '181006', '181007', '181008', '181009', '181010', '181011', '181012', '181013', '181014', '181015',\\\n",
    "          '181016', '181017', '181018', '181019', '181020', '181021',\\\n",
    "          '181022', '181023', '181024', '181025', '181026', '181027', '181028', '181029', '181030',\\\n",
    "           '181031', '181101', '181102', '181103', '181104', '181105', '181106', '181107', '181108', '181109',\\\n",
    "           '181110', '181111']\n",
    "pred_day = ['181105', '181106', '181107', '181108', '181109','181110', '181111']"
   ]
  },
  {
   "cell_type": "code",
   "execution_count": 20,
   "metadata": {},
   "outputs": [],
   "source": [
    "import math\n",
    "def my_pow(p,n):\n",
    "    if p>1:\n",
    "        return 1\n",
    "    else:\n",
    "        return math.pow(p,n)\n",
    "def get_avg_run_stat_mint(s):\n",
    "    # 把时间转换成10进制数据  60进制-->100进制\n",
    "    if s is None:\n",
    "        return None\n",
    "    else:\n",
    "        h = s//10000\n",
    "        m = (s%10000)//100\n",
    "        \n",
    "        s = s%100 #不用精确到秒\n",
    "        return h*60+m+s/60"
   ]
  },
  {
   "cell_type": "code",
   "execution_count": 54,
   "metadata": {},
   "outputs": [
    {
     "name": "stdout",
     "output_type": "stream",
     "text": [
      "(280604, 5)\n",
      "(247598, 5)\n",
      "(222226, 5)\n"
     ]
    }
   ],
   "source": [
    "#资源池总量；多个文件合并。\n",
    "\n",
    "# res1 = pd.read_csv(r'E:\\jupyter\\CTM\\data_src\\resorce\\res_0715.csv')\n",
    "res2 = pd.read_csv(r'E:\\jupyter\\CTM\\data_src\\resorce\\res_0825.csv')\n",
    "res3 = pd.read_csv(r'E:\\jupyter\\CTM\\data_src\\resorce\\res_1020.csv')\n",
    "res4 = pd.read_csv(r'E:\\jupyter\\CTM\\data_src\\resorce\\res_1111.csv')\n",
    "res5 = pd.read_csv(r'E:\\jupyter\\CTM\\data_src\\resorce\\res_1111_.csv')\n",
    "res = pd.concat([res2,res3,res4,res5], ignore_index=True)\n",
    "\n",
    "print(res.shape)\n",
    "res = res[res['D'] == 'D']\n",
    "print(res.shape)\n",
    "res.drop_duplicates(subset=['resource','v_day','server'],keep='first',inplace=True)\n",
    "print(res.shape)\n",
    "res['v_day'] = res['v_day'].apply(str).apply(lambda x:x[:7])\n",
    "res['v_day'] = res['v_day'].apply(lambda x:x.replace('\\x1c',''))  #最后几天的v_day有特殊字符,需要过滤掉"
   ]
  },
  {
   "cell_type": "code",
   "execution_count": 55,
   "metadata": {},
   "outputs": [
    {
     "name": "stdout",
     "output_type": "stream",
     "text": [
      "181105 181106 181107 181108 181109 181110 181111 "
     ]
    }
   ],
   "source": [
    "\n",
    "\n",
    "for day in pred_day:\n",
    "#for day in d_list:\n",
    "# for day in ['181018']:\n",
    "    #day = '180603'   #调试用\n",
    "\n",
    "    d_res = res[res.v_day == day]\n",
    "    \n",
    "    #---------------------------------------------------------------------------------------------------\n",
    "    ajob = pd.read_csv(r'E:\\jupyter\\CTM\\data_src\\ajob_0\\ajob_%s_0.csv'%day,low_memory=False)\n",
    "    ajob = ajob[['order_id','job_name','avg_start_time']]\n",
    "    #-----------------------------------------------------------------------------------------------------\n",
    "    \n",
    "    if day in pred_day:\n",
    "        d_job_res = pd.read_csv(r'E:\\jupyter\\CTM\\data_src\\resorce\\job_res_num_%s_.csv'%day)\n",
    "    else:\n",
    "        d_job_res = pd.read_csv(r'E:\\jupyter\\CTM\\data_src\\resorce\\job_res_num_%s.csv'%day)\n",
    "        \n",
    "    d_job_res.drop_duplicates(subset=['order_id','resource','server'],keep='last',inplace=True)\n",
    "\n",
    "    \n",
    "    d_job_res = d_job_res.merge(d_res[['resource','server','max_res']],on =['resource','server'],how='left')\n",
    "\n",
    "    #构建唯一键\n",
    "    d_job_res['server'] = d_job_res['server'].apply(str)\n",
    "    d_job_res['res_key'] = d_job_res[['resource','server']].apply(lambda x:x[1]+x[0],axis=1)\n",
    "    d_job_res['order_id'] = d_job_res[['order_id','server']].apply(lambda x:x[0]+x[1],axis=1)\n",
    "\n",
    "    #----------------------------------------------------------------------------------------------------\n",
    "    #去掉其他天实例化的资源\n",
    "    #print(d_job_res.shape)\n",
    "    d_job_res = d_job_res.merge(ajob,how='left',on='order_id')\n",
    "    d_job_res = d_job_res[d_job_res.job_name.notnull()]\n",
    "    #print(d_job_res.shape)\n",
    "    \n",
    "    del d_job_res['job_name']\n",
    "    \n",
    "    #计算同一资源，有多少其他作业会争抢\n",
    "    res_groupby = d_job_res.groupby(['res_key']).quant.sum()\n",
    "    res_groupby = res_groupby.to_frame(name='res_quat_sum')\n",
    "    res_groupby['res_key'] = res_groupby.index\n",
    "\n",
    "    #计算同一资源，有多少其他作业会争抢\n",
    "    res_groupby_avgstart = d_job_res.groupby(['res_key']).avg_start_time.std()\n",
    "    res_groupby_avgstart = res_groupby_avgstart.to_frame(name='res_avg_start_std')\n",
    "    res_groupby_avgstart['res_key'] = res_groupby_avgstart.index\n",
    "    \n",
    "    #合并到同一个表里。\n",
    "    d_job_res = d_job_res.merge(res_groupby,on = 'res_key',how='left')\n",
    "    d_job_res = d_job_res.merge(res_groupby_avgstart,on = 'res_key',how='left')\n",
    "    \n",
    "    del d_job_res['resource']\n",
    "    del d_job_res['server']\n",
    "\n",
    "    \n",
    "    # 计算大致概率\n",
    "    d_job_res['p'] = d_job_res[['max_res','res_quat_sum']].apply(lambda x:x[0]/x[1] ,axis=1)\n",
    "    d_job_res['p_pow'] = d_job_res[['p','quant']].apply(lambda x:my_pow(x[0],x[1]),axis=1)\n",
    "    \n",
    "    #概率  考虑作业开始时间\n",
    "    d_job_res['p_div_std'] = d_job_res[['p','res_avg_start_std']].apply(lambda x:x[0]*x[1] ,axis=1)\n",
    "    d_job_res['p_pow_div_std'] = d_job_res[['p_pow','res_avg_start_std']].apply(lambda x:x[0]*x[1],axis=1)    \n",
    "\n",
    "    #将每个作业的所有资源概率累乘\n",
    "    sigle_job_res_prod = d_job_res.groupby('order_id')['p_pow'].prod()\n",
    "    sigle_job_res_prod = sigle_job_res_prod.to_frame(name='p_prod')\n",
    "    sigle_job_res_prod['order_id'] = sigle_job_res_prod.index\n",
    "    sigle_job_res_prod['p_prod'] = sigle_job_res_prod['p_prod'].apply(lambda x:x*100)\n",
    "\n",
    "\n",
    "    #sigle_job_res_prod = pd.read_csv(r'E:\\jupyter\\CTM\\data_processed\\resorce\\p_prod_%s.csv'%day)\n",
    "    \n",
    "    #----------------------------------------------------------------------------------\n",
    "    sigle_job_res_prod_min = d_job_res.groupby('order_id')['p_pow'].min()\n",
    "    sigle_job_res_prod_min = sigle_job_res_prod_min.to_frame(name='p_prod_min')\n",
    "    sigle_job_res_prod_min['order_id'] = sigle_job_res_prod_min.index\n",
    "    \n",
    "    sigle_job_res_prod_max = d_job_res.groupby('order_id')['p_pow'].max()\n",
    "    sigle_job_res_prod_max = sigle_job_res_prod_max.to_frame(name='p_prod_max')\n",
    "    sigle_job_res_prod_max['order_id'] = sigle_job_res_prod_max.index\n",
    "    \n",
    "    job_rese_prod_std_min = d_job_res.groupby('order_id')['p_div_std'].min()\n",
    "    job_rese_prod_std_min = job_rese_prod_std_min.to_frame(name='p_div_std_min')\n",
    "    job_rese_prod_std_min['order_id'] = job_rese_prod_std_min.index\n",
    "    \n",
    "    job_rese_prod_std_max = d_job_res.groupby('order_id')['p_div_std'].max()\n",
    "    job_rese_prod_std_max = job_rese_prod_std_max.to_frame(name='p_div_std_max')\n",
    "    job_rese_prod_std_max['order_id'] = job_rese_prod_std_max.index\n",
    "    \n",
    "    job_res_p_pow_std_min = d_job_res.groupby('order_id')['p_pow_div_std'].min()\n",
    "    job_res_p_pow_std_min = job_res_p_pow_std_min.to_frame(name='p_pow_div_std_min')\n",
    "    job_res_p_pow_std_min['order_id'] = job_res_p_pow_std_min.index\n",
    "    \n",
    "    job_res_p_pow_std_max = d_job_res.groupby('order_id')['p_pow_div_std'].max()\n",
    "    job_res_p_pow_std_max = job_res_p_pow_std_max.to_frame(name='p_pow_div_std_max')\n",
    "    job_res_p_pow_std_max['order_id'] = job_res_p_pow_std_max.index\n",
    "    #-----------------------------------------------------------------------------------\n",
    "    \n",
    "    sigle_job_res_prod = sigle_job_res_prod.merge(sigle_job_res_prod_min,on='order_id',how='left')\n",
    "    sigle_job_res_prod = sigle_job_res_prod.merge(sigle_job_res_prod_max,on='order_id',how='left')\n",
    "    \n",
    "    sigle_job_res_prod = sigle_job_res_prod.merge(job_rese_prod_std_min,on='order_id',how='left')\n",
    "    sigle_job_res_prod = sigle_job_res_prod.merge(job_rese_prod_std_max,on='order_id',how='left')\n",
    "\n",
    "    sigle_job_res_prod = sigle_job_res_prod.merge(job_res_p_pow_std_min,on='order_id',how='left')\n",
    "    sigle_job_res_prod = sigle_job_res_prod.merge(job_res_p_pow_std_max,on='order_id',how='left')\n",
    "    \n",
    "    sigle_job_res_prod = sigle_job_res_prod.round(3)\n",
    "    #d_job_res.to_csv(r'E:\\jupyter\\CTM\\data_processed\\resorce\\%s.csv'%day,index=False)\n",
    "    print(day,end=' ')\n",
    "    sigle_job_res_prod.to_csv(r'E:\\jupyter\\CTM\\data_processed\\resorce\\p_prod_%s.csv'%day,index=False)"
   ]
  },
  {
   "cell_type": "code",
   "execution_count": null,
   "metadata": {},
   "outputs": [],
   "source": []
  },
  {
   "cell_type": "code",
   "execution_count": null,
   "metadata": {},
   "outputs": [],
   "source": []
  },
  {
   "cell_type": "markdown",
   "metadata": {},
   "source": [
    "### 调试代码"
   ]
  },
  {
   "cell_type": "code",
   "execution_count": 31,
   "metadata": {},
   "outputs": [
    {
     "data": {
      "text/plain": [
       "(251015, 8)"
      ]
     },
     "execution_count": 31,
     "metadata": {},
     "output_type": "execute_result"
    }
   ],
   "source": [
    "sigle_job_res_prod[sigle_job_res_prod['p_pow_div_std_max'].isnull()].shape"
   ]
  },
  {
   "cell_type": "code",
   "execution_count": 53,
   "metadata": {},
   "outputs": [
    {
     "data": {
      "text/plain": [
       "array(['180716', '180717', '180718', '180719', '180720', '180721',\n",
       "       '180722', '180723', '180724', '180725', '180726', '180727',\n",
       "       '180728', '180729', '180730', '180731', '180801', '180802',\n",
       "       '180803', '180804', '180805', '180806', '180807', '180808',\n",
       "       '180809', '180810', '180811', '180812', '180813', '180814',\n",
       "       '180815', '180816', '180817', '180818', '180819', '180820',\n",
       "       '180821', '180822', '180823', '180824', '180825', '180826',\n",
       "       '180827', '180828', '180829', '180830', '180831', '180901',\n",
       "       '180902', '180903', '180904', '180905', '180906', '180907',\n",
       "       '180908', '180909', '180910', '180911', '180912', '180913',\n",
       "       '180914', '180915', '180916', '180917', '180918', '180919',\n",
       "       '180920', '180921', '180922', '180923', '180924', '180925',\n",
       "       '180926', '180927', '180928', '180929', '180930', '181001',\n",
       "       '181002', '181003', '181004', '181005', '181006', '181007',\n",
       "       '181008', '181009', '181010', '181011', '181012', '181013',\n",
       "       '181014', '181015', '181016', '181017', '181018', '181019',\n",
       "       '181020', '181021', '181022', '181023', '181024', '181025',\n",
       "       '181026', '181027', '181028', '181029', '181030', '181031',\n",
       "       '181101', '181102', '181103', '181104', '181105', '181106',\n",
       "       '181107', '181108', '181109', '181110', '181111'], dtype=object)"
      ]
     },
     "execution_count": 53,
     "metadata": {},
     "output_type": "execute_result"
    }
   ],
   "source": [
    "res['v_day'].apply(lambda x:x.replace('\\x1c','')).unique()"
   ]
  },
  {
   "cell_type": "code",
   "execution_count": 49,
   "metadata": {},
   "outputs": [
    {
     "data": {
      "text/plain": [
       "'181107'"
      ]
     },
     "execution_count": 49,
     "metadata": {},
     "output_type": "execute_result"
    }
   ],
   "source": [
    "day"
   ]
  },
  {
   "cell_type": "code",
   "execution_count": 24,
   "metadata": {},
   "outputs": [
    {
     "data": {
      "text/html": [
       "<div>\n",
       "<style scoped>\n",
       "    .dataframe tbody tr th:only-of-type {\n",
       "        vertical-align: middle;\n",
       "    }\n",
       "\n",
       "    .dataframe tbody tr th {\n",
       "        vertical-align: top;\n",
       "    }\n",
       "\n",
       "    .dataframe thead th {\n",
       "        text-align: right;\n",
       "    }\n",
       "</style>\n",
       "<table border=\"1\" class=\"dataframe\">\n",
       "  <thead>\n",
       "    <tr style=\"text-align: right;\">\n",
       "      <th></th>\n",
       "      <th>order_id</th>\n",
       "      <th>quant</th>\n",
       "      <th>v_date</th>\n",
       "      <th>max_res</th>\n",
       "      <th>res_key</th>\n",
       "      <th>avg_start_time</th>\n",
       "      <th>res_quat_sum</th>\n",
       "      <th>res_avg_start_std</th>\n",
       "    </tr>\n",
       "  </thead>\n",
       "  <tbody>\n",
       "    <tr>\n",
       "      <th>0</th>\n",
       "      <td>2udb21</td>\n",
       "      <td>8</td>\n",
       "      <td>180722</td>\n",
       "      <td>NaN</td>\n",
       "      <td>1QTY_DXP_SVR_PRCS_WEP@</td>\n",
       "      <td>142.183</td>\n",
       "      <td>631247</td>\n",
       "      <td>369.057148</td>\n",
       "    </tr>\n",
       "    <tr>\n",
       "      <th>1</th>\n",
       "      <td>2udm21</td>\n",
       "      <td>1</td>\n",
       "      <td>180722</td>\n",
       "      <td>150.0</td>\n",
       "      <td>1QTY_DXP_DB_PROC_DXPMNG</td>\n",
       "      <td>66.733</td>\n",
       "      <td>58053</td>\n",
       "      <td>353.973117</td>\n",
       "    </tr>\n",
       "    <tr>\n",
       "      <th>2</th>\n",
       "      <td>2udot1</td>\n",
       "      <td>2</td>\n",
       "      <td>180722</td>\n",
       "      <td>NaN</td>\n",
       "      <td>1QTY_DXP_SVR_PRCS_WEP@</td>\n",
       "      <td>340.133</td>\n",
       "      <td>631247</td>\n",
       "      <td>369.057148</td>\n",
       "    </tr>\n",
       "    <tr>\n",
       "      <th>3</th>\n",
       "      <td>2udos1</td>\n",
       "      <td>7</td>\n",
       "      <td>180722</td>\n",
       "      <td>NaN</td>\n",
       "      <td>1QTY_DXP_SVR_PRCS_WEP@</td>\n",
       "      <td>336.283</td>\n",
       "      <td>631247</td>\n",
       "      <td>369.057148</td>\n",
       "    </tr>\n",
       "    <tr>\n",
       "      <th>4</th>\n",
       "      <td>2udrj1</td>\n",
       "      <td>4</td>\n",
       "      <td>180722</td>\n",
       "      <td>NaN</td>\n",
       "      <td>1QTY_DXP_SVR_PRCS_WEP@</td>\n",
       "      <td>1051.033</td>\n",
       "      <td>631247</td>\n",
       "      <td>369.057148</td>\n",
       "    </tr>\n",
       "  </tbody>\n",
       "</table>\n",
       "</div>"
      ],
      "text/plain": [
       "  order_id  quant  v_date  max_res                  res_key  avg_start_time  \\\n",
       "0   2udb21      8  180722      NaN   1QTY_DXP_SVR_PRCS_WEP@         142.183   \n",
       "1   2udm21      1  180722    150.0  1QTY_DXP_DB_PROC_DXPMNG          66.733   \n",
       "2   2udot1      2  180722      NaN   1QTY_DXP_SVR_PRCS_WEP@         340.133   \n",
       "3   2udos1      7  180722      NaN   1QTY_DXP_SVR_PRCS_WEP@         336.283   \n",
       "4   2udrj1      4  180722      NaN   1QTY_DXP_SVR_PRCS_WEP@        1051.033   \n",
       "\n",
       "   res_quat_sum  res_avg_start_std  \n",
       "0        631247         369.057148  \n",
       "1         58053         353.973117  \n",
       "2        631247         369.057148  \n",
       "3        631247         369.057148  \n",
       "4        631247         369.057148  "
      ]
     },
     "execution_count": 24,
     "metadata": {},
     "output_type": "execute_result"
    }
   ],
   "source": [
    "d_job_res[d_job_res['']].head()"
   ]
  },
  {
   "cell_type": "code",
   "execution_count": null,
   "metadata": {},
   "outputs": [],
   "source": []
  },
  {
   "cell_type": "code",
   "execution_count": null,
   "metadata": {},
   "outputs": [],
   "source": []
  },
  {
   "cell_type": "markdown",
   "metadata": {},
   "source": [
    "### 以下为调试代码"
   ]
  },
  {
   "cell_type": "code",
   "execution_count": 55,
   "metadata": {},
   "outputs": [
    {
     "data": {
      "text/html": [
       "<div>\n",
       "<style scoped>\n",
       "    .dataframe tbody tr th:only-of-type {\n",
       "        vertical-align: middle;\n",
       "    }\n",
       "\n",
       "    .dataframe tbody tr th {\n",
       "        vertical-align: top;\n",
       "    }\n",
       "\n",
       "    .dataframe thead th {\n",
       "        text-align: right;\n",
       "    }\n",
       "</style>\n",
       "<table border=\"1\" class=\"dataframe\">\n",
       "  <thead>\n",
       "    <tr style=\"text-align: right;\">\n",
       "      <th></th>\n",
       "      <th>order_id</th>\n",
       "      <th>resource</th>\n",
       "      <th>quant</th>\n",
       "      <th>v_date</th>\n",
       "      <th>server</th>\n",
       "      <th>max_res_x</th>\n",
       "      <th>max_res_y</th>\n",
       "      <th>res_key</th>\n",
       "      <th>res_sum</th>\n",
       "    </tr>\n",
       "  </thead>\n",
       "  <tbody>\n",
       "    <tr>\n",
       "      <th>374</th>\n",
       "      <td>44r8t</td>\n",
       "      <td>QTY_TDDA_U_JOB_CNT</td>\n",
       "      <td>1</td>\n",
       "      <td>180603</td>\n",
       "      <td>1</td>\n",
       "      <td>NaN</td>\n",
       "      <td>9999.0</td>\n",
       "      <td>QTY_TDDA_U_JOB_CNT1</td>\n",
       "      <td>282</td>\n",
       "    </tr>\n",
       "    <tr>\n",
       "      <th>379</th>\n",
       "      <td>44r8r</td>\n",
       "      <td>QTY_TDDA_U_JOB_CNT</td>\n",
       "      <td>1</td>\n",
       "      <td>180603</td>\n",
       "      <td>1</td>\n",
       "      <td>NaN</td>\n",
       "      <td>9999.0</td>\n",
       "      <td>QTY_TDDA_U_JOB_CNT1</td>\n",
       "      <td>282</td>\n",
       "    </tr>\n",
       "    <tr>\n",
       "      <th>618</th>\n",
       "      <td>4513k</td>\n",
       "      <td>QTY_DXP_DB_READ_CMB05</td>\n",
       "      <td>1</td>\n",
       "      <td>180603</td>\n",
       "      <td>1</td>\n",
       "      <td>NaN</td>\n",
       "      <td>2000.0</td>\n",
       "      <td>QTY_DXP_DB_READ_CMB051</td>\n",
       "      <td>55</td>\n",
       "    </tr>\n",
       "    <tr>\n",
       "      <th>619</th>\n",
       "      <td>4516b</td>\n",
       "      <td>QTY_DXP_DB_READ_CMB05</td>\n",
       "      <td>1</td>\n",
       "      <td>180603</td>\n",
       "      <td>1</td>\n",
       "      <td>NaN</td>\n",
       "      <td>2000.0</td>\n",
       "      <td>QTY_DXP_DB_READ_CMB051</td>\n",
       "      <td>55</td>\n",
       "    </tr>\n",
       "    <tr>\n",
       "      <th>930</th>\n",
       "      <td>44yvr</td>\n",
       "      <td>QTY_DXP_SVR_READ_RC3</td>\n",
       "      <td>1</td>\n",
       "      <td>180603</td>\n",
       "      <td>1</td>\n",
       "      <td>NaN</td>\n",
       "      <td>3.0</td>\n",
       "      <td>QTY_DXP_SVR_READ_RC31</td>\n",
       "      <td>2</td>\n",
       "    </tr>\n",
       "  </tbody>\n",
       "</table>\n",
       "</div>"
      ],
      "text/plain": [
       "    order_id               resource  quant  v_date  server  max_res_x  \\\n",
       "374    44r8t     QTY_TDDA_U_JOB_CNT      1  180603       1        NaN   \n",
       "379    44r8r     QTY_TDDA_U_JOB_CNT      1  180603       1        NaN   \n",
       "618    4513k  QTY_DXP_DB_READ_CMB05      1  180603       1        NaN   \n",
       "619    4516b  QTY_DXP_DB_READ_CMB05      1  180603       1        NaN   \n",
       "930    44yvr   QTY_DXP_SVR_READ_RC3      1  180603       1        NaN   \n",
       "\n",
       "     max_res_y                 res_key  res_sum  \n",
       "374     9999.0     QTY_TDDA_U_JOB_CNT1      282  \n",
       "379     9999.0     QTY_TDDA_U_JOB_CNT1      282  \n",
       "618     2000.0  QTY_DXP_DB_READ_CMB051       55  \n",
       "619     2000.0  QTY_DXP_DB_READ_CMB051       55  \n",
       "930        3.0   QTY_DXP_SVR_READ_RC31        2  "
      ]
     },
     "execution_count": 55,
     "metadata": {},
     "output_type": "execute_result"
    }
   ],
   "source": [
    "d_job_res[d_job_res.max_res_y>d_job_res.res_sum].head()"
   ]
  },
  {
   "cell_type": "code",
   "execution_count": 56,
   "metadata": {},
   "outputs": [
    {
     "data": {
      "text/html": [
       "<div>\n",
       "<style scoped>\n",
       "    .dataframe tbody tr th:only-of-type {\n",
       "        vertical-align: middle;\n",
       "    }\n",
       "\n",
       "    .dataframe tbody tr th {\n",
       "        vertical-align: top;\n",
       "    }\n",
       "\n",
       "    .dataframe thead th {\n",
       "        text-align: right;\n",
       "    }\n",
       "</style>\n",
       "<table border=\"1\" class=\"dataframe\">\n",
       "  <thead>\n",
       "    <tr style=\"text-align: right;\">\n",
       "      <th></th>\n",
       "      <th>order_id</th>\n",
       "      <th>resource</th>\n",
       "      <th>quant</th>\n",
       "      <th>v_date</th>\n",
       "      <th>server</th>\n",
       "      <th>max_res_x</th>\n",
       "      <th>max_res_y</th>\n",
       "      <th>res_key</th>\n",
       "      <th>res_sum</th>\n",
       "    </tr>\n",
       "  </thead>\n",
       "  <tbody>\n",
       "  </tbody>\n",
       "</table>\n",
       "</div>"
      ],
      "text/plain": [
       "Empty DataFrame\n",
       "Columns: [order_id, resource, quant, v_date, server, max_res_x, max_res_y, res_key, res_sum]\n",
       "Index: []"
      ]
     },
     "execution_count": 56,
     "metadata": {},
     "output_type": "execute_result"
    }
   ],
   "source": [
    "d_job_res[d_job_res.res_sum==0]"
   ]
  },
  {
   "cell_type": "code",
   "execution_count": 12,
   "metadata": {},
   "outputs": [
    {
     "data": {
      "text/html": [
       "<div>\n",
       "<style scoped>\n",
       "    .dataframe tbody tr th:only-of-type {\n",
       "        vertical-align: middle;\n",
       "    }\n",
       "\n",
       "    .dataframe tbody tr th {\n",
       "        vertical-align: top;\n",
       "    }\n",
       "\n",
       "    .dataframe thead th {\n",
       "        text-align: right;\n",
       "    }\n",
       "</style>\n",
       "<table border=\"1\" class=\"dataframe\">\n",
       "  <thead>\n",
       "    <tr style=\"text-align: right;\">\n",
       "      <th></th>\n",
       "      <th>order_id</th>\n",
       "      <th>quant</th>\n",
       "      <th>v_date</th>\n",
       "      <th>max_res</th>\n",
       "      <th>res_key</th>\n",
       "      <th>res_quat_sum</th>\n",
       "      <th>p</th>\n",
       "      <th>p_pow</th>\n",
       "    </tr>\n",
       "  </thead>\n",
       "  <tbody>\n",
       "    <tr>\n",
       "      <th>0</th>\n",
       "      <td>44qk2</td>\n",
       "      <td>1</td>\n",
       "      <td>180603</td>\n",
       "      <td>60.0</td>\n",
       "      <td>1QTY_DXP_JOB_LDELS_WEP</td>\n",
       "      <td>9388</td>\n",
       "      <td>0.006391</td>\n",
       "      <td>0.639114</td>\n",
       "    </tr>\n",
       "    <tr>\n",
       "      <th>1</th>\n",
       "      <td>44qmt</td>\n",
       "      <td>1</td>\n",
       "      <td>180603</td>\n",
       "      <td>9.0</td>\n",
       "      <td>1QTY_DXP_DB_WRITE_RDB1</td>\n",
       "      <td>234</td>\n",
       "      <td>0.038462</td>\n",
       "      <td>3.846154</td>\n",
       "    </tr>\n",
       "    <tr>\n",
       "      <th>2</th>\n",
       "      <td>40ub1</td>\n",
       "      <td>1</td>\n",
       "      <td>180603</td>\n",
       "      <td>80.0</td>\n",
       "      <td>1QTY_DXP_JOB_EXM_WEP</td>\n",
       "      <td>13797</td>\n",
       "      <td>0.005798</td>\n",
       "      <td>0.579836</td>\n",
       "    </tr>\n",
       "    <tr>\n",
       "      <th>3</th>\n",
       "      <td>44qmr</td>\n",
       "      <td>1</td>\n",
       "      <td>180603</td>\n",
       "      <td>9.0</td>\n",
       "      <td>1QTY_DXP_DB_WRITE_RDB1</td>\n",
       "      <td>234</td>\n",
       "      <td>0.038462</td>\n",
       "      <td>3.846154</td>\n",
       "    </tr>\n",
       "    <tr>\n",
       "      <th>4</th>\n",
       "      <td>44qpi</td>\n",
       "      <td>1</td>\n",
       "      <td>180603</td>\n",
       "      <td>10.0</td>\n",
       "      <td>1QTY_DXP_DB_WRITE_RWC1</td>\n",
       "      <td>167</td>\n",
       "      <td>0.059880</td>\n",
       "      <td>5.988024</td>\n",
       "    </tr>\n",
       "  </tbody>\n",
       "</table>\n",
       "</div>"
      ],
      "text/plain": [
       "  order_id  quant  v_date  max_res                 res_key  res_quat_sum  \\\n",
       "0    44qk2      1  180603     60.0  1QTY_DXP_JOB_LDELS_WEP          9388   \n",
       "1    44qmt      1  180603      9.0  1QTY_DXP_DB_WRITE_RDB1           234   \n",
       "2    40ub1      1  180603     80.0    1QTY_DXP_JOB_EXM_WEP         13797   \n",
       "3    44qmr      1  180603      9.0  1QTY_DXP_DB_WRITE_RDB1           234   \n",
       "4    44qpi      1  180603     10.0  1QTY_DXP_DB_WRITE_RWC1           167   \n",
       "\n",
       "          p     p_pow  \n",
       "0  0.006391  0.639114  \n",
       "1  0.038462  3.846154  \n",
       "2  0.005798  0.579836  \n",
       "3  0.038462  3.846154  \n",
       "4  0.059880  5.988024  "
      ]
     },
     "execution_count": 12,
     "metadata": {},
     "output_type": "execute_result"
    }
   ],
   "source": [
    "d_job_res.head()"
   ]
  },
  {
   "cell_type": "code",
   "execution_count": 10,
   "metadata": {},
   "outputs": [
    {
     "data": {
      "text/plain": [
       "(481064, 8)"
      ]
     },
     "execution_count": 10,
     "metadata": {},
     "output_type": "execute_result"
    }
   ],
   "source": [
    "d_job_res.shape"
   ]
  },
  {
   "cell_type": "code",
   "execution_count": 11,
   "metadata": {},
   "outputs": [],
   "source": [
    "d_job_res['p_pow'] = d_job_res['p_pow'].apply(lambda x:x*100)"
   ]
  },
  {
   "cell_type": "code",
   "execution_count": 27,
   "metadata": {},
   "outputs": [
    {
     "name": "stdout",
     "output_type": "stream",
     "text": [
      "180603 "
     ]
    }
   ],
   "source": [
    "day = '180603'   #调试用\n",
    "\n",
    "d_res = res[res.v_day == int(day)]\n",
    "\n",
    "\n",
    "d_job_res = pd.read_csv(r'E:\\jupyter\\CTM\\data_src\\resorce\\job_res_num_%s.csv'%day)\n",
    "d_job_res.drop_duplicates(subset=['order_id','resource','server'],keep='last',inplace=True)\n",
    "\n",
    "\n",
    "d_job_res = d_job_res.merge(d_res[['resource','server','max_res']],on =['resource','server'],how='left')\n",
    "\n",
    "#构建唯一键\n",
    "d_job_res['server'] = d_job_res['server'].apply(str)\n",
    "d_job_res['res_key'] = d_job_res[['resource','server']].apply(lambda x:x[1]+x[0],axis=1)\n",
    "d_job_res['order_id'] = d_job_res[['order_id','server']].apply(lambda x:x[0]+x[1],axis=1)\n",
    "\n",
    "#计算同一资源，有多少其他作业会争抢\n",
    "res_groupby = d_job_res.groupby(['res_key']).quant.sum()\n",
    "res_groupby = res_groupby.to_frame(name='res_quat_sum')\n",
    "res_groupby['res_key'] = res_groupby.index\n",
    "\n",
    "#合并到同一个表里。\n",
    "d_job_res = d_job_res.merge(res_groupby,on = 'res_key',how='left')\n",
    "\n",
    "del d_job_res['resource']\n",
    "del d_job_res['server']\n",
    "\n",
    "d_job_res['p'] = d_job_res[['max_res','res_quat_sum']].apply(lambda x:x[0]/x[1] ,axis=1)\n",
    "\n",
    "d_job_res['p_pow'] = d_job_res[['p','quant']].apply(lambda x:my_pow(x[0],x[1]),axis=1)\n",
    "\n",
    "#将每个作业的所有资源概率累乘\n",
    "sigle_job_res_prod = d_job_res.groupby('order_id')['p_pow'].prod()\n",
    "sigle_job_res_prod = sigle_job_res_prod.to_frame(name='p_prod')\n",
    "sigle_job_res_prod['order_id'] = sigle_job_res_prod.index\n",
    "\n",
    "sigle_job_res_prod['p_prod'] = sigle_job_res_prod['p_prod'].apply(lambda x:x*100)\n",
    "\n",
    "sigle_job_res_prod = sigle_job_res_prod.round(3)\n",
    "#d_job_res.to_csv(r'E:\\jupyter\\CTM\\data_processed\\resorce\\%s.csv'%day,index=False)\n",
    "print(day,end=' ')\n",
    "sigle_job_res_prod.to_csv(r'E:\\jupyter\\CTM\\data_processed\\resorce\\p_prod_%s.csv'%day,index=False)"
   ]
  },
  {
   "cell_type": "code",
   "execution_count": 22,
   "metadata": {},
   "outputs": [],
   "source": [
    "sigle_job_res_prod = d_job_res.groupby('order_id')['p_pow'].prod()"
   ]
  },
  {
   "cell_type": "code",
   "execution_count": 25,
   "metadata": {},
   "outputs": [
    {
     "name": "stdout",
     "output_type": "stream",
     "text": [
      "         p_prod order_id\n",
      "order_id                \n",
      "11bxr3    2.008   11bxr3\n",
      "11bxs3    2.008   11bxs3\n",
      "11ndk3    2.008   11ndk3\n",
      "11nmv3        0   11nmv3\n",
      "11nmy3        0   11nmy3\n"
     ]
    }
   ],
   "source": [
    "\n",
    "\n",
    "print(sigle_job_res_prod.head())"
   ]
  },
  {
   "cell_type": "code",
   "execution_count": 26,
   "metadata": {},
   "outputs": [],
   "source": [
    "sigle_job_res_prod.to_csv(r'E:\\jupyter\\CTM\\data_processed\\resorce\\p_prod_%s.csv'%day,index=False)"
   ]
  },
  {
   "cell_type": "code",
   "execution_count": 19,
   "metadata": {},
   "outputs": [
    {
     "data": {
      "text/html": [
       "<div>\n",
       "<style scoped>\n",
       "    .dataframe tbody tr th:only-of-type {\n",
       "        vertical-align: middle;\n",
       "    }\n",
       "\n",
       "    .dataframe tbody tr th {\n",
       "        vertical-align: top;\n",
       "    }\n",
       "\n",
       "    .dataframe thead th {\n",
       "        text-align: right;\n",
       "    }\n",
       "</style>\n",
       "<table border=\"1\" class=\"dataframe\">\n",
       "  <thead>\n",
       "    <tr style=\"text-align: right;\">\n",
       "      <th></th>\n",
       "      <th>order_id</th>\n",
       "      <th>resource</th>\n",
       "      <th>quant</th>\n",
       "      <th>v_date</th>\n",
       "      <th>server</th>\n",
       "      <th>max_res</th>\n",
       "    </tr>\n",
       "  </thead>\n",
       "  <tbody>\n",
       "    <tr>\n",
       "      <th>0</th>\n",
       "      <td>5lyiq</td>\n",
       "      <td>QTY_DXP_SVR_WRITE_FAP</td>\n",
       "      <td>1</td>\n",
       "      <td>180618</td>\n",
       "      <td>1</td>\n",
       "      <td>11.0</td>\n",
       "    </tr>\n",
       "    <tr>\n",
       "      <th>1</th>\n",
       "      <td>5lwo1</td>\n",
       "      <td>QTY_TDDA_M_JOB_CNT</td>\n",
       "      <td>1</td>\n",
       "      <td>180618</td>\n",
       "      <td>1</td>\n",
       "      <td>9999.0</td>\n",
       "    </tr>\n",
       "    <tr>\n",
       "      <th>2</th>\n",
       "      <td>5lyle</td>\n",
       "      <td>QTY_DXP_SVR_WRITE_FAP</td>\n",
       "      <td>1</td>\n",
       "      <td>180618</td>\n",
       "      <td>1</td>\n",
       "      <td>11.0</td>\n",
       "    </tr>\n",
       "    <tr>\n",
       "      <th>3</th>\n",
       "      <td>5lwqp</td>\n",
       "      <td>QTY_TDDA_M_JOB_CNT</td>\n",
       "      <td>1</td>\n",
       "      <td>180618</td>\n",
       "      <td>1</td>\n",
       "      <td>9999.0</td>\n",
       "    </tr>\n",
       "    <tr>\n",
       "      <th>4</th>\n",
       "      <td>5lwtd</td>\n",
       "      <td>QTY_TDDA_M_JOB_CNT</td>\n",
       "      <td>1</td>\n",
       "      <td>180618</td>\n",
       "      <td>1</td>\n",
       "      <td>9999.0</td>\n",
       "    </tr>\n",
       "  </tbody>\n",
       "</table>\n",
       "</div>"
      ],
      "text/plain": [
       "  order_id               resource  quant  v_date server  max_res\n",
       "0    5lyiq  QTY_DXP_SVR_WRITE_FAP      1  180618      1     11.0\n",
       "1    5lwo1     QTY_TDDA_M_JOB_CNT      1  180618      1   9999.0\n",
       "2    5lyle  QTY_DXP_SVR_WRITE_FAP      1  180618      1     11.0\n",
       "3    5lwqp     QTY_TDDA_M_JOB_CNT      1  180618      1   9999.0\n",
       "4    5lwtd     QTY_TDDA_M_JOB_CNT      1  180618      1   9999.0"
      ]
     },
     "execution_count": 19,
     "metadata": {},
     "output_type": "execute_result"
    }
   ],
   "source": [
    "d_job_res.head()"
   ]
  },
  {
   "cell_type": "code",
   "execution_count": null,
   "metadata": {},
   "outputs": [],
   "source": []
  }
 ],
 "metadata": {
  "kernelspec": {
   "display_name": "Python 3",
   "language": "python",
   "name": "python3"
  },
  "language_info": {
   "codemirror_mode": {
    "name": "ipython",
    "version": 3
   },
   "file_extension": ".py",
   "mimetype": "text/x-python",
   "name": "python",
   "nbconvert_exporter": "python",
   "pygments_lexer": "ipython3",
   "version": "3.6.3"
  }
 },
 "nbformat": 4,
 "nbformat_minor": 2
}
