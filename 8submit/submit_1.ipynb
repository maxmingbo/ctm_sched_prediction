{
 "cells": [
  {
   "cell_type": "code",
   "execution_count": 34,
   "metadata": {},
   "outputs": [],
   "source": [
    "import pandas as pd\n",
    "import datetime"
   ]
  },
  {
   "cell_type": "code",
   "execution_count": 35,
   "metadata": {},
   "outputs": [],
   "source": [
    "pred_list = ['181105', '181106', '181107', '181108', '181109','181110','181111']\n",
    "pred_day_vs_hour = ['10','9','8','7','6','5','4']\n",
    "pred_day_hour_therd = [600,540,480,420,360,300,240]"
   ]
  },
  {
   "cell_type": "code",
   "execution_count": null,
   "metadata": {},
   "outputs": [],
   "source": []
  },
  {
   "cell_type": "code",
   "execution_count": 36,
   "metadata": {},
   "outputs": [
    {
     "name": "stdout",
     "output_type": "stream",
     "text": [
      "181105 10 600\n",
      "181106 9 540\n",
      "181107 8 480\n",
      "181108 7 420\n",
      "181109 6 360\n",
      "181110 5 300\n",
      "181111 4 240\n"
     ]
    }
   ],
   "source": [
    "#提交结果  并保存到一个文件中\n",
    "\n",
    "df_list = []\n",
    "\n",
    "for day in pred_list:\n",
    "    print(day,end = ' ')\n",
    "\n",
    "    day_start = datetime.datetime.strptime(str('20'+day+'000000'),'%Y%m%d%H%M%S')\n",
    "    \n",
    "    hour_therd = pred_day_hour_therd[pred_list.index(day)]\n",
    "    def f_cnv_int_to_time(int_t):\n",
    "        #时间转换  预测超过了今天24点，强制转换成24点\n",
    "        if int_t>1440:\n",
    "            int_t = 1439\n",
    "        if int_t <hour_therd:\n",
    "            int_t = hour_therd\n",
    "        return  (day_start+datetime.timedelta(minutes=int_t)).strftime('%Y%m%d%H%M%S')\n",
    "\n",
    "    pred = pd.read_csv('submit_day_%s_mean_meadian.csv'%day)\n",
    "\n",
    "    pred = pred[['job_name','order_id','pred_edt_mean']]\n",
    "    seljob = pd.read_csv('submit_job_%s.csv'%day)\n",
    "    pred = seljob.merge(pred,on='job_name',how='left')\n",
    "    pred['pred_edt_mean'] = pred['pred_edt_mean'].apply(f_cnv_int_to_time)\n",
    "\n",
    "    hour = pred_day_vs_hour[pred_list.index(day)]\n",
    "    print(hour,hour_therd)\n",
    "\n",
    "    pred['table_date'] = pred['order_id'].apply(lambda x:day+'00'+x[-1]+'_'+hour)\n",
    "    pred['order_id'] = pred['order_id'].apply(lambda x:x[:-1])\n",
    "    \n",
    "    \n",
    "    #pre_to_save.rename(columns={\"v_date\":\"table_date\"}, inplace = True)\n",
    "    df_list.append(pred[['order_id','job_name','pred_edt_mean','table_date']])\n",
    "    \n",
    "    \n",
    "drc_tosave = pd.concat(df_list, ignore_index=True)\n",
    "drc_tosave.to_csv('submit_lightgbm_mean.csv',index=False)"
   ]
  },
  {
   "cell_type": "code",
   "execution_count": 38,
   "metadata": {},
   "outputs": [
    {
     "name": "stdout",
     "output_type": "stream",
     "text": [
      "181105 10 600\n",
      "181106 9 540\n",
      "181107 8 480\n",
      "181108 7 420\n",
      "181109 6 360\n",
      "181110 5 300\n",
      "181111 4 240\n"
     ]
    }
   ],
   "source": [
    "#提交结果  并保存到一个文件中\n",
    "\n",
    "df_list = []\n",
    "\n",
    "for day in pred_list:\n",
    "    print(day,end = ' ')\n",
    "\n",
    "    day_start = datetime.datetime.strptime(str('20'+day+'000000'),'%Y%m%d%H%M%S')\n",
    "    hour_therd = pred_day_hour_therd[pred_list.index(day)]\n",
    "    def f_cnv_int_to_time(int_t):\n",
    "        #时间转换  预测超过了今天24点，强制转换成24点\n",
    "        if int_t>1440:\n",
    "            int_t = 1439\n",
    "        if int_t <hour_therd:\n",
    "            int_t = hour_therd\n",
    "            \n",
    "        return  (day_start+datetime.timedelta(minutes=int_t)).strftime('%Y%m%d%H%M%S')\n",
    "\n",
    "    pred = pd.read_csv('submit_day_%s_mean_meadian.csv'%day)\n",
    "\n",
    "    pred = pred[['job_name','order_id','pred_edt_median']]\n",
    "    seljob = pd.read_csv('submit_job_%s.csv'%day)\n",
    "    pred = seljob.merge(pred,on='job_name',how='left')\n",
    "    pred['pred_edt_median'] = pred['pred_edt_median'].apply(f_cnv_int_to_time)\n",
    "\n",
    "    hour = pred_day_vs_hour[pred_list.index(day)]\n",
    "    print(hour,hour_therd)\n",
    "\n",
    "    pred['table_date'] = pred['order_id'].apply(lambda x:day+'00'+x[-1]+'_'+hour)\n",
    "    pred['order_id'] = pred['order_id'].apply(lambda x:x[:-1])\n",
    "    \n",
    "    \n",
    "    #pre_to_save.rename(columns={\"v_date\":\"table_date\"}, inplace = True)\n",
    "    df_list.append(pred[['order_id','job_name','pred_edt_median','table_date']])\n",
    "    \n",
    "    \n",
    "drc_tosave = pd.concat(df_list, ignore_index=True)\n",
    "drc_tosave.to_csv('submit_lightgbm_median.csv',index=False)"
   ]
  },
  {
   "cell_type": "code",
   "execution_count": 33,
   "metadata": {},
   "outputs": [
    {
     "name": "stdout",
     "output_type": "stream",
     "text": [
      "181105 10\n",
      "181106 9\n",
      "181107 8\n",
      "181108 7\n",
      "181109 6\n",
      "181110 5\n",
      "181111 4\n"
     ]
    }
   ],
   "source": [
    "#提交结果  并保存到一个文件中\n",
    "\n",
    "df_list = []\n",
    "\n",
    "for day in pred_list:\n",
    "    print(day,end = ' ')\n",
    "\n",
    "    day_start = datetime.datetime.strptime(str('20'+day+'000000'),'%Y%m%d%H%M%S')\n",
    "\n",
    "    def f_cnv_int_to_time(int_t):\n",
    "        #时间转换  预测超过了今天24点，强制转换成24点\n",
    "        if int_t>1440:\n",
    "            int_t = 1439\n",
    "        return  (day_start+datetime.timedelta(minutes=int_t)).strftime('%Y%m%d%H%M%S')\n",
    "\n",
    "    pred = pd.read_csv(r'E:\\jupyter\\CTM\\7blending\\pred_edt_every_pice\\submit_%s_1.csv'%day)\n",
    "\n",
    "    pred = pred[['job_name','order_id','pred_edt']]\n",
    "    seljob = pd.read_csv('submit_job_%s.csv'%day)\n",
    "    pred = seljob.merge(pred,on='job_name',how='left')\n",
    "    pred['pred_edt'] = pred['pred_edt'].apply(f_cnv_int_to_time)\n",
    "\n",
    "    hour = pred_day_vs_hour[pred_list.index(day)]\n",
    "    print(hour)\n",
    "\n",
    "    pred['table_date'] = pred['order_id'].apply(lambda x:day+'00'+x[-1]+'_'+hour)\n",
    "    pred['order_id'] = pred['order_id'].apply(lambda x:x[:-1])\n",
    "    \n",
    "    \n",
    "    #pre_to_save.rename(columns={\"v_date\":\"table_date\"}, inplace = True)\n",
    "    df_list.append(pred[['order_id','job_name','pred_edt','table_date']])\n",
    "    \n",
    "    \n",
    "drc_tosave = pd.concat(df_list, ignore_index=True)\n",
    "drc_tosave.to_csv('submit_lightgbm_one_day.csv',index=False)"
   ]
  },
  {
   "cell_type": "code",
   "execution_count": null,
   "metadata": {},
   "outputs": [],
   "source": []
  }
 ],
 "metadata": {
  "kernelspec": {
   "display_name": "Python 3",
   "language": "python",
   "name": "python3"
  },
  "language_info": {
   "codemirror_mode": {
    "name": "ipython",
    "version": 3
   },
   "file_extension": ".py",
   "mimetype": "text/x-python",
   "name": "python",
   "nbconvert_exporter": "python",
   "pygments_lexer": "ipython3",
   "version": "3.6.3"
  }
 },
 "nbformat": 4,
 "nbformat_minor": 2
}
