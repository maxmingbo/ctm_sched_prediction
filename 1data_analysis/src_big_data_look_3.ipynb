{
 "cells": [
  {
   "cell_type": "markdown",
   "metadata": {},
   "source": [
    "### 对原始大文件进行简单观察--20181111批次数据"
   ]
  },
  {
   "cell_type": "code",
   "execution_count": 5,
   "metadata": {},
   "outputs": [
    {
     "name": "stdout",
     "output_type": "stream",
     "text": [
      "0b2ae|\u001c",
      "SMART Table|\u001c",
      "DXP_FW_BDAC|\u001c",
      "|\u001c",
      "181021|\u001c",
      "30|\u001c",
      "??????folder|\u001c",
      "0|\u001c",
      "|\u001c",
      "|\u001c",
      "00001M|\u001c",
      "|\u001c",
      "sa|\u001c",
      "|\u001c",
      "0|\u001c",
      "715934|\u001c",
      "Executing|\u001c",
      "Run (2)|\u001c",
      "0|\u001c",
      "20181021002056|\u001c",
      "|\u001c",
      "1|\u001c",
      "|\u001c",
      "0|\u001c",
      "0|\u001c",
      "|\u001c",
      "DXP_FW_BDAC|\u001c",
      "20181021000148|\u001c",
      "002140|\u001c",
      "0|\u001c",
      "1|\u001c",
      "181022001|\u001c",
      "\n",
      "\n",
      "\u001c",
      "181022\n",
      "001\n",
      "05yal|\u001c",
      "Command|\u001c",
      "FW_LD_OFB_2_P_HRSM_1_CI_MAP_MAP_META_LOGIC_QUO|\u001c",
      "|\u001c",
      "181020|\u001c",
      "2|\u001c",
      "?????????????|\u001c",
      "0|\u001c",
      "|\u001c",
      "|\u001c",
      "00005M|\u001c",
      "|\u001c",
      "sa|\u001c",
      "GRP_DS_AGENT|\u001c",
      "0|\u001c",
      "000010|\u001c",
      "Wait User|\u001c",
      "Wait Confirmation|\u001c",
      "0|\u001c",
      "|\u001c",
      "|\u001c",
      "0|\u001c",
      "sh /DW_DXP/TOOL/script/adm/ctm/FileWatch.sh /DW_DXP/LINK/HQ/LV55/LV62/\\$TX-DTE#YYYYMMDD# LV62_P_RSM_MKTDB_CI_MAP_MAP_META_LOGIC_QUO_\\$TX-DTE#YYYYMMDD#_000AH000.CTL %%DTE_D_YMD_8|\u001c",
      "0|\u001c",
      "1|\u001c",
      "GRP_DS_AGENT|\u001c",
      "DXP_FW_OFB_HRSM_RTL3|\u001c",
      "20181020000145|\u001c",
      "004547|\u001c",
      "0|\u001c",
      "0|\u001c",
      "181022001|\u001c",
      "\n",
      "\n",
      "\u001c",
      "181022\n",
      "001\n",
      "08a5c|\u001c",
      "Command|\u001c",
      "FW_LD_TDW_1_F_HCXI_ZX02118E|\u001c",
      "|\u001c",
      "181020|\u001c",
      "2|\u001c",
      "?????????????|\u001c",
      "0|\u001c",
      "|\u001c",
      "|\u001c",
      "00005M|\u001c",
      "|\u001c",
      "sa|\u001c",
      "GRP_DS_AGENT|\u001c",
      "0|\u001c",
      "000000|\u001c",
      "Wait User|\u001c",
      "Wait Confirmation|\u001c",
      "0|\u001c",
      "|\u001c",
      "|\u001c",
      "0|\u001c",
      "sh /DW_DXP/TOOL/script/adm/ctm/FileWatch.sh /DW_DXP/LINK/HQ/LV36/LS09/\\$TX-DTE#YYYYMMDD# LS09_F_CXI_ZX02118E_\\$TX-DTE#YYYYMMDD#_000MH000.CTL %%DTE_D_YMD_8|\u001c",
      "0|\u001c",
      "1|\u001c",
      "GRP_DS_AGENT|\u001c",
      "DXP_FW_TDW_HCXI_LS09|\u001c",
      "20181020000145|\u001c",
      "|\u001c",
      "0|\u001c",
      "0|\u001c",
      "181022001|\u001c",
      "\n",
      "\n",
      "\u001c",
      "181022\n",
      "001\n"
     ]
    }
   ],
   "source": [
    "#查看ajob表前几行\n",
    "i = 0\n",
    "day_set = set()\n",
    "with open(r'E:\\aevt\\20181111_AJOB_TMP_000AH000.DAT') as file:\n",
    "    for line in file:\n",
    "        i = i+1\n",
    "        day = line.split('|')[-2]  #倒数第二行是表的 日期+sever编码\n",
    "        day_set.add(day[1:])\n",
    "        print(line)\n",
    "        print(day[:7])\n",
    "        print(day[7:11])\n",
    "        if i>2:\n",
    "            break"
   ]
  },
  {
   "cell_type": "code",
   "execution_count": 6,
   "metadata": {},
   "outputs": [
    {
     "name": "stdout",
     "output_type": "stream",
     "text": [
      "['181022001', '181022002', '181022003', '181023001', '181023002', '181023003', '181024001', '181024002', '181024003', '181025001', '181025002', '181025003', '181026001', '181026002', '181026003', '181027001', '181027002', '181027003', '181028001', '181028002', '181028003', '181029001', '181029002', '181029003', '181030001', '181030002', '181030003', '181031001', '181031002', '181031003', '181101001', '181101002', '181101003', '181102001', '181102002', '181102003', '181103001', '181103002', '181103003', '181104001', '181104002', '181104003', '181105001_10', '181105002_10', '181105003_10', '181106001_9', '181106002_9', '181106003_9', '181107001_8', '181107002_8', '181107003_8', '181108001_7', '181108002_7', '181108003_7', '181109001_6', '181109002_6', '181109003_6', '181110001_5', '181110002_5', '181110003_5', '181111001_4', '181111002_4', '181111003_4']\n"
     ]
    }
   ],
   "source": [
    "# job表 日期起始 --结束\n",
    "i = 0\n",
    "d_set = set()\n",
    "with open(r'E:\\aevt\\20181111_AJOB_TMP_000AH000.DAT') as file:\n",
    "    for line in file:\n",
    "        d = line.split('|')[-2][1:]\n",
    "        #if d > '2018-04-18':\n",
    "        d_set.add(d)\n",
    "print(sorted(list(d_set)))"
   ]
  },
  {
   "cell_type": "code",
   "execution_count": 1,
   "metadata": {},
   "outputs": [
    {
     "name": "stdout",
     "output_type": "stream",
     "text": [
      "['181105001_10', '181105002_10', '181105003_10', '181106001_9', '181106002_9', '181106003_9', '181107001_8', '181107002_8', '181107003_8', '181108001_7', '181108002_7', '181108003_7', '181109001_6', '181109002_6', '181109003_6', '181110001_5', '181110002_5', '181110003_5', '181111001_4', '181111002_4', '181111003_4']\n"
     ]
    }
   ],
   "source": [
    "# job表 日期起始 --结束       有时间截取\n",
    "i = 0\n",
    "d_set = set()\n",
    "with open(r'E:\\aevt\\20181111_AJOB_TMP_000AH000.DAT') as file:\n",
    "    for line in file:\n",
    "        d = line.split('|')[-2][1:]\n",
    "        #if d > '2018-04-18':\n",
    "        if len(d)>10:\n",
    "            d_set.add(d)\n",
    "print(sorted(list(d_set)))"
   ]
  },
  {
   "cell_type": "code",
   "execution_count": 7,
   "metadata": {
    "scrolled": true
   },
   "outputs": [
    {
     "name": "stdout",
     "output_type": "stream",
     "text": [
      "181022001,181022002,181022003\n",
      "181023001,181023002,181023003\n",
      "181024001,181024002,181024003\n",
      "181025001,181025002,181025003\n",
      "181026001,181026002,181026003\n",
      "181027001,181027002,181027003\n",
      "181028001,181028002,181028003\n",
      "181029001,181029002,181029003\n",
      "181030001,181030002,181030003\n",
      "181031001,181031002,181031003\n",
      "181101001,181101002,181101003\n",
      "181102001,181102002,181102003\n",
      "181103001,181103002,181103003\n",
      "181104001,181104002,181104003\n",
      "181105001_10,181105002_10,181105003_10\n",
      "181106001_9,181106002_9,181106003_9\n",
      "181107001_8,181107002_8,181107003_8\n",
      "181108001_7,181108002_7,181108003_7\n",
      "181109001_6,181109002_6,181109003_6\n",
      "181110001_5,181110002_5,181110003_5\n",
      "181111001_4,181111002_4,181111003_4\n"
     ]
    }
   ],
   "source": [
    "#查看排序后的数据日期\n",
    "d_list = sorted(list(d_set))\n",
    "i = 1\n",
    "for d in d_list:\n",
    "    if i%3==0:\n",
    "        print(d)\n",
    "    else:\n",
    "        print(d,end=',')\n",
    "    i += 1"
   ]
  },
  {
   "cell_type": "code",
   "execution_count": 8,
   "metadata": {},
   "outputs": [
    {
     "name": "stdout",
     "output_type": "stream",
     "text": [
      "181022001,181022002,181022003\n",
      "181023001,181023002,181023003\n",
      "181024001,181024002,181024003\n",
      "181025001,181025002,181025003\n",
      "181026001,181026002,181026003\n",
      "181027001,181027002,181027003\n",
      "181028001,181028002,181028003\n",
      "181029001,181029002,181029003\n",
      "181030001,181030002,181030003\n",
      "181031001,181031002,181031003\n",
      "181101001,181101002,181101003\n",
      "181102001,181102002,181102003\n",
      "181103001,181103002,181103003\n",
      "181104001,181104002,181104003\n",
      "181105001_10,181105002_10,181105003_10\n",
      "181106001_9,181106002_9,181106003_9\n",
      "181107001_8,181107002_8,181107003_8\n",
      "181108001_7,181108002_7,181108003_7\n",
      "181109001_6,181109002_6,181109003_6\n",
      "181110001_5,181110002_5,181110003_5\n",
      "181111001_4,181111002_4,181111003_4\n"
     ]
    }
   ],
   "source": [
    "#查看排序后的数据日期  有时间截取\n",
    "d_list = sorted(list(d_set))\n",
    "i = 1\n",
    "for d in d_list:\n",
    "    if i%3==0:\n",
    "        print(d)\n",
    "    else:\n",
    "        print(d,end=',')\n",
    "    i += 1"
   ]
  },
  {
   "cell_type": "code",
   "execution_count": 9,
   "metadata": {},
   "outputs": [
    {
     "name": "stdout",
     "output_type": "stream",
     "text": [
      "['181022', '181023', '181024', '181025', '181026', '181027', '181028', '181029', '181030', '181031', '181101', '181102', '181103', '181104', '181105', '181106', '181107', '181108', '181109', '181110', '181111']\n"
     ]
    }
   ],
   "source": [
    "#日期 集合输出：\n",
    "d_set = list(set([d[:6] for d in d_list]))\n",
    "print(sorted(d_set))"
   ]
  },
  {
   "cell_type": "code",
   "execution_count": 3,
   "metadata": {},
   "outputs": [
    {
     "name": "stdout",
     "output_type": "stream",
     "text": [
      "['181008', '181009', '181010', '181011', '181012', '181015', '181016', '181017', '181018', '181019']\n"
     ]
    }
   ],
   "source": [
    "#日期 集合输出：有时间截取\n",
    "d_set = list(set([d[:6] for d in d_list]))\n",
    "print(sorted(d_set))"
   ]
  },
  {
   "cell_type": "code",
   "execution_count": 3,
   "metadata": {},
   "outputs": [
    {
     "name": "stdout",
     "output_type": "stream",
     "text": [
      "QTY_DXP_SVR_WRITE_DGW|\u001c",
      "D|\u001c",
      "0|\u001c",
      "1|\u001c",
      "|\u001c",
      "|\u001c",
      "|\u001c",
      "180602001|\u001c",
      "\n",
      "\n",
      "DXP101|\u001c",
      "D|\u001c",
      "0|\u001c",
      "0|\u001c",
      "|\u001c",
      "|\u001c",
      "|\u001c",
      "180602001|\u001c",
      "\n",
      "\n",
      "DXP_6750_OUT1_BAS3|\u001c",
      "D|\u001c",
      "0|\u001c",
      "1000|\u001c",
      "|\u001c",
      "|\u001c",
      "|\u001c",
      "180602001|\u001c",
      "\n",
      "\n"
     ]
    }
   ],
   "source": [
    "#ARES_Q_TMP_20180424.DAT  资源表前几行\n",
    "i = 0\n",
    "with open(r'E:\\aevt\\ARES_Q_TMP_20180715.DAT') as file:\n",
    "    for line in file:\n",
    "        i = i+1\n",
    "        if i>3:\n",
    "            break\n",
    "        print(line)"
   ]
  },
  {
   "cell_type": "code",
   "execution_count": 13,
   "metadata": {},
   "outputs": [
    {
     "name": "stdout",
     "output_type": "stream",
     "text": [
      "40lai|\u001c",
      "QTY_DXP_JOB_LDELS_WEP|\u001c",
      "1|\u001c",
      "3448|\u001c",
      "|\u001c",
      "|\u001c",
      "180602001|\u001c",
      "\n",
      "\n",
      "41grj|\u001c",
      "QTY_TDDA_M_JOB_CNT|\u001c",
      "1|\u001c",
      "3467|\u001c",
      "|\u001c",
      "|\u001c",
      "180602001|\u001c",
      "\n",
      "\n",
      "3ytnt|\u001c",
      "QTY_TDDA_M_JOB_CNT|\u001c",
      "1|\u001c",
      "3489|\u001c",
      "|\u001c",
      "|\u001c",
      "180602001|\u001c",
      "\n",
      "\n"
     ]
    }
   ],
   "source": [
    "# ALNKI_Q_TMP_20180715  作业 相 关联资源表\n",
    "\n",
    "i = 0\n",
    "with open(r'E:\\aevt\\ALNKI_Q_TMP_20180715.DAT') as file:\n",
    "    for line in file:\n",
    "        i = i+1\n",
    "        if i>3:\n",
    "            break\n",
    "        print(line)"
   ]
  },
  {
   "cell_type": "code",
   "execution_count": 3,
   "metadata": {},
   "outputs": [
    {
     "name": "stdout",
     "output_type": "stream",
     "text": [
      "375|\u001c",
      "2018-10-22 00:21:04.000000|\u001c",
      "S|\u001c",
      "8|\u001c",
      "1|\u001c",
      "0d6gl|\u001c",
      "2|\u001c",
      "3991136|\u001c",
      "181022001|\u001c",
      "\n",
      "\n",
      "379|\u001c",
      "2018-10-22 00:21:04.000000|\u001c",
      "S|\u001c",
      "8|\u001c",
      "1|\u001c",
      "0d6nc|\u001c",
      "1|\u001c",
      "3991244|\u001c",
      "181022001|\u001c",
      "\n",
      "\n",
      "383|\u001c",
      "2018-10-22 00:21:04.000000|\u001c",
      "S|\u001c",
      "8|\u001c",
      "1|\u001c",
      "0d69d|\u001c",
      "1|\u001c",
      "3991502|\u001c",
      "181022001|\u001c",
      "\n",
      "\n"
     ]
    }
   ],
   "source": [
    "# 事件表 前几行\n",
    "i = 0\n",
    "day_set = set()\n",
    "with open(r'E:\\aevt\\20181111_AEVT_TMP_000AH000.DAT') as file:\n",
    "    for line in file:\n",
    "        i = i+1\n",
    "        #day = line.split('|')[-2]\n",
    "        #day_set.add(day[1:])\n",
    "        if i>3:\n",
    "            break\n",
    "        print(line)"
   ]
  },
  {
   "cell_type": "code",
   "execution_count": 4,
   "metadata": {},
   "outputs": [
    {
     "name": "stdout",
     "output_type": "stream",
     "text": [
      "088g5|\u001c",
      "SYS_FS_PDM_F_T41_TDUN_RSK_ATST_MBL_BLST_INI_DAT-TO-EX_T_HTDW_PDM_T41_TDUN_RSK_ATST_MBL_BLST_INI_DAT|\u001c",
      "1020|\u001c",
      "A|\u001c",
      "|\u001c",
      "|\u001c",
      "181022001|\u001c",
      "\n",
      "\n",
      "0b54h|\u001c",
      "RF_RST_HCGC_RS_SHJJ_ONEPAY-TO-TR_HCGC_RS_SHJJ_ONEPAY|\u001c",
      "1021|\u001c",
      "A|\u001c",
      "|\u001c",
      "|\u001c",
      "181022001|\u001c",
      "\n",
      "\n",
      "09odo|\u001c",
      "EXM_P_HFMR_1_WSS_OCCUPATION-TO-EXZ_P_HFMR_1_WSS_OCCUPATION|\u001c",
      "1021|\u001c",
      "A|\u001c",
      "|\u001c",
      "|\u001c",
      "181022001|\u001c",
      "\n",
      "\n"
     ]
    }
   ],
   "source": [
    "# 依赖关系表   输入\n",
    "\n",
    "i = 0\n",
    "with open(r'E:\\aevt\\20181111_ALNKI_P_TMP_000AH000.DAT') as file:\n",
    "    for line in file:\n",
    "        i = i+1\n",
    "        if i>3:\n",
    "            break\n",
    "        print(line)"
   ]
  },
  {
   "cell_type": "code",
   "execution_count": 12,
   "metadata": {},
   "outputs": [
    {
     "name": "stdout",
     "output_type": "stream",
     "text": [
      "41gua|\u001c",
      "EXM_T_HTDW_ARTP_ARTP_I_RMP_DMN_CM_HDV_INC_M_SR-TO-EXZ_T_HTDW_ARTP_ARTP_I_RMP_DMN_CM_HDV_INC_M_SR|\u001c",
      "0602|\u001c",
      "+|\u001c",
      "3626|\u001c",
      "180602001|\u001c",
      "\n",
      "\n",
      "40oq9|\u001c",
      "TS_HEES_HTDW_AMDS_AMDS_CA311001_A001_MASRUN_01-TO-SYS_FW_TS_HEES_HTDW_AMDS_AMDS_CA311001_A001_MASRUN_01|\u001c",
      "0601|\u001c",
      "+|\u001c",
      "3685|\u001c",
      "180602001|\u001c",
      "\n",
      "\n",
      "41gzs|\u001c",
      "EXM_T_HTDW_ARTP_ARTP_I_RT_NDM_IMP_VST_DTL-TO-EXZ_T_HTDW_ARTP_ARTP_I_RT_NDM_IMP_VST_DTL|\u001c",
      "0602|\u001c",
      "-|\u001c",
      "3748|\u001c",
      "180602001|\u001c",
      "\n",
      "\n"
     ]
    }
   ],
   "source": [
    "# 依赖关系表  输出\n",
    "\n",
    "i = 0\n",
    "with open(r'E:\\aevt\\ALNKO_P_TMP_20180715.DAT') as file:\n",
    "    for line in file:\n",
    "        i = i+1\n",
    "        if i>3:\n",
    "            break\n",
    "        print(line)"
   ]
  },
  {
   "cell_type": "code",
   "execution_count": 1,
   "metadata": {},
   "outputs": [
    {
     "name": "stdout",
     "output_type": "stream",
     "text": [
      "QTY_DXP_SVR_WRITE_DGW|\u001c",
      "D|\u001c",
      "0|\u001c",
      "1|\u001c",
      "|\u001c",
      "|\u001c",
      "|\u001c",
      "180602001|\u001c",
      "\n",
      "\n",
      "DXP101|\u001c",
      "D|\u001c",
      "0|\u001c",
      "0|\u001c",
      "|\u001c",
      "|\u001c",
      "|\u001c",
      "180602001|\u001c",
      "\n",
      "\n",
      "DXP_6750_OUT1_BAS3|\u001c",
      "D|\u001c",
      "0|\u001c",
      "1000|\u001c",
      "|\u001c",
      "|\u001c",
      "|\u001c",
      "180602001|\u001c",
      "\n",
      "\n"
     ]
    }
   ],
   "source": [
    "# 总资源表查看\n",
    "\n",
    "i = 0\n",
    "with open(r'E:\\jupyter\\CTM\\data_src\\resorce\\ARES_Q_TMP_20180715.DAT') as file:\n",
    "    for line in file:\n",
    "        i = i+1\n",
    "        if i>3:\n",
    "            break\n",
    "        print(line)"
   ]
  },
  {
   "cell_type": "code",
   "execution_count": 2,
   "metadata": {},
   "outputs": [
    {
     "name": "stdout",
     "output_type": "stream",
     "text": [
      "QTY_DXP_SVR_WRITE_RCR|\u001c",
      "D|\u001c",
      "2|\u001c",
      "5|\u001c",
      "|\u001c",
      "|\u001c",
      "|\u001c",
      "180716001|\u001c",
      "\n",
      "\n",
      "QTY_DXP_SVR_PRCS_WEP@ds03|\u001c",
      "D|\u001c",
      "0|\u001c",
      "120|\u001c",
      "|\u001c",
      "|\u001c",
      "|\u001c",
      "180716001|\u001c",
      "\n",
      "\n",
      "QTY_DXP_SVR_PRCS_WEP@dssapp2|\u001c",
      "D|\u001c",
      "0|\u001c",
      "50|\u001c",
      "|\u001c",
      "|\u001c",
      "|\u001c",
      "180716001|\u001c",
      "\n",
      "\n"
     ]
    }
   ],
   "source": [
    "i = 0\n",
    "with open(r'E:\\jupyter\\CTM\\data_src\\resorce\\ARES_Q_TMP_20180825.DAT') as file:\n",
    "    for line in file:\n",
    "        i = i+1\n",
    "        if i>3:\n",
    "            break\n",
    "        print(line)"
   ]
  },
  {
   "cell_type": "code",
   "execution_count": 9,
   "metadata": {},
   "outputs": [
    {
     "name": "stdout",
     "output_type": "stream",
     "text": [
      "                       resource  D max_res   v_day server\n",
      "0         QTY_DXP_SVR_WRITE_RCR  D       5  180716    001\n",
      "1     QTY_DXP_SVR_PRCS_WEP@ds03  D     120  180716    001\n",
      "2  QTY_DXP_SVR_PRCS_WEP@dssapp2  D      50  180716    001\n",
      "3          QTY_DXP_DB_READ_NAG1  D       8  180716    001\n",
      "4         QTY_DXP_SVR_WRITE_CCF  D      20  180716    001\n"
     ]
    }
   ],
   "source": [
    "import pandas as pd\n",
    "f = open(r'E:\\jupyter\\CTM\\data_src\\resorce\\ARES_Q_TMP_20180825.DAT')\n",
    "res = pd.read_csv(f, sep='|',header=None)\n",
    "res = res[[0,1,3,7]]\n",
    "res.columns = ('resource','D','max_res','v_day')\n",
    "res['D'] = res['D'].apply(lambda x:x[1:])\n",
    "res['max_res'] = res['max_res'].apply(lambda x:x[1:])\n",
    "res['server'] = res['v_day'].apply(lambda x:x[7:10])\n",
    "res['v_day'] = res['v_day'].apply(lambda x:x[1:7])\n",
    "print(res.head())\n",
    "\n",
    "res.to_csv(r'E:\\jupyter\\CTM\\data_src\\resorce\\res_0825.csv',index=False)"
   ]
  },
  {
   "cell_type": "code",
   "execution_count": null,
   "metadata": {},
   "outputs": [],
   "source": []
  }
 ],
 "metadata": {
  "kernelspec": {
   "display_name": "Python 3",
   "language": "python",
   "name": "python3"
  },
  "language_info": {
   "codemirror_mode": {
    "name": "ipython",
    "version": 3
   },
   "file_extension": ".py",
   "mimetype": "text/x-python",
   "name": "python",
   "nbconvert_exporter": "python",
   "pygments_lexer": "ipython3",
   "version": "3.6.3"
  }
 },
 "nbformat": 4,
 "nbformat_minor": 2
}
