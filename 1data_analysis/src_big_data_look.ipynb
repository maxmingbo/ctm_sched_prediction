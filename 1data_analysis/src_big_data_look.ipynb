{
 "cells": [
  {
   "cell_type": "markdown",
   "metadata": {},
   "source": [
    "### 对原始大文件进行简单观察"
   ]
  },
  {
   "cell_type": "code",
   "execution_count": 2,
   "metadata": {},
   "outputs": [
    {
     "name": "stdout",
     "output_type": "stream",
     "text": [
      "1avys|\u001c",
      "SMART Table|\u001c",
      "SYS_MAGAGER|\u001c",
      "|\u001c",
      "180503|\u001c",
      "30|\u001c",
      "|\u001c",
      "0|\u001c",
      "|\u001c",
      "|\u001c",
      "00001M|\u001c",
      "20180504002447|\u001c",
      "99|\u001c",
      "|\u001c",
      "0|\u001c",
      "235951|\u001c",
      "Ended Not OK|\u001c",
      "Run (2)|\u001c",
      "0|\u001c",
      "20180503002353|\u001c",
      "20180504002344|\u001c",
      "1|\u001c",
      "|\u001c",
      "0|\u001c",
      "0|\u001c",
      "|\u001c",
      "SYS_MAGAGER|\u001c",
      "20180503000142|\u001c",
      "002155|\u001c",
      "0|\u001c",
      "1|\u001c",
      "180602001|\u001c",
      "\n",
      "\n",
      "\u001c",
      "180602\n",
      "001\n",
      "3xuts|\u001c",
      "SMART Table|\u001c",
      "DXP_RF_R_PFM1|\u001c",
      "|\u001c",
      "180531|\u001c",
      "30|\u001c",
      "DXP_RF_R_PFM1|\u001c",
      "0|\u001c",
      "|\u001c",
      "|\u001c",
      "00001M|\u001c",
      "|\u001c",
      "sa|\u001c",
      "|\u001c",
      "0|\u001c",
      "715911|\u001c",
      "Executing|\u001c",
      "Run (2)|\u001c",
      "0|\u001c",
      "20180531002028|\u001c",
      "|\u001c",
      "1|\u001c",
      "|\u001c",
      "0|\u001c",
      "0|\u001c",
      "|\u001c",
      "DXP_RF_R_PFM1|\u001c",
      "20180531000151|\u001c",
      "002142|\u001c",
      "0|\u001c",
      "1|\u001c",
      "180602001|\u001c",
      "\n",
      "\n",
      "\u001c",
      "180602\n",
      "001\n",
      "3xz9a|\u001c",
      "Command|\u001c",
      "SYS_FS_ARTP_P_ARTP_R_RMP_TEAM_MBR_PNT_INF_SR_1|\u001c",
      "6961|\u001c",
      "180601|\u001c",
      "2|\u001c",
      "生成FS的OS作业SYS_FS_ARTP_P_ARTP_R_RMP_TEAM_MBR_PNT_INF_SR_1|\u001c",
      "0|\u001c",
      "|\u001c",
      "|\u001c",
      "00005M|\u001c",
      "20180602154012|\u001c",
      "sa|\u001c",
      "etlfsagent02sz|\u001c",
      "0|\u001c",
      "000001|\u001c",
      "Ended OK|\u001c",
      "Run (2)|\u001c",
      "0|\u001c",
      "20180602153510|\u001c",
      "20180602153512|\u001c",
      "1|\u001c",
      "sh /home/agent/CTM/filewatch/FileWatch.sh %%SVR_CTM_FILEPATH.ARTP_P_ARTP_R_RMP_TEAM_MBR_PNT_INF_SR_1_%%$ODATE..CTM|\u001c",
      "0|\u001c",
      "1|\u001c",
      "GRP_FS_AGENT|\u001c",
      "OUT_EX_RTL2_RMP|\u001c",
      "20180601000146|\u001c",
      "183016|\u001c",
      "0|\u001c",
      "0|\u001c",
      "180602001|\u001c",
      "\n",
      "\n",
      "\u001c",
      "180602\n",
      "001\n"
     ]
    }
   ],
   "source": [
    "#查看ajob表前几行\n",
    "i = 0\n",
    "day_set = set()\n",
    "with open(r'E:\\aevt\\AJOB_TMP_20180715.DAT') as file:\n",
    "    for line in file:\n",
    "        i = i+1\n",
    "        day = line.split('|')[-2]  #倒数第二行是表的 日期+sever编码\n",
    "        day_set.add(day[1:])\n",
    "        print(line)\n",
    "        print(day[:7])\n",
    "        print(day[7:11])\n",
    "        if i>2:\n",
    "            break"
   ]
  },
  {
   "cell_type": "code",
   "execution_count": 1,
   "metadata": {},
   "outputs": [
    {
     "name": "stdout",
     "output_type": "stream",
     "text": [
      "['180716001', '180716002', '180716003', '180717001', '180717002', '180717003', '180718001', '180718002', '180718003', '180719001', '180719002', '180719003', '180720001', '180720002', '180720003', '180721001', '180721002', '180721003', '180722001', '180722002', '180722003', '180723001', '180723002', '180723003', '180724001', '180724002', '180724003', '180725001', '180725002', '180725003', '180726001', '180726002', '180726003', '180727001', '180727002', '180727003', '180728001', '180728002', '180728003', '180729001', '180729002', '180729003', '180730001', '180730002', '180730003', '180731001', '180731002', '180731003', '180801001', '180801002', '180801003', '180802001', '180802002', '180802003', '180803001', '180803002', '180803003', '180804001', '180804002', '180804003', '180805001', '180805002', '180805003', '180806001', '180806002', '180806003', '180807001', '180807002', '180807003', '180808001', '180808002', '180808003', '180809001', '180809002', '180809003', '180810001', '180810002', '180810003', '180811001', '180811002', '180811003', '180812001', '180812002', '180812003', '180813001', '180813001_10', '180813002', '180813002_10', '180813003', '180813003_10', '180814001', '180814001_9', '180814002', '180814002_9', '180814003', '180814003_9', '180815001', '180815001_8', '180815002', '180815002_8', '180815003', '180815003_8', '180816001', '180816001_7', '180816002', '180816002_7', '180816003', '180816003_7', '180817001', '180817001_6', '180817002', '180817002_6', '180817003', '180817003_6', '180818001', '180818001_5', '180818002', '180818002_5', '180818003', '180818003_5', '180819001', '180819001_4', '180819002', '180819002_4', '180819003', '180819003_4', '180820001', '180820001_10', '180820002', '180820002_10', '180820003', '180820003_10', '180821001', '180821001_9', '180821002', '180821002_9', '180821003', '180821003_9', '180822001', '180822001_8', '180822002', '180822002_8', '180822003', '180822003_8', '180823001', '180823001_7', '180823002', '180823002_7', '180823003', '180823003_7', '180824001', '180824001_6', '180824002', '180824002_6', '180824003', '180824003_6', '180825001', '180825001_9', '180825002', '180825002_9', '180825003', '180825003_9', '180826001', '180826001_4', '180826002', '180826002_4', '180826003', '180826003_4']\n"
     ]
    }
   ],
   "source": [
    "# job表 日期起始 --结束\n",
    "i = 0\n",
    "d_set = set()\n",
    "with open(r'E:\\aevt\\AJOB_TMP_20180825_000AH000.DAT') as file:\n",
    "    for line in file:\n",
    "        d = line.split('|')[-2][1:]\n",
    "        #if d > '2018-04-18':\n",
    "        d_set.add(d)\n",
    "print(sorted(list(d_set)))"
   ]
  },
  {
   "cell_type": "code",
   "execution_count": 4,
   "metadata": {
    "scrolled": true
   },
   "outputs": [
    {
     "name": "stdout",
     "output_type": "stream",
     "text": [
      "180716001,180716002,180716003\n",
      "180717001,180717002,180717003\n",
      "180718001,180718002,180718003\n",
      "180719001,180719002,180719003\n",
      "180720001,180720002,180720003\n",
      "180721001,180721002,180721003\n",
      "180722001,180722002,180722003\n",
      "180723001,180723002,180723003\n",
      "180724001,180724002,180724003\n",
      "180725001,180725002,180725003\n",
      "180726001,180726002,180726003\n",
      "180727001,180727002,180727003\n",
      "180728001,180728002,180728003\n",
      "180729001,180729002,180729003\n",
      "180730001,180730002,180730003\n",
      "180731001,180731002,180731003\n",
      "180801001,180801002,180801003\n",
      "180802001,180802002,180802003\n",
      "180803001,180803002,180803003\n",
      "180804001,180804002,180804003\n",
      "180805001,180805002,180805003\n",
      "180806001,180806002,180806003\n",
      "180807001,180807002,180807003\n",
      "180808001,180808002,180808003\n",
      "180809001,180809002,180809003\n",
      "180810001,180810002,180810003\n",
      "180811001,180811002,180811003\n",
      "180812001,180812002,180812003\n",
      "180813001,180813001_10,180813002\n",
      "180813002_10,180813003,180813003_10\n",
      "180814001,180814001_9,180814002\n",
      "180814002_9,180814003,180814003_9\n",
      "180815001,180815001_8,180815002\n",
      "180815002_8,180815003,180815003_8\n",
      "180816001,180816001_7,180816002\n",
      "180816002_7,180816003,180816003_7\n",
      "180817001,180817001_6,180817002\n",
      "180817002_6,180817003,180817003_6\n",
      "180818001,180818001_5,180818002\n",
      "180818002_5,180818003,180818003_5\n",
      "180819001,180819001_4,180819002\n",
      "180819002_4,180819003,180819003_4\n",
      "180820001,180820001_10,180820002\n",
      "180820002_10,180820003,180820003_10\n",
      "180821001,180821001_9,180821002\n",
      "180821002_9,180821003,180821003_9\n",
      "180822001,180822001_8,180822002\n",
      "180822002_8,180822003,180822003_8\n",
      "180823001,180823001_7,180823002\n",
      "180823002_7,180823003,180823003_7\n",
      "180824001,180824001_6,180824002\n",
      "180824002_6,180824003,180824003_6\n",
      "180825001,180825001_9,180825002\n",
      "180825002_9,180825003,180825003_9\n",
      "180826001,180826001_4,180826002\n",
      "180826002_4,180826003,180826003_4\n"
     ]
    }
   ],
   "source": [
    "#查看排序后的数据日期\n",
    "d_list = sorted(list(d_set))\n",
    "i = 1\n",
    "for d in d_list:\n",
    "    if i%3==0:\n",
    "        print(d)\n",
    "    else:\n",
    "        print(d,end=',')\n",
    "    i += 1"
   ]
  },
  {
   "cell_type": "code",
   "execution_count": 7,
   "metadata": {},
   "outputs": [
    {
     "name": "stdout",
     "output_type": "stream",
     "text": [
      "['180716', '180717', '180718', '180719', '180720', '180721', '180722', '180723', '180724', '180725', '180726', '180727', '180728', '180729', '180730', '180731', '180801', '180802', '180803', '180804', '180805', '180806', '180807', '180808', '180809', '180810', '180811', '180812', '180813', '180814', '180815', '180816', '180817', '180818', '180819', '180820', '180821', '180822', '180823', '180824', '180825', '180826']\n"
     ]
    }
   ],
   "source": [
    "#日期 集合输出：\n",
    "d_set = list(set([d[:6] for d in d_list]))\n",
    "print(sorted(d_set))"
   ]
  },
  {
   "cell_type": "markdown",
   "metadata": {},
   "source": [
    "### 有时间截取_    _内容与上面3段代码类似__0825批次数据"
   ]
  },
  {
   "cell_type": "code",
   "execution_count": 1,
   "metadata": {},
   "outputs": [
    {
     "name": "stdout",
     "output_type": "stream",
     "text": [
      "['180813001_10', '180813002_10', '180813003_10', '180814001_9', '180814002_9', '180814003_9', '180815001_8', '180815002_8', '180815003_8', '180816001_7', '180816002_7', '180816003_7', '180817001_6', '180817002_6', '180817003_6', '180818001_5', '180818002_5', '180818003_5', '180819001_4', '180819002_4', '180819003_4', '180820001_10', '180820002_10', '180820003_10', '180821001_9', '180821002_9', '180821003_9', '180822001_8', '180822002_8', '180822003_8', '180823001_7', '180823002_7', '180823003_7', '180824001_6', '180824002_6', '180824003_6', '180825001_9', '180825002_9', '180825003_9', '180826001_4', '180826002_4', '180826003_4']\n"
     ]
    }
   ],
   "source": [
    "# job表 日期起始 --结束\n",
    "i = 0\n",
    "d_set = set()\n",
    "with open(r'E:\\aevt\\AJOB_TMP_20180825_000AH000.DAT') as file:\n",
    "    for line in file:\n",
    "        d = line.split('|')[-2][1:]\n",
    "        #if d > '2018-04-18':\n",
    "        if len(d)>10:\n",
    "            d_set.add(d)\n",
    "print(sorted(list(d_set)))"
   ]
  },
  {
   "cell_type": "code",
   "execution_count": 2,
   "metadata": {},
   "outputs": [
    {
     "name": "stdout",
     "output_type": "stream",
     "text": [
      "180813001_10,180813002_10,180813003_10\n",
      "180814001_9,180814002_9,180814003_9\n",
      "180815001_8,180815002_8,180815003_8\n",
      "180816001_7,180816002_7,180816003_7\n",
      "180817001_6,180817002_6,180817003_6\n",
      "180818001_5,180818002_5,180818003_5\n",
      "180819001_4,180819002_4,180819003_4\n",
      "180820001_10,180820002_10,180820003_10\n",
      "180821001_9,180821002_9,180821003_9\n",
      "180822001_8,180822002_8,180822003_8\n",
      "180823001_7,180823002_7,180823003_7\n",
      "180824001_6,180824002_6,180824003_6\n",
      "180825001_9,180825002_9,180825003_9\n",
      "180826001_4,180826002_4,180826003_4\n"
     ]
    }
   ],
   "source": [
    "#查看排序后的数据日期\n",
    "d_list = sorted(list(d_set))\n",
    "i = 1\n",
    "for d in d_list:\n",
    "    if i%3==0:\n",
    "        print(d)\n",
    "    else:\n",
    "        print(d,end=',')\n",
    "    i += 1"
   ]
  },
  {
   "cell_type": "code",
   "execution_count": 3,
   "metadata": {},
   "outputs": [
    {
     "name": "stdout",
     "output_type": "stream",
     "text": [
      "['180813', '180814', '180815', '180816', '180817', '180818', '180819', '180820', '180821', '180822', '180823', '180824', '180825', '180826']\n"
     ]
    }
   ],
   "source": [
    "#日期 集合输出：\n",
    "d_set = list(set([d[:6] for d in d_list]))\n",
    "print(sorted(d_set))"
   ]
  },
  {
   "cell_type": "code",
   "execution_count": null,
   "metadata": {},
   "outputs": [],
   "source": []
  },
  {
   "cell_type": "markdown",
   "metadata": {},
   "source": [
    "### 0715前7天完整数据处理"
   ]
  },
  {
   "cell_type": "code",
   "execution_count": 8,
   "metadata": {},
   "outputs": [
    {
     "name": "stdout",
     "output_type": "stream",
     "text": [
      "['80709001', '80709002', '80709003', '80710001', '80710002', '80710003', '80711001', '80711002', '80711003', '80712001', '80712002', '80712003', '80713001', '80713002', '80713003', '80714001', '80714002', '80714003', '80715001', '80715002', '80715003']\n"
     ]
    }
   ],
   "source": [
    "# job表 日期起始 --结束\n",
    "i = 0\n",
    "d_set = set()\n",
    "with open(r'E:\\aevt\\VIEW_AJOB_TMP_20180730_000AH000.DAT') as file:\n",
    "    for line in file:\n",
    "        d = line.split('||')[-2][1:]\n",
    "        #if d > '2018-04-18':\n",
    "#         print(line)\n",
    "#         i = i+1\n",
    "#         if i>2:\n",
    "#             break\n",
    "        d_set.add(d)\n",
    "print(sorted(list(d_set)))"
   ]
  },
  {
   "cell_type": "code",
   "execution_count": 9,
   "metadata": {},
   "outputs": [
    {
     "name": "stdout",
     "output_type": "stream",
     "text": [
      "80709001,80709002,80709003\n",
      "80710001,80710002,80710003\n",
      "80711001,80711002,80711003\n",
      "80712001,80712002,80712003\n",
      "80713001,80713002,80713003\n",
      "80714001,80714002,80714003\n",
      "80715001,80715002,80715003\n"
     ]
    }
   ],
   "source": [
    "#查看排序后的数据日期\n",
    "d_list = sorted(list(d_set))\n",
    "i = 1\n",
    "for d in d_list:\n",
    "    if i%3==0:\n",
    "        print(d)\n",
    "    else:\n",
    "        print(d,end=',')\n",
    "    i += 1"
   ]
  },
  {
   "cell_type": "code",
   "execution_count": 10,
   "metadata": {},
   "outputs": [
    {
     "name": "stdout",
     "output_type": "stream",
     "text": [
      "['807090', '807100', '807110', '807120', '807130', '807140', '807150']\n"
     ]
    }
   ],
   "source": [
    "#日期 集合输出：\n",
    "d_set = list(set([d[:6] for d in d_list]))\n",
    "print(sorted(d_set))"
   ]
  },
  {
   "cell_type": "code",
   "execution_count": null,
   "metadata": {},
   "outputs": [],
   "source": []
  },
  {
   "cell_type": "code",
   "execution_count": 2,
   "metadata": {},
   "outputs": [
    {
     "name": "stdout",
     "output_type": "stream",
     "text": [
      "0vfpd||Job||LD_CDM_1_T_HTDW_ACOC_ACOC_ITF_CRM_CLTMONTHBACD||1928981||180701||20||LD_CDM_1_T_HTDW_ACOC_ACOC_ITF_CRM_CLTMONTHBACD||0||||||00020M||20180709203619||sa||ds05||20||000100||Ended OK||Run (2)||0||20180709201551||20180709201619||1||||0||0||GRP_DS_AGENT||DXP_LD_CDM_HCOC_PFM||20180701000142||991142||12620||0||180709001||\n",
      "\n",
      "1fjxc||SMART Table||DXP_TS_HEES||||180707||30||||0||||||00001M||20180709002053||sa||||0||475948||Ended OK||Run (2)||0||20180707002015||20180709001951||1||||0||0||||DXP_TS_HEES||20180707000145||002021||0||1||180709001||\n",
      "\n",
      "0x9up||Command||SYS_FS_ACOC_P_ACOC_RI_JGG_GRP_CUST_DTL_SR||9044||180701||20||||0||||||00005M||20180709204007||sa||etlfsagent01sz||0||000001||Ended OK||Run (2)||0||20180709203506||20180709203506||1||sh /home/agent/CTM/filewatch/FileWatch.sh %%SVR_CTM_FILEPATH.ACOC_P_ACOC_RI_JGG_GRP_CUST_DTL_SR_%%$ODATE..CTM||0||1||GRP_FS_AGENT||DXP_EX_HTDW_ACOC_PFM||20180701000142||992926||0||0||180709001||\n",
      "\n"
     ]
    }
   ],
   "source": [
    "#ARES_Q_TMP_20180424.DAT  ajob查看前几行\n",
    "i = 0\n",
    "with open(r'E:\\aevt\\VIEW_AJOB_TMP_20180730_000AH000.DAT') as file:\n",
    "    for line in file:\n",
    "        i = i+1\n",
    "        if i>3:\n",
    "            break\n",
    "        print(line)"
   ]
  },
  {
   "cell_type": "code",
   "execution_count": 1,
   "metadata": {},
   "outputs": [
    {
     "name": "stdout",
     "output_type": "stream",
     "text": [
      "0vfpd,Job,LD_CDM_1_T_HTDW_ACOC_ACOC_ITF_CRM_CLTMONTHBACD,1928981,180701,20,LD_CDM_1_T_HTDW_ACOC_ACOC_ITF_CRM_CLTMONTHBACD,0,,,00020M,20180709203619,sa,ds05,20,000100,Ended OK,Run (2),0,20180709201551,20180709201619,1,,0,0,GRP_DS_AGENT,DXP_LD_CDM_HCOC_PFM,20180701000142,991142,12620,0,180709001,\n",
      "\n",
      "1fjxc,SMART Table,DXP_TS_HEES,,180707,30,,0,,,00001M,20180709002053,sa,,0,475948,Ended OK,Run (2),0,20180707002015,20180709001951,1,,0,0,,DXP_TS_HEES,20180707000145,002021,0,1,180709001,\n",
      "\n",
      "0x9up,Command,SYS_FS_ACOC_P_ACOC_RI_JGG_GRP_CUST_DTL_SR,9044,180701,20,,0,,,00005M,20180709204007,sa,etlfsagent01sz,0,000001,Ended OK,Run (2),0,20180709203506,20180709203506,1,sh /home/agent/CTM/filewatch/FileWatch.sh %%SVR_CTM_FILEPATH.ACOC_P_ACOC_RI_JGG_GRP_CUST_DTL_SR_%%$ODATE..CTM,0,1,GRP_FS_AGENT,DXP_EX_HTDW_ACOC_PFM,20180701000142,992926,0,0,180709001,\n",
      "\n"
     ]
    }
   ],
   "source": [
    "#ARES_Q_TMP_20180424.DAT  ajob查看前几行\n",
    "i = 0\n",
    "with open(r'E:\\aevt\\VIEW_AJOB_TMP_20180730_000AH000.DAT') as file:\n",
    "    for line in file:\n",
    "        i = i+1\n",
    "        if i>3:\n",
    "            break\n",
    "        line = line.replace('||',',')\n",
    "        print(line)"
   ]
  },
  {
   "cell_type": "code",
   "execution_count": 13,
   "metadata": {},
   "outputs": [
    {
     "name": "stdout",
     "output_type": "stream",
     "text": [
      "40lai|\u001c",
      "QTY_DXP_JOB_LDELS_WEP|\u001c",
      "1|\u001c",
      "3448|\u001c",
      "|\u001c",
      "|\u001c",
      "180602001|\u001c",
      "\n",
      "\n",
      "41grj|\u001c",
      "QTY_TDDA_M_JOB_CNT|\u001c",
      "1|\u001c",
      "3467|\u001c",
      "|\u001c",
      "|\u001c",
      "180602001|\u001c",
      "\n",
      "\n",
      "3ytnt|\u001c",
      "QTY_TDDA_M_JOB_CNT|\u001c",
      "1|\u001c",
      "3489|\u001c",
      "|\u001c",
      "|\u001c",
      "180602001|\u001c",
      "\n",
      "\n"
     ]
    }
   ],
   "source": [
    "# ALNKI_Q_TMP_20180715  作业 相 关联资源表\n",
    "\n",
    "i = 0\n",
    "with open(r'E:\\aevt\\ALNKI_Q_TMP_20180715.DAT') as file:\n",
    "    for line in file:\n",
    "        i = i+1\n",
    "        if i>3:\n",
    "            break\n",
    "        print(line)"
   ]
  },
  {
   "cell_type": "code",
   "execution_count": 1,
   "metadata": {},
   "outputs": [
    {
     "name": "stdout",
     "output_type": "stream",
     "text": [
      "375|\u001c",
      "2018-07-09 00:19:53.000000|\u001c",
      "S|\u001c",
      "16|\u001c",
      "8|\u001c",
      "1gesm|\u001c",
      "|\u001c",
      "|\u001c",
      "180709001|\u001c",
      "\n",
      "\n",
      "379|\u001c",
      "2018-07-09 00:19:53.000000|\u001c",
      "S|\u001c",
      "16|\u001c",
      "8|\u001c",
      "1ftj3|\u001c",
      "1|\u001c",
      "3698385|\u001c",
      "180709001|\u001c",
      "\n",
      "\n",
      "383|\u001c",
      "2018-07-09 00:19:53.000000|\u001c",
      "S|\u001c",
      "16|\u001c",
      "8|\u001c",
      "1g7j7|\u001c",
      "1|\u001c",
      "3698093|\u001c",
      "180709001|\u001c",
      "\n",
      "\n"
     ]
    }
   ],
   "source": [
    "# 事件表 前几行\n",
    "i = 0\n",
    "day_set = set()\n",
    "with open(r'E:\\aevt\\VIEW_AEVT_TMP_20180730_000AH000.DAT') as file:\n",
    "    for line in file:\n",
    "        i = i+1\n",
    "        #day = line.split('|')[-2]\n",
    "        #day_set.add(day[1:])\n",
    "        if i>3:\n",
    "            break\n",
    "        print(line)"
   ]
  },
  {
   "cell_type": "code",
   "execution_count": 2,
   "metadata": {},
   "outputs": [
    {
     "name": "stdout",
     "output_type": "stream",
     "text": [
      "0x002|\u001c",
      "SYS_FS_AFNC_C_AFNC_R_CTRB_DEG_OPR_ANA_DTL_SR-TO-EX_T_HTDW_AFNC_AFNC_I_R01_CTRB_DEG_OPR_ANA_DTL_SR|\u001c",
      "0701|\u001c",
      "A|\u001c",
      "|\u001c",
      "|\u001c",
      "180709001|\u001c",
      "\n",
      "\n",
      "0xz6q|\u001c",
      "SYS_FS_BPFM_P_PFM_ITF_CLC_FLG_BBK-TO-ES_T_HTDW_BPFM_PFM_ITF_CLC_FLG_BBK|\u001c",
      "0701|\u001c",
      "A|\u001c",
      "|\u001c",
      "|\u001c",
      "180709001|\u001c",
      "\n",
      "\n",
      "0v3mp|\u001c",
      "EXM_T_HTDW_AMAS_MAS_RIT_WP030106_B001-TO-EXZ_T_HTDW_AMAS_MAS_RIT_WP030106_B001|\u001c",
      "0701|\u001c",
      "A|\u001c",
      "|\u001c",
      "|\u001c",
      "180709001|\u001c",
      "\n",
      "\n"
     ]
    }
   ],
   "source": [
    "# 依赖关系表   输入\n",
    "\n",
    "i = 0\n",
    "with open(r'E:\\aevt\\VIEW_ALNKI_P_TMP_20180730_000AH000.DAT') as file:\n",
    "    for line in file:\n",
    "        i = i+1\n",
    "        if i>3:\n",
    "            break\n",
    "        print(line)"
   ]
  },
  {
   "cell_type": "code",
   "execution_count": 3,
   "metadata": {},
   "outputs": [
    {
     "name": "stdout",
     "output_type": "stream",
     "text": [
      "1m4g2|\u001c",
      "QTY_DXP_JOB_TS_WEP|\u001c",
      "1|\u001c",
      "5834|\u001c",
      "|\u001c",
      "|\u001c",
      "180709001|\u001c",
      "\n",
      "\n",
      "1m4io|\u001c",
      "QTY_DXP_SVR_PRCS_WEP@|\u001c",
      "8|\u001c",
      "5875|\u001c",
      "|\u001c",
      "|\u001c",
      "180709001|\u001c",
      "\n",
      "\n",
      "1m4o0|\u001c",
      "QTY_DXP_SVR_PRCS_WEP@|\u001c",
      "8|\u001c",
      "5913|\u001c",
      "|\u001c",
      "|\u001c",
      "180709001|\u001c",
      "\n",
      "\n"
     ]
    }
   ],
   "source": [
    "# 依赖关系表  输出\n",
    "\n",
    "i = 0\n",
    "with open(r'E:\\aevt\\VIEW_ALNKI_Q_TMP_20180730_000AH000.DAT') as file:\n",
    "    for line in file:\n",
    "        i = i+1\n",
    "        if i>3:\n",
    "            break\n",
    "        print(line)"
   ]
  },
  {
   "cell_type": "code",
   "execution_count": 4,
   "metadata": {},
   "outputs": [
    {
     "name": "stdout",
     "output_type": "stream",
     "text": [
      "0v3mq|\u001c",
      "EX_T_HTDW_AMAS_MAS_RPT_PRDMT_DAT-TO-EXM_T_HTDW_AMAS_MAS_RPT_PRDMT_DAT|\u001c",
      "0701|\u001c",
      "+|\u001c",
      "16|\u001c",
      "180709001|\u001c",
      "\n",
      "\n",
      "0x002|\u001c",
      "SYS_FS_AFNC_C_AFNC_R_CTRB_DEG_OPR_ANA_DTL_SR-TO-EX_T_HTDW_AFNC_AFNC_I_R01_CTRB_DEG_OPR_ANA_DTL_SR|\u001c",
      "0701|\u001c",
      "-|\u001c",
      "74|\u001c",
      "180709001|\u001c",
      "\n",
      "\n",
      "0vfpc|\u001c",
      "FW_LD_CDM_1_T_HTDW_ACOC_ACOC_ITF_CRM_CLTMIDDTL-TO-LD_CDM_1_T_HTDW_ACOC_ACOC_ITF_CRM_CLTMIDDTL|\u001c",
      "0701|\u001c",
      "-|\u001c",
      "154|\u001c",
      "180709001|\u001c",
      "\n",
      "\n"
     ]
    }
   ],
   "source": [
    "i = 0\n",
    "with open(r'E:\\aevt\\VIEW_ALNKO_P_TMP_20180730_000AH000.DAT') as file:\n",
    "    for line in file:\n",
    "        i = i+1\n",
    "        if i>3:\n",
    "            break\n",
    "        print(line)"
   ]
  },
  {
   "cell_type": "code",
   "execution_count": null,
   "metadata": {},
   "outputs": [],
   "source": []
  },
  {
   "cell_type": "code",
   "execution_count": null,
   "metadata": {},
   "outputs": [],
   "source": []
  },
  {
   "cell_type": "code",
   "execution_count": null,
   "metadata": {},
   "outputs": [],
   "source": []
  },
  {
   "cell_type": "code",
   "execution_count": 1,
   "metadata": {},
   "outputs": [
    {
     "name": "stdout",
     "output_type": "stream",
     "text": [
      "QTY_DXP_SVR_WRITE_DGW|\u001c",
      "D|\u001c",
      "0|\u001c",
      "1|\u001c",
      "|\u001c",
      "|\u001c",
      "|\u001c",
      "180602001|\u001c",
      "\n",
      "\n",
      "DXP101|\u001c",
      "D|\u001c",
      "0|\u001c",
      "0|\u001c",
      "|\u001c",
      "|\u001c",
      "|\u001c",
      "180602001|\u001c",
      "\n",
      "\n",
      "DXP_6750_OUT1_BAS3|\u001c",
      "D|\u001c",
      "0|\u001c",
      "1000|\u001c",
      "|\u001c",
      "|\u001c",
      "|\u001c",
      "180602001|\u001c",
      "\n",
      "\n"
     ]
    }
   ],
   "source": [
    "# 总资源表查看\n",
    "\n",
    "i = 0\n",
    "with open(r'E:\\jupyter\\CTM\\data_src\\resorce\\ARES_Q_TMP_20180715.DAT') as file:\n",
    "    for line in file:\n",
    "        i = i+1\n",
    "        if i>3:\n",
    "            break\n",
    "        print(line)"
   ]
  },
  {
   "cell_type": "code",
   "execution_count": 2,
   "metadata": {},
   "outputs": [
    {
     "name": "stdout",
     "output_type": "stream",
     "text": [
      "QTY_DXP_SVR_WRITE_RCR|\u001c",
      "D|\u001c",
      "2|\u001c",
      "5|\u001c",
      "|\u001c",
      "|\u001c",
      "|\u001c",
      "180716001|\u001c",
      "\n",
      "\n",
      "QTY_DXP_SVR_PRCS_WEP@ds03|\u001c",
      "D|\u001c",
      "0|\u001c",
      "120|\u001c",
      "|\u001c",
      "|\u001c",
      "|\u001c",
      "180716001|\u001c",
      "\n",
      "\n",
      "QTY_DXP_SVR_PRCS_WEP@dssapp2|\u001c",
      "D|\u001c",
      "0|\u001c",
      "50|\u001c",
      "|\u001c",
      "|\u001c",
      "|\u001c",
      "180716001|\u001c",
      "\n",
      "\n"
     ]
    }
   ],
   "source": [
    "i = 0\n",
    "with open(r'E:\\jupyter\\CTM\\data_src\\resorce\\ARES_Q_TMP_20180825.DAT') as file:\n",
    "    for line in file:\n",
    "        i = i+1\n",
    "        if i>3:\n",
    "            break\n",
    "        print(line)"
   ]
  },
  {
   "cell_type": "code",
   "execution_count": 9,
   "metadata": {},
   "outputs": [
    {
     "name": "stdout",
     "output_type": "stream",
     "text": [
      "                       resource  D max_res   v_day server\n",
      "0         QTY_DXP_SVR_WRITE_RCR  D       5  180716    001\n",
      "1     QTY_DXP_SVR_PRCS_WEP@ds03  D     120  180716    001\n",
      "2  QTY_DXP_SVR_PRCS_WEP@dssapp2  D      50  180716    001\n",
      "3          QTY_DXP_DB_READ_NAG1  D       8  180716    001\n",
      "4         QTY_DXP_SVR_WRITE_CCF  D      20  180716    001\n"
     ]
    }
   ],
   "source": [
    "import pandas as pd\n",
    "f = open(r'E:\\jupyter\\CTM\\data_src\\resorce\\ARES_Q_TMP_20180825.DAT')\n",
    "res = pd.read_csv(f, sep='|',header=None)\n",
    "res = res[[0,1,3,7]]\n",
    "res.columns = ('resource','D','max_res','v_day')\n",
    "res['D'] = res['D'].apply(lambda x:x[1:])\n",
    "res['max_res'] = res['max_res'].apply(lambda x:x[1:])\n",
    "res['server'] = res['v_day'].apply(lambda x:x[7:10])\n",
    "res['v_day'] = res['v_day'].apply(lambda x:x[1:7])\n",
    "print(res.head())\n",
    "\n",
    "res.to_csv(r'E:\\jupyter\\CTM\\data_src\\resorce\\res_0825.csv',index=False)"
   ]
  },
  {
   "cell_type": "code",
   "execution_count": null,
   "metadata": {},
   "outputs": [],
   "source": []
  }
 ],
 "metadata": {
  "kernelspec": {
   "display_name": "Python 3",
   "language": "python",
   "name": "python3"
  },
  "language_info": {
   "codemirror_mode": {
    "name": "ipython",
    "version": 3
   },
   "file_extension": ".py",
   "mimetype": "text/x-python",
   "name": "python",
   "nbconvert_exporter": "python",
   "pygments_lexer": "ipython3",
   "version": "3.6.3"
  }
 },
 "nbformat": 4,
 "nbformat_minor": 2
}
