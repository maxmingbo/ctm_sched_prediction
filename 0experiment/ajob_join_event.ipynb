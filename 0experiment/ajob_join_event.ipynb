{
 "cells": [
  {
   "cell_type": "code",
   "execution_count": 2,
   "metadata": {},
   "outputs": [],
   "source": [
    "import pandas as pd\n",
    "\n",
    "day = '180704'\n",
    "\n",
    "ajob = pd.read_csv(r'E:\\jupyter\\CTM\\data_src\\ajob\\ajob_%s_0.txt'%day,low_memory=False)\n",
    "event = pd.read_csv(r'E:\\jupyter\\CTM\\data_src\\evet\\evet_%s.csv'%day,low_memory=False)"
   ]
  },
  {
   "cell_type": "code",
   "execution_count": 4,
   "metadata": {},
   "outputs": [
    {
     "name": "stdout",
     "output_type": "stream",
     "text": [
      "(80, 32)\n"
     ]
    }
   ],
   "source": [
    "ajob = ajob[ajob.order_table=='BRTL_RTL2']\n",
    "print(ajob.shape)"
   ]
  },
  {
   "cell_type": "code",
   "execution_count": 6,
   "metadata": {},
   "outputs": [],
   "source": [
    "ajob['order_id'] = ajob[['order_id','server']].apply(lambda x:x[0]+str(x[1]),axis =1 )\n",
    "ajob = ajob[ajob.odate == 180704]\n",
    "ajob = ajob[['order_id','job_name','order_table','end_time','start_time','nodegroup']]"
   ]
  },
  {
   "cell_type": "code",
   "execution_count": 7,
   "metadata": {},
   "outputs": [
    {
     "data": {
      "text/html": [
       "<div>\n",
       "<style scoped>\n",
       "    .dataframe tbody tr th:only-of-type {\n",
       "        vertical-align: middle;\n",
       "    }\n",
       "\n",
       "    .dataframe tbody tr th {\n",
       "        vertical-align: top;\n",
       "    }\n",
       "\n",
       "    .dataframe thead th {\n",
       "        text-align: right;\n",
       "    }\n",
       "</style>\n",
       "<table border=\"1\" class=\"dataframe\">\n",
       "  <thead>\n",
       "    <tr style=\"text-align: right;\">\n",
       "      <th></th>\n",
       "      <th>order_id</th>\n",
       "      <th>job_name</th>\n",
       "      <th>order_table</th>\n",
       "      <th>end_time</th>\n",
       "      <th>start_time</th>\n",
       "      <th>nodegroup</th>\n",
       "    </tr>\n",
       "  </thead>\n",
       "  <tbody>\n",
       "    <tr>\n",
       "      <th>161787</th>\n",
       "      <td>5i2vk2</td>\n",
       "      <td>BRTL_P_BRTL_BC_DAY_CARD_APL_EVT_1</td>\n",
       "      <td>BRTL_RTL2</td>\n",
       "      <td>2.018070e+13</td>\n",
       "      <td>2.018070e+13</td>\n",
       "      <td>GRP_TD_AGENT</td>\n",
       "    </tr>\n",
       "    <tr>\n",
       "      <th>161820</th>\n",
       "      <td>5i2x22</td>\n",
       "      <td>BRTL_P_BRTL_PH_PMACS_PROD_HLD_INC_SR_4</td>\n",
       "      <td>BRTL_RTL2</td>\n",
       "      <td>2.018070e+13</td>\n",
       "      <td>2.018070e+13</td>\n",
       "      <td>GRP_TD_AGENT</td>\n",
       "    </tr>\n",
       "    <tr>\n",
       "      <th>164175</th>\n",
       "      <td>5i2vj2</td>\n",
       "      <td>BRTL_F_BRTL_PH_CUID_MIT_AST_CFG_SR</td>\n",
       "      <td>BRTL_RTL2</td>\n",
       "      <td>2.018070e+13</td>\n",
       "      <td>2.018070e+13</td>\n",
       "      <td>GRP_TD_AGENT</td>\n",
       "    </tr>\n",
       "    <tr>\n",
       "      <th>164217</th>\n",
       "      <td>5i2x12</td>\n",
       "      <td>BRTL_P_BRTL_PH_PMACS_PROD_HLD_INC_SR_3</td>\n",
       "      <td>BRTL_RTL2</td>\n",
       "      <td>NaN</td>\n",
       "      <td>NaN</td>\n",
       "      <td>GRP_TD_AGENT</td>\n",
       "    </tr>\n",
       "    <tr>\n",
       "      <th>164395</th>\n",
       "      <td>5i2vi2</td>\n",
       "      <td>BRTL_P_BRTL_PH_CUID_MIT_AST_CFG_SR_1</td>\n",
       "      <td>BRTL_RTL2</td>\n",
       "      <td>2.018070e+13</td>\n",
       "      <td>2.018070e+13</td>\n",
       "      <td>GRP_TD_AGENT</td>\n",
       "    </tr>\n",
       "  </tbody>\n",
       "</table>\n",
       "</div>"
      ],
      "text/plain": [
       "       order_id                                job_name order_table  \\\n",
       "161787   5i2vk2       BRTL_P_BRTL_BC_DAY_CARD_APL_EVT_1   BRTL_RTL2   \n",
       "161820   5i2x22  BRTL_P_BRTL_PH_PMACS_PROD_HLD_INC_SR_4   BRTL_RTL2   \n",
       "164175   5i2vj2      BRTL_F_BRTL_PH_CUID_MIT_AST_CFG_SR   BRTL_RTL2   \n",
       "164217   5i2x12  BRTL_P_BRTL_PH_PMACS_PROD_HLD_INC_SR_3   BRTL_RTL2   \n",
       "164395   5i2vi2    BRTL_P_BRTL_PH_CUID_MIT_AST_CFG_SR_1   BRTL_RTL2   \n",
       "\n",
       "            end_time    start_time     nodegroup  \n",
       "161787  2.018070e+13  2.018070e+13  GRP_TD_AGENT  \n",
       "161820  2.018070e+13  2.018070e+13  GRP_TD_AGENT  \n",
       "164175  2.018070e+13  2.018070e+13  GRP_TD_AGENT  \n",
       "164217           NaN           NaN  GRP_TD_AGENT  \n",
       "164395  2.018070e+13  2.018070e+13  GRP_TD_AGENT  "
      ]
     },
     "execution_count": 7,
     "metadata": {},
     "output_type": "execute_result"
    }
   ],
   "source": [
    "ajob.head()"
   ]
  },
  {
   "cell_type": "code",
   "execution_count": 8,
   "metadata": {},
   "outputs": [
    {
     "data": {
      "text/html": [
       "<div>\n",
       "<style scoped>\n",
       "    .dataframe tbody tr th:only-of-type {\n",
       "        vertical-align: middle;\n",
       "    }\n",
       "\n",
       "    .dataframe tbody tr th {\n",
       "        vertical-align: top;\n",
       "    }\n",
       "\n",
       "    .dataframe thead th {\n",
       "        text-align: right;\n",
       "    }\n",
       "</style>\n",
       "<table border=\"1\" class=\"dataframe\">\n",
       "  <thead>\n",
       "    <tr style=\"text-align: right;\">\n",
       "      <th></th>\n",
       "      <th>evt_time</th>\n",
       "      <th>new_value</th>\n",
       "      <th>old_value</th>\n",
       "      <th>order_id</th>\n",
       "      <th>v_date</th>\n",
       "      <th>server</th>\n",
       "    </tr>\n",
       "  </thead>\n",
       "  <tbody>\n",
       "    <tr>\n",
       "      <th>0</th>\n",
       "      <td>2018-07-04 00:21:08</td>\n",
       "      <td>16.0</td>\n",
       "      <td>8.0</td>\n",
       "      <td>0ykcd</td>\n",
       "      <td>180704</td>\n",
       "      <td>1</td>\n",
       "    </tr>\n",
       "    <tr>\n",
       "      <th>1</th>\n",
       "      <td>2018-07-04 00:21:08</td>\n",
       "      <td>16.0</td>\n",
       "      <td>8.0</td>\n",
       "      <td>0yn72</td>\n",
       "      <td>180704</td>\n",
       "      <td>1</td>\n",
       "    </tr>\n",
       "    <tr>\n",
       "      <th>2</th>\n",
       "      <td>2018-07-04 00:21:08</td>\n",
       "      <td>16.0</td>\n",
       "      <td>8.0</td>\n",
       "      <td>0yebe</td>\n",
       "      <td>180704</td>\n",
       "      <td>1</td>\n",
       "    </tr>\n",
       "  </tbody>\n",
       "</table>\n",
       "</div>"
      ],
      "text/plain": [
       "              evt_time  new_value  old_value order_id  v_date  server\n",
       "0  2018-07-04 00:21:08       16.0        8.0    0ykcd  180704       1\n",
       "1  2018-07-04 00:21:08       16.0        8.0    0yn72  180704       1\n",
       "2  2018-07-04 00:21:08       16.0        8.0    0yebe  180704       1"
      ]
     },
     "execution_count": 8,
     "metadata": {},
     "output_type": "execute_result"
    }
   ],
   "source": [
    "event.head(3)"
   ]
  },
  {
   "cell_type": "code",
   "execution_count": 10,
   "metadata": {},
   "outputs": [],
   "source": [
    "\n",
    "event['order_id'] = event[['order_id','server']].apply(lambda x:str(x[0])+str(x[1]),axis =1 )"
   ]
  },
  {
   "cell_type": "code",
   "execution_count": 11,
   "metadata": {},
   "outputs": [
    {
     "data": {
      "text/plain": [
       "(3724061, 6)"
      ]
     },
     "execution_count": 11,
     "metadata": {},
     "output_type": "execute_result"
    }
   ],
   "source": [
    "event.shape"
   ]
  },
  {
   "cell_type": "code",
   "execution_count": 12,
   "metadata": {},
   "outputs": [],
   "source": [
    "ajob = ajob.merge(event,on='order_id',how ='inner')"
   ]
  },
  {
   "cell_type": "code",
   "execution_count": 13,
   "metadata": {},
   "outputs": [
    {
     "data": {
      "text/plain": [
       "(216, 11)"
      ]
     },
     "execution_count": 13,
     "metadata": {},
     "output_type": "execute_result"
    }
   ],
   "source": [
    "ajob.shape"
   ]
  },
  {
   "cell_type": "code",
   "execution_count": 14,
   "metadata": {},
   "outputs": [
    {
     "data": {
      "text/html": [
       "<div>\n",
       "<style scoped>\n",
       "    .dataframe tbody tr th:only-of-type {\n",
       "        vertical-align: middle;\n",
       "    }\n",
       "\n",
       "    .dataframe tbody tr th {\n",
       "        vertical-align: top;\n",
       "    }\n",
       "\n",
       "    .dataframe thead th {\n",
       "        text-align: right;\n",
       "    }\n",
       "</style>\n",
       "<table border=\"1\" class=\"dataframe\">\n",
       "  <thead>\n",
       "    <tr style=\"text-align: right;\">\n",
       "      <th></th>\n",
       "      <th>order_id</th>\n",
       "      <th>job_name</th>\n",
       "      <th>order_table</th>\n",
       "      <th>end_time</th>\n",
       "      <th>start_time</th>\n",
       "      <th>nodegroup</th>\n",
       "      <th>evt_time</th>\n",
       "      <th>new_value</th>\n",
       "      <th>old_value</th>\n",
       "      <th>v_date</th>\n",
       "      <th>server</th>\n",
       "    </tr>\n",
       "  </thead>\n",
       "  <tbody>\n",
       "    <tr>\n",
       "      <th>0</th>\n",
       "      <td>5i2vk2</td>\n",
       "      <td>BRTL_P_BRTL_BC_DAY_CARD_APL_EVT_1</td>\n",
       "      <td>BRTL_RTL2</td>\n",
       "      <td>2.018070e+13</td>\n",
       "      <td>2.018070e+13</td>\n",
       "      <td>GRP_TD_AGENT</td>\n",
       "      <td>2018-07-04 03:34:40</td>\n",
       "      <td>16.0</td>\n",
       "      <td>8.0</td>\n",
       "      <td>180704</td>\n",
       "      <td>2</td>\n",
       "    </tr>\n",
       "    <tr>\n",
       "      <th>1</th>\n",
       "      <td>5i2vk2</td>\n",
       "      <td>BRTL_P_BRTL_BC_DAY_CARD_APL_EVT_1</td>\n",
       "      <td>BRTL_RTL2</td>\n",
       "      <td>2.018070e+13</td>\n",
       "      <td>2.018070e+13</td>\n",
       "      <td>GRP_TD_AGENT</td>\n",
       "      <td>2018-07-04 03:34:31</td>\n",
       "      <td>8.0</td>\n",
       "      <td>1.0</td>\n",
       "      <td>180704</td>\n",
       "      <td>2</td>\n",
       "    </tr>\n",
       "    <tr>\n",
       "      <th>2</th>\n",
       "      <td>5i2x22</td>\n",
       "      <td>BRTL_P_BRTL_PH_PMACS_PROD_HLD_INC_SR_4</td>\n",
       "      <td>BRTL_RTL2</td>\n",
       "      <td>2.018070e+13</td>\n",
       "      <td>2.018070e+13</td>\n",
       "      <td>GRP_TD_AGENT</td>\n",
       "      <td>2018-07-04 05:43:07</td>\n",
       "      <td>16.0</td>\n",
       "      <td>8.0</td>\n",
       "      <td>180704</td>\n",
       "      <td>2</td>\n",
       "    </tr>\n",
       "    <tr>\n",
       "      <th>3</th>\n",
       "      <td>5i2x22</td>\n",
       "      <td>BRTL_P_BRTL_PH_PMACS_PROD_HLD_INC_SR_4</td>\n",
       "      <td>BRTL_RTL2</td>\n",
       "      <td>2.018070e+13</td>\n",
       "      <td>2.018070e+13</td>\n",
       "      <td>GRP_TD_AGENT</td>\n",
       "      <td>2018-07-04 05:35:54</td>\n",
       "      <td>2048.0</td>\n",
       "      <td>1.0</td>\n",
       "      <td>180704</td>\n",
       "      <td>2</td>\n",
       "    </tr>\n",
       "    <tr>\n",
       "      <th>4</th>\n",
       "      <td>5i2x22</td>\n",
       "      <td>BRTL_P_BRTL_PH_PMACS_PROD_HLD_INC_SR_4</td>\n",
       "      <td>BRTL_RTL2</td>\n",
       "      <td>2.018070e+13</td>\n",
       "      <td>2.018070e+13</td>\n",
       "      <td>GRP_TD_AGENT</td>\n",
       "      <td>2018-07-04 05:43:03</td>\n",
       "      <td>8.0</td>\n",
       "      <td>2048.0</td>\n",
       "      <td>180704</td>\n",
       "      <td>2</td>\n",
       "    </tr>\n",
       "  </tbody>\n",
       "</table>\n",
       "</div>"
      ],
      "text/plain": [
       "  order_id                                job_name order_table      end_time  \\\n",
       "0   5i2vk2       BRTL_P_BRTL_BC_DAY_CARD_APL_EVT_1   BRTL_RTL2  2.018070e+13   \n",
       "1   5i2vk2       BRTL_P_BRTL_BC_DAY_CARD_APL_EVT_1   BRTL_RTL2  2.018070e+13   \n",
       "2   5i2x22  BRTL_P_BRTL_PH_PMACS_PROD_HLD_INC_SR_4   BRTL_RTL2  2.018070e+13   \n",
       "3   5i2x22  BRTL_P_BRTL_PH_PMACS_PROD_HLD_INC_SR_4   BRTL_RTL2  2.018070e+13   \n",
       "4   5i2x22  BRTL_P_BRTL_PH_PMACS_PROD_HLD_INC_SR_4   BRTL_RTL2  2.018070e+13   \n",
       "\n",
       "     start_time     nodegroup             evt_time  new_value  old_value  \\\n",
       "0  2.018070e+13  GRP_TD_AGENT  2018-07-04 03:34:40       16.0        8.0   \n",
       "1  2.018070e+13  GRP_TD_AGENT  2018-07-04 03:34:31        8.0        1.0   \n",
       "2  2.018070e+13  GRP_TD_AGENT  2018-07-04 05:43:07       16.0        8.0   \n",
       "3  2.018070e+13  GRP_TD_AGENT  2018-07-04 05:35:54     2048.0        1.0   \n",
       "4  2.018070e+13  GRP_TD_AGENT  2018-07-04 05:43:03        8.0     2048.0   \n",
       "\n",
       "   v_date  server  \n",
       "0  180704       2  \n",
       "1  180704       2  \n",
       "2  180704       2  \n",
       "3  180704       2  \n",
       "4  180704       2  "
      ]
     },
     "execution_count": 14,
     "metadata": {},
     "output_type": "execute_result"
    }
   ],
   "source": [
    "ajob.head()"
   ]
  },
  {
   "cell_type": "code",
   "execution_count": 15,
   "metadata": {},
   "outputs": [],
   "source": [
    "ajob.to_csv('/data/ajob_join_evet.csv',index=False)"
   ]
  },
  {
   "cell_type": "code",
   "execution_count": null,
   "metadata": {},
   "outputs": [],
   "source": [
    "ajob = pd.read_csv(r'E:\\jupyter\\CTM\\data_src\\ajob\\ajob_%s_0.txt'%day,low_memory=False)\n",
    "ajob = ajob[ajob.]"
   ]
  }
 ],
 "metadata": {
  "kernelspec": {
   "display_name": "Python 3",
   "language": "python",
   "name": "python3"
  },
  "language_info": {
   "codemirror_mode": {
    "name": "ipython",
    "version": 3
   },
   "file_extension": ".py",
   "mimetype": "text/x-python",
   "name": "python",
   "nbconvert_exporter": "python",
   "pygments_lexer": "ipython3",
   "version": "3.6.3"
  }
 },
 "nbformat": 4,
 "nbformat_minor": 2
}
