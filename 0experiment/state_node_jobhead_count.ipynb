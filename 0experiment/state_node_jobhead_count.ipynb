{
 "cells": [
  {
   "cell_type": "code",
   "execution_count": null,
   "metadata": {},
   "outputs": [],
   "source": [
    "import pandas as pd"
   ]
  },
  {
   "cell_type": "code",
   "execution_count": null,
   "metadata": {},
   "outputs": [],
   "source": [
    "day = '180704'\n",
    "\n",
    "train_src = pd.read_csv(r'E:\\jupyter\\CTM\\data_processed\\ajob\\ajob_%s_1.csv'%day,low_memory=False)\n",
    "\n",
    "print(train_src.shape)\n",
    "train_src = train_src[train_src['order_time']<=20180704040000] #取9/10点之前实例化的总数据，基础数据\n",
    "print(train_src.shape)\n",
    "train_src.drop_duplicates('job_name', keep='last', inplace=True)\n",
    "print(train_src.shape)"
   ]
  },
  {
   "cell_type": "code",
   "execution_count": null,
   "metadata": {},
   "outputs": [],
   "source": [
    "train_src = pd.read_csv(r'E:\\jupyter\\CTM\\data_processed\\ajob\\ajob_%s_1.csv'%day,low_memory=False)\n",
    "\n",
    "print(train_src.shape)\n",
    "train_src = train_src[train_src['order_time']<=20180704040000] #取9/10点之前实例化的总数据，基础数据\n",
    "print(train_src.shape)\n",
    "train_src = train_src[train_src.odate==180704]\n",
    "print(train_src.shape)\n",
    "train_src.drop_duplicates('job_name', keep='last', inplace=True)\n",
    "print(train_src.shape)"
   ]
  },
  {
   "cell_type": "code",
   "execution_count": null,
   "metadata": {},
   "outputs": [],
   "source": [
    "train_src.groupby('nodegroup').nodegroup.count()"
   ]
  },
  {
   "cell_type": "code",
   "execution_count": null,
   "metadata": {},
   "outputs": [],
   "source": [
    "train_src.groupby('job_name_head').nodegroup.count()"
   ]
  },
  {
   "cell_type": "code",
   "execution_count": null,
   "metadata": {},
   "outputs": [],
   "source": []
  }
 ],
 "metadata": {
  "kernelspec": {
   "display_name": "Python 3",
   "language": "python",
   "name": "python3"
  },
  "language_info": {
   "codemirror_mode": {
    "name": "ipython",
    "version": 3
   },
   "file_extension": ".py",
   "mimetype": "text/x-python",
   "name": "python",
   "nbconvert_exporter": "python",
   "pygments_lexer": "ipython3",
   "version": "3.6.3"
  }
 },
 "nbformat": 4,
 "nbformat_minor": 2
}
