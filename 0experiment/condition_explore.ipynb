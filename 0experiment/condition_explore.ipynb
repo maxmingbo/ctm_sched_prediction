{
 "cells": [
  {
   "cell_type": "code",
   "execution_count": 1,
   "metadata": {},
   "outputs": [],
   "source": [
    "import pandas as pd\n",
    "\n"
   ]
  },
  {
   "cell_type": "code",
   "execution_count": 3,
   "metadata": {},
   "outputs": [
    {
     "name": "stdout",
     "output_type": "stream",
     "text": [
      "(291974, 7)\n",
      "(279234, 7)\n",
      "(279234, 7)\n"
     ]
    }
   ],
   "source": [
    "day = '181028'\n",
    "\n",
    "condition_i = pd.read_csv(r'E:\\jupyter\\CTM\\data_src\\condition_i\\conditin_i_%s.csv'%day)\n",
    "condition_o = pd.read_csv(r'E:\\jupyter\\CTM\\data_src\\condition_o\\conditin_o_%s.csv'%day)\n",
    "\n",
    "if day<'181001':\n",
    "    condition_i['odate'] = condition_i['odate'].apply(lambda x:'0'+str(x))\n",
    "else:\n",
    "    condition_i['odate'] = condition_i['odate'].apply(str)\n",
    "    \n",
    "day_i = day[-4:]\n",
    "#去重\n",
    "print(condition_i.shape)\n",
    "condition_i = condition_i[condition_i.odate==day_i]\n",
    "print(condition_i.shape)\n",
    "condition_i.drop_duplicates(subset=['up','down'],keep='last')\n",
    "print(condition_i.shape)"
   ]
  },
  {
   "cell_type": "code",
   "execution_count": 7,
   "metadata": {},
   "outputs": [
    {
     "name": "stdout",
     "output_type": "stream",
     "text": [
      "(581004, 7)\n",
      "(581004, 7)\n",
      "(581004, 7)\n"
     ]
    }
   ],
   "source": [
    "if day<'181001':\n",
    "    condition_o['odate'] = condition_o['odate'].apply(lambda x:'0'+str(x))\n",
    "else:\n",
    "    condition_o['odate'] = condition_o['odate'].apply(str)\n",
    "    \n",
    "day_i = day[-4:]\n",
    "#去重\n",
    "print(condition_o.shape)\n",
    "condition_o = condition_o[condition_o.odate==day_i]\n",
    "print(condition_o.shape)\n",
    "condition_o.drop_duplicates(subset=['up','down'],keep='last')\n",
    "print(condition_o.shape)"
   ]
  },
  {
   "cell_type": "code",
   "execution_count": 13,
   "metadata": {},
   "outputs": [
    {
     "name": "stdout",
     "output_type": "stream",
     "text": [
      "(303071, 7)\n"
     ]
    }
   ],
   "source": [
    "condition_o.drop_duplicates(subset=['up','down'],keep='last',inplace=True)\n",
    "print(condition_o.shape)"
   ]
  },
  {
   "cell_type": "code",
   "execution_count": 4,
   "metadata": {},
   "outputs": [
    {
     "data": {
      "text/plain": [
       "(308750, 7)"
      ]
     },
     "execution_count": 4,
     "metadata": {},
     "output_type": "execute_result"
    }
   ],
   "source": [
    "condition_o[condition_o['sign']=='+'].shape"
   ]
  },
  {
   "cell_type": "code",
   "execution_count": 5,
   "metadata": {},
   "outputs": [
    {
     "data": {
      "text/plain": [
       "(291970, 7)"
      ]
     },
     "execution_count": 5,
     "metadata": {},
     "output_type": "execute_result"
    }
   ],
   "source": [
    "condition_o[condition_o['sign']=='-'].shape"
   ]
  },
  {
   "cell_type": "code",
   "execution_count": 8,
   "metadata": {},
   "outputs": [],
   "source": [
    "condition = pd.concat([condition_o[['up','down']],condition_i[['up','down']]],ignore_index=True)"
   ]
  },
  {
   "cell_type": "code",
   "execution_count": 9,
   "metadata": {},
   "outputs": [
    {
     "data": {
      "text/plain": [
       "(860238, 2)"
      ]
     },
     "execution_count": 9,
     "metadata": {},
     "output_type": "execute_result"
    }
   ],
   "source": [
    "condition.shape"
   ]
  },
  {
   "cell_type": "code",
   "execution_count": 10,
   "metadata": {},
   "outputs": [
    {
     "data": {
      "text/plain": [
       "(303071, 2)"
      ]
     },
     "execution_count": 10,
     "metadata": {},
     "output_type": "execute_result"
    }
   ],
   "source": [
    "condition.drop_duplicates().shape"
   ]
  },
  {
   "cell_type": "code",
   "execution_count": null,
   "metadata": {},
   "outputs": [],
   "source": []
  }
 ],
 "metadata": {
  "kernelspec": {
   "display_name": "Python 3",
   "language": "python",
   "name": "python3"
  },
  "language_info": {
   "codemirror_mode": {
    "name": "ipython",
    "version": 3
   },
   "file_extension": ".py",
   "mimetype": "text/x-python",
   "name": "python",
   "nbconvert_exporter": "python",
   "pygments_lexer": "ipython3",
   "version": "3.6.3"
  }
 },
 "nbformat": 4,
 "nbformat_minor": 2
}
